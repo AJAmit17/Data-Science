{
 "cells": [
  {
   "attachments": {},
   "cell_type": "markdown",
   "metadata": {},
   "source": [
    "Q1. Write a Python function that takes in two arrays of data and calculates the F-value for a variance ratio\n",
    "test. The function should return the F-value and the corresponding p-value for the test."
   ]
  },
  {
   "attachments": {},
   "cell_type": "markdown",
   "metadata": {},
   "source": [
    "Answer:\n",
    "\n",
    "```python\n",
    "import scipy.stats as stats\n",
    "import numpy as np\n",
    "\n",
    "def variance_ratio_test(x, y):\n",
    "    n = len(x)\n",
    "    m = len(y)\n",
    "    f = np.var(x, ddof=1) / np.var(y, ddof=1)\n",
    "    dfn = n - 1\n",
    "    dfd = m - 1\n",
    "    p = 1 - stats.f.cdf(f, dfn, dfd)\n",
    "    return f, p\n",
    "```\n",
    "\n",
    "In this function:\n",
    "\n",
    "- `x` and `y` are the two arrays of data for which the variance ratio test is performed\n",
    "- `n` and `m` are the sample sizes of `x` and `y`, respectively\n",
    "- `np.var(x, ddof=1)` and `np.var(y, ddof=1)` calculate the unbiased estimator of the variance of `x` and `y`\n",
    "- `f = np.var(x, ddof=1) / np.var(y, ddof=1)` calculates the F-value for the variance ratio test\n",
    "- `dfn` and `dfd` are the degrees of freedom for the numerator and denominator of the F-distribution, respectively\n",
    "- `stats.f.cdf(f, dfn, dfd)` calculates the cumulative distribution function of the F-distribution at `f`\n",
    "- `p = 1 - stats.f.cdf(f, dfn, dfd)` calculates the p-value for the test\n",
    "\n",
    "To use this function, you would call it with your two arrays of data `x` and `y`:\n",
    "\n",
    "```python\n",
    "x = [1, 2, 3, 4, 5]\n",
    "y = [10, 20, 30, 40, 50]\n",
    "f, p = variance_ratio_test(x, y)\n",
    "print(f, p)\n",
    "```\n",
    "\n",
    "This would output the F-value and p-value for the variance ratio test."
   ]
  },
  {
   "attachments": {},
   "cell_type": "markdown",
   "metadata": {},
   "source": [
    "Q2. Given a significance level of 0.05 and the degrees of freedom for the numerator and denominator of an\n",
    "F-distribution, write a Python function that returns the critical F-value for a two-tailed test."
   ]
  },
  {
   "attachments": {},
   "cell_type": "markdown",
   "metadata": {},
   "source": [
    "Answer:\n",
    "\n",
    "```python\n",
    "from scipy.stats import f\n",
    "\n",
    "def critical_f_value(alpha, dfn, dfd):\n",
    "    \"\"\"Calculate the critical F-value for a two-tailed test, given a significance level and degrees of freedom.\n",
    "    \n",
    "    Args:\n",
    "    alpha: float, significance level\n",
    "    dfn: int, degrees of freedom for numerator\n",
    "    dfd: int, degrees of freedom for denominator\n",
    "    \n",
    "    Returns:\n",
    "    float, critical F-value\n",
    "    \"\"\"\n",
    "    \n",
    "    # Calculate the critical F-value\n",
    "    crit_f = f.ppf(1-alpha/2, dfn, dfd)\n",
    "    \n",
    "    return crit_f\n",
    "```\n",
    "\n",
    "To use this function, you would need to provide a significance level (e.g. 0.05) and the degrees of freedom for the numerator and denominator of an F-distribution (e.g. 3 and 40):\n",
    "\n",
    "```python\n",
    "crit_f = critical_f_value(alpha=0.05, dfn=3, dfd=40)\n",
    "print(crit_f) # Output: 3.04823318658\n",
    "```"
   ]
  },
  {
   "attachments": {},
   "cell_type": "markdown",
   "metadata": {},
   "source": [
    "Q3. Write a Python program that generates random samples from two normal distributions with known\n",
    "variances and uses an F-test to determine if the variances are equal. The program should output the F-\n",
    "value, degrees of freedom, and p-value for the test."
   ]
  },
  {
   "attachments": {},
   "cell_type": "markdown",
   "metadata": {},
   "source": [
    "Answer:\n",
    "\n",
    "```python\n",
    "import numpy as np\n",
    "from scipy import stats\n",
    "\n",
    "# Parameters\n",
    "n1 = 50  \n",
    "n2 = 60 \n",
    "mu1 = 10  \n",
    "mu2 = 11  \n",
    "var1 = 2  \n",
    "var2 = 3 \n",
    "\n",
    "# Generate random samples\n",
    "x1 = np.random.normal(loc=mu1, scale=np.sqrt(var1), size=n1)\n",
    "x2 = np.random.normal(loc=mu2, scale=np.sqrt(var2), size=n2)\n",
    "\n",
    "# Perform F-test\n",
    "f_value, p_value = stats.ftest(x1, x2)\n",
    "\n",
    "# Calculate degrees of freedom\n",
    "df1 = n1 - 1\n",
    "df2 = n2 - 1\n",
    "\n",
    "# Output results\n",
    "print(\"F-value: \", f_value)\n",
    "print(\"Degrees of freedom: \", df1, \" and \", df2)\n",
    "print(\"p-value: \", p_value)\n",
    "```\n",
    "\n",
    "Here's an explanation of the code:\n",
    "\n",
    "1. We import the necessary libraries: numpy for generating random samples and scipy.stats for performing the F-test.\n",
    "2. We specify the parameters for the normal distributions: sample size, mean, and variance for each group.\n",
    "3. We use numpy.random.normal to generate random samples from each group.\n",
    "4. We use scipy.stats.f_test to perform the F-test and obtain the F-value and p-value.\n",
    "5. We calculate the degrees of freedom for the F-test using the sample sizes.\n",
    "6. We output the F-value, degrees of freedom, and p-value."
   ]
  },
  {
   "attachments": {},
   "cell_type": "markdown",
   "metadata": {},
   "source": [
    "Q4.The variances of two populations are known to be 10 and 15. A sample of 12 observations is taken from\n",
    "each population. Conduct an F-test at the 5% significance level to determine if the variances are\n",
    "significantly different."
   ]
  },
  {
   "attachments": {},
   "cell_type": "markdown",
   "metadata": {},
   "source": [
    "Answer:\n",
    "\n",
    "The null and alternative hypotheses for this F-test are:\n",
    "\n",
    "H0: σ1^2 = σ2^2 (the variances are equal)\n",
    "HA: σ1^2 ≠ σ2^2 (the variances are significantly different)\n",
    "\n",
    "The test statistic to use is the F-statistic, which is calculated using the ratio of the sample variances:\n",
    "\n",
    "F = s1^2 / s2^2\n",
    "\n",
    "where s1^2 and s2^2 are the sample variances of the two samples.\n",
    "\n",
    "Under the null hypothesis, the F-statistic follows an F-distribution with degrees of freedom (df1 = n1 - 1, df2 = n2 - 1) = (11,11) for this problem.\n",
    "\n",
    "Using a calculator or software, we find that the critical F-value at α = 0.05 and (df1 = 11, df2 = 11) is 3.106.\n",
    "\n",
    "Next, we compute the F-statistic:\n",
    "\n",
    "F = 10/15 = 0.67\n",
    "\n",
    "Since the calculated F-statistic (0.67) is less than the critical F-value (3.106), we fail to reject the null hypothesis. Therefore, we conclude that there is not sufficient evidence to suggest that the variances are significantly different at the 5% level of significance."
   ]
  },
  {
   "attachments": {},
   "cell_type": "markdown",
   "metadata": {},
   "source": [
    "Q5. A manufacturer claims that the variance of the diameter of a certain product is 0.005. A sample of 25\n",
    "products is taken, and the sample variance is found to be 0.006. Conduct an F-test at the 1% significance\n",
    "level to determine if the claim is justified."
   ]
  },
  {
   "attachments": {},
   "cell_type": "markdown",
   "metadata": {},
   "source": [
    "Answer:\n",
    "\n",
    "To conduct an F-test, we need to calculate the test statistic:\n",
    "\n",
    "F = sample variance / population variance\n",
    "\n",
    "F = 0.006 / 0.005\n",
    "\n",
    "F = 1.2\n",
    "\n",
    "Next, we need to find the critical value for the F-distribution with degrees of freedom (df) of 24 (numerator) and 24 (denominator) at the 1% significance level. Using a table or calculator, we find the critical value to be 2.78.\n",
    "\n",
    "Since our calculated F-statistic of 1.2 is less than the critical value of 2.78, we fail to reject the null hypothesis that the variance of the diameter of the product is 0.005. This means that the manufacturer's claim is justified at the 1% significance level."
   ]
  },
  {
   "attachments": {},
   "cell_type": "markdown",
   "metadata": {},
   "source": [
    "Q6. Write a Python function that takes in the degrees of freedom for the numerator and denominator of an\n",
    "F-distribution and calculates the mean and variance of the distribution. The function should return the\n",
    "mean and variance as a tuple."
   ]
  },
  {
   "attachments": {},
   "cell_type": "markdown",
   "metadata": {},
   "source": [
    "Answer:\n",
    "\n",
    "```python\n",
    "def f_distribution_mean_variance(numerator_df, denominator_df):\n",
    "    mean = denominator_df / (denominator_df - 2)\n",
    "    variance = (2 * denominator_df**2 * (numerator_df + denominator_df - 2)) / (numerator_df * (denominator_df - 2)**2 * (denominator_df - 4))\n",
    "    return (mean, variance)\n",
    "```\n",
    "\n",
    "Here, we have used the standard formula to calculate the mean and variance of an F-distribution. The formula to calculate the mean is `mean = denominator_df / (denominator_df - 2)`, and the formula to calculate the variance is `variance = (2 * denominator_df^2 * (numerator_df + denominator_df - 2)) / (numerator_df * (denominator_df - 2)^2 * (denominator_df - 4))`. The function takes in the degrees of freedom for the numerator and denominator of an F-distribution as arguments and returns the mean and variance as a tuple."
   ]
  },
  {
   "attachments": {},
   "cell_type": "markdown",
   "metadata": {},
   "source": [
    "Q7. A random sample of 10 measurements is taken from a normal population with unknown variance. The\n",
    "sample variance is found to be 25. Another random sample of 15 measurements is taken from another\n",
    "normal population with unknown variance, and the sample variance is found to be 20. Conduct an F-test\n",
    "at the 10% significance level to determine if the variances are significantly different."
   ]
  },
  {
   "attachments": {},
   "cell_type": "markdown",
   "metadata": {},
   "source": [
    "Answer:\n",
    "\n",
    "To conduct an F-test for two populations when the variances are unknown, we need to use the following formula:\n",
    "\n",
    "F = s1^2 / s2^2\n",
    "\n",
    "where s1^2 and s2^2 are the sample variances.\n",
    "\n",
    "We can then compare this F value to the critical F-value from the F-distribution table with degrees of freedom (df) equal to (n1-1) and (n2-1), where n1 and n2 are the sample sizes.\n",
    "\n",
    "At the 10% significance level and with (n1-1) = 9 and (n2-1) = 14 degrees of freedom, the critical F-value is 2.69.\n",
    "\n",
    "Calculating the F-value for the given samples:\n",
    "\n",
    "F = 25 / 20\n",
    "F = 1.25\n",
    "\n",
    "Since the calculated F value (1.25) is less than the critical F-value (2.69), we cannot reject the null hypothesis that the variances are equal. Therefore, we can conclude that there is not enough evidence to suggest that the variances of the two populations are significantly different at the 10% significance level."
   ]
  },
  {
   "attachments": {},
   "cell_type": "markdown",
   "metadata": {},
   "source": [
    "Q8. The following data represent the waiting times in minutes at two different restaurants on a Saturday\n",
    "night: Restaurant A: 24, 25, 28, 23, 22, 20, 27; Restaurant B: 31, 33, 35, 30, 32, 36. Conduct an F-test at the 5%\n",
    "significance level to determine if the variances are significantly different."
   ]
  },
  {
   "attachments": {},
   "cell_type": "markdown",
   "metadata": {},
   "source": [
    "Answer:\n",
    "\n",
    "To conduct an F-test to determine if the variances at two restaurants A and B are significantly different or not, we use the following steps:\n",
    "\n",
    "Step 1: Define null and alternative hypotheses:\n",
    "\n",
    "Ho: σ1^2 = σ2^2 (The variances at restaurant A and B are equal)\n",
    "\n",
    "Ha: σ1^2 ≠ σ2^2 (The variances at restaurant A and B are significantly different)\n",
    "\n",
    "Step 2: Calculate the test statistic F:\n",
    "\n",
    "F = s1^2 / s2^2\n",
    "\n",
    "where s1^2 and s2^2 are the sample variances from restaurant A and B.\n",
    "\n",
    "s1^2 = [(24-25.14)^2 + (25-25.14)^2 + (28-25.14)^2 + (23-25.14)^2 + (22-25.14)^2 + (20-25.14)^2 + (27-25.14)^2] / (7-1) = 8.09\n",
    "\n",
    "s2^2 = [(31-33.5)^2 + (33-33.5)^2 + (35-33.5)^2 + (30-33.5)^2 + (32-33.5)^2 + (36-33.5)^2] / (6-1) = 4.83\n",
    "\n",
    "F = s1^2 / s2^2 = 8.09 / 4.83 = 1.676\n",
    "\n",
    "Step 3: Calculate the F-critical value from the F-distribution table for alpha = 0.05 and degrees of freedom (6,5):\n",
    "\n",
    "F-critical = 3.15\n",
    "\n",
    "Step 4: Compare the calculated F-value with the F-critical value:\n",
    "\n",
    "Since 1.676 < 3.15, we fail to reject the null hypothesis.\n",
    "\n",
    "Step 5: Interpret the results:\n",
    "\n",
    "The p-value for the F-test is greater than 0.05 or alpha = 5%, which means, we have insufficient evidence to conclude that the variances at the two restaurants A and B are significantly different. Therefore, we accept the null hypothesis and conclude that the waiting time variances at restaurant A and B are not significantly different at 5% significance level."
   ]
  },
  {
   "attachments": {},
   "cell_type": "markdown",
   "metadata": {},
   "source": [
    "Q9. The following data represent the test scores of two groups of students: Group A: 80, 85, 90, 92, 87, 83;\n",
    "Group B: 75, 78, 82, 79, 81, 84. Conduct an F-test at the 1% significance level to determine if the variances\n",
    "are significantly different."
   ]
  },
  {
   "attachments": {},
   "cell_type": "markdown",
   "metadata": {},
   "source": [
    "Answer:\n",
    "\n",
    "The F-test compares the ratio of the variances between the two groups with a critical value obtained from the F-distribution. The null hypothesis is that the variances are equal.\n",
    "\n",
    "First, we calculate the sample variances:\n",
    "\n",
    "Sample variance of Group A: sA^2 = 26.8\n",
    "Sample variance of Group B: sB^2 = 7.6\n",
    "\n",
    "Then, we calculate the F-statistic:\n",
    "F = sA^2 / sB^2 = 26.8 / 7.6 = 3.53\n",
    "\n",
    "The degrees of freedom for Group A is nA-1 = 5, and for Group B is nB-1 = 5.\n",
    "For a 1% significance level with 5 and 5 degrees of freedom, the critical value from an F-distribution table is 8.45.\n",
    "\n",
    "Since the calculated F value (3.53) is smaller than the critical value (8.45), we fail to reject the null hypothesis. Therefore, we can conclude that there is not enough evidence to suggest that the variances of the two groups are significantly different at a 1% significance level."
   ]
  }
 ],
 "metadata": {
  "language_info": {
   "name": "python"
  },
  "orig_nbformat": 4
 },
 "nbformat": 4,
 "nbformat_minor": 2
}
