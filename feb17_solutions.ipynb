{
 "cells": [
  {
   "attachments": {},
   "cell_type": "markdown",
   "metadata": {},
   "source": [
    "Q1. What is MongoDB? Explain non-relational databases in short. In which scenarios it is preferred to use\n",
    "MongoDB over SQL databases?"
   ]
  },
  {
   "attachments": {},
   "cell_type": "markdown",
   "metadata": {},
   "source": [
    "Answer:\n",
    "\n",
    "MongoDB is a non-relational, document-based database that is designed for high scalability, performance, and availability. Non-relational databases are those databases that do not use relational models to store data. Instead, they use other data models such as hierarchical, key-value, document-based or graph-based models. \n",
    "\n",
    "Non-relational databases are preferred over SQL databases when:\n",
    "\n",
    "1. The data is unstructured or semi-structured, as non-relational databases are designed to handle these types of data better.\n",
    "2. There is a need for high scalability, as non-relational databases are more scalable than SQL databases.\n",
    "3. There is a need for high speed reads and writes, as non-relational databases are designed to offer faster performance.\n",
    "4. There is a need for horizontal scaling, as non-relational databases can easily be scaled out across multiple servers.\n",
    "\n",
    "MongoDB is preferred over SQL databases in scenarios where:\n",
    "\n",
    "1. There is a need for handling semi-structured or unstructured data.\n",
    "2. The data is constantly changing or evolving, as MongoDB can easily handle schema changes.\n",
    "3. There is a need for high scalability and high availability.\n",
    "4. The application requires high-speed reads and writes."
   ]
  },
  {
   "attachments": {},
   "cell_type": "markdown",
   "metadata": {},
   "source": [
    "Q2. State and Explain the features of MongoDB."
   ]
  },
  {
   "attachments": {},
   "cell_type": "markdown",
   "metadata": {},
   "source": [
    "Answer:\n",
    "\n",
    "MongoDB is a document-oriented NoSQL database system that is open-source and has gained popularity for its dynamic schema, scalability, and high performance. The following are some of the key features of MongoDB:\n",
    "\n",
    "1. Document Data Model: MongoDB is based on a document data model that is more flexible and intuitive than the traditional table-based relational databases. In MongoDB, data is stored in JSON-like documents that can be easily queried, indexed, and manipulated.\n",
    "\n",
    "2. Dynamic Schema: MongoDB provides dynamic schema support, which means that you can create and modify your data structure on the fly. This feature enables you to iterate at a faster pace and accommodate changes in your application requirements.\n",
    "\n",
    "3. High Performance: MongoDB has the capability to handle large amounts of data and is very fast when it comes to read and write operations. The system uses a memory-mapped file system that allows it to be faster and more efficient than other databases.\n",
    "\n",
    "4. Automatic Sharding: MongoDB is designed to scale horizontally with automatic data partitioning and load balancing across distributed clusters. This feature makes the system incredibly scalable and fault-tolerant.\n",
    "\n",
    "5. Indexing: MongoDB includes many indexing types such as sparse, hash, geospatial, and text. Indexes can be used to speed up query performance, minimize disk and memory usage, and improve data retrieval.\n",
    "\n",
    "6. Aggregation: MongoDB provides a rich set of aggregation features that allow you to query and analyze your data in complex ways. It includes support for grouping, filtering, sorting and other advanced querying techniques.\n",
    "\n",
    "Overall, MongoDB is a powerful and flexible database system that enables developers to build innovative and scalable applications with ease."
   ]
  },
  {
   "attachments": {},
   "cell_type": "markdown",
   "metadata": {},
   "source": [
    "Q3. Write a code to connect MongoDB to Python. Also, create a database and a collection in MongoDB."
   ]
  },
  {
   "attachments": {},
   "cell_type": "markdown",
   "metadata": {},
   "source": [
    "Answer:\n",
    "\n",
    "To connect MongoDB to Python, you first need to install the pymongo library. You can install it by running the following command in your terminal or command prompt:\n",
    "\n",
    "```python\n",
    "pip install pymongo\n",
    "```\n",
    "\n",
    "Once you have installed pymongo, you can connect to MongoDB in Python using the following code:\n",
    "\n",
    "```python\n",
    "import pymongo\n",
    "\n",
    "client = pymongo.MongoClient(\"mongodb://localhost:27017/\") #MongoDB client\n",
    "\n",
    "mydb = client[\"mydatabase\"] #database\n",
    "\n",
    "mycol = mydb[\"customers\"] #collection\n",
    "```\n",
    "\n",
    "In the above code, we first create a MongoClient object and pass the URL of our MongoDB server to it. We then create a database called \"mydatabase\" and a collection called \"customers\" inside it.\n",
    "\n",
    "Note: Make sure that your MongoDB server is running before you run this code. You can start your MongoDB server by running the \"mongod\" command in your terminal or command prompt."
   ]
  },
  {
   "attachments": {},
   "cell_type": "markdown",
   "metadata": {},
   "source": [
    "Q4. Using the database and the collection created in question number 3, write a code to insert one record,\n",
    "and insert many records. Use the find() and find_one() methods to print the inserted record."
   ]
  },
  {
   "attachments": {},
   "cell_type": "markdown",
   "metadata": {},
   "source": [
    "Answer:\n",
    "\n",
    "To connect MongoDB to Python, we need to install the pymongo package. You can install it using the following command:\n",
    "\n",
    "```python\n",
    "pip install pymongo\n",
    "```\n",
    "\n",
    "After installing the package, you can use the following code to connect MongoDB to Python:\n",
    "\n",
    "```python\n",
    "import pymongo\n",
    "\n",
    "client = pymongo.MongoClient(\"mongodb://localhost:27017/\")\n",
    "\n",
    "mydb = client[\"mydatabase\"]\n",
    "mycol = mydb[\"customers\"]\n",
    "```\n",
    "\n",
    "To insert a single record, you can use the insert_one() method:\n",
    "\n",
    "```python\n",
    "mydict = { \"name\": \"John\", \"address\": \"Highway 37\" }\n",
    "x = mycol.insert_one(mydict)\n",
    "print(x.inserted_id)\n",
    "```\n",
    "\n",
    "To insert multiple records, you can use the insert_many() method:\n",
    "\n",
    "```python\n",
    "mylist = [\n",
    "  { \"name\": \"Amy\", \"address\": \"Apple st 652\"},\n",
    "  { \"name\": \"Hannah\", \"address\": \"Mountain 21\"},\n",
    "  { \"name\": \"Michael\", \"address\": \"Valley 345\"},\n",
    "  { \"name\": \"Sandy\", \"address\": \"Ocean blvd 2\"},\n",
    "  { \"name\": \"Betty\", \"address\": \"Green Grass 1\"},\n",
    "  { \"name\": \"Richard\", \"address\": \"Sky st 331\"}\n",
    "]\n",
    "x = mycol.insert_many(mylist)\n",
    "print(x.inserted_ids)\n",
    "```\n",
    "\n",
    "To print the inserted record, you can use the find() and find_one() methods:\n",
    "\n",
    "```python\n",
    "for x in mycol.find():\n",
    "  print(x)\n",
    "\n",
    "x = mycol.find_one()\n",
    "print(x)\n",
    "```"
   ]
  },
  {
   "attachments": {},
   "cell_type": "markdown",
   "metadata": {},
   "source": [
    "Q5. Explain how you can use the find() method to query the MongoDB database. Write a simple code to\n",
    "demonstrate this."
   ]
  },
  {
   "attachments": {},
   "cell_type": "markdown",
   "metadata": {},
   "source": [
    "Answer:\n",
    "\n",
    "The `find()` method is used to query data from a MongoDB collection. This method returns a cursor object that can be used to iterate over the matching documents.\n",
    "\n",
    "Syntax:\n",
    "\n",
    "```\n",
    "db.collection.find(query, projection)\n",
    "```\n",
    "\n",
    "- `query`: this parameter is used to specify the conditions that the documents must meet to be considered a match. It can be an empty object (`{}`) to match all documents in the collection.\n",
    "- `projection`: this parameter is optional and is used to limit the fields returned in the matching documents.\n",
    "\n",
    "Example:\n",
    "\n",
    "Suppose we have a collection named `users` in the `testdb` database with the following documents:\n",
    "\n",
    "```\n",
    "{_id: 1, name: \"John\", age: 26, city: \"New York\"}\n",
    "{_id: 2, name: \"Mary\", age: 30, city: \"Boston\"}\n",
    "{_id: 3, name: \"Paul\", age: 21, city: \"Chicago\"}\n",
    "{_id: 4, name: \"Lisa\", age: 28, city: \"Los Angeles\"}\n",
    "```\n",
    "\n",
    "We can use the `find()` method to query the `users` collection based on certain conditions. For example, to find all users from New York, we can write the following code:\n",
    "\n",
    "```\n",
    "db.users.find({city: \"New York\"})\n",
    "```\n",
    "\n",
    "This will return a cursor object that we can use to iterate over the matching documents. We can also use the `projection` parameter to limit the fields returned in the matching documents. For example, to only return the name and age fields, we can write the following code:\n",
    "\n",
    "```\n",
    "db.users.find({city: \"New York\"}, {name: 1, age: 1, _id: 0})\n",
    "```\n",
    "This will return the following result:\n",
    "```\n",
    "{ \"name\" : \"John\", \"age\" : 26 }\n",
    "```"
   ]
  },
  {
   "attachments": {},
   "cell_type": "markdown",
   "metadata": {},
   "source": [
    "Q6. Explain the sort() method. Give an example to demonstrate sorting in MongoDB."
   ]
  },
  {
   "attachments": {},
   "cell_type": "markdown",
   "metadata": {},
   "source": [
    "Answer:\n",
    "\n",
    "The sort() method in MongoDB is used to sort the documents in a collection based on a field or fields. The method takes in a document as an argument that specifies the fields to be sorted and the order in which they should be sorted.\n",
    "\n",
    "For example, consider a collection named \"employees\" with documents containing the fields \"name\", \"salary\" and \"age\". To sort the documents by salary in descending order, we can use the following command:\n",
    "\n",
    "```\n",
    "db.employees.find().sort({salary: -1})\n",
    "```\n",
    "\n",
    "This command will return all the documents in the \"employees\" collection sorted by salary in descending order.\n",
    "\n",
    "Alternatively, we can also sort the documents by multiple fields, like salary and age. The following command sorts the documents by salary in ascending order and then by age in descending order:\n",
    "\n",
    "```\n",
    "db.employees.find().sort({salary: 1, age: -1})\n",
    "```\n",
    "\n",
    "This command will return all the documents in the \"employees\" collection sorted first by salary in ascending order and then by age in descending order."
   ]
  },
  {
   "attachments": {},
   "cell_type": "markdown",
   "metadata": {},
   "source": [
    "Q7. Explain why delete_one(), delete_many(), and drop() is used."
   ]
  },
  {
   "attachments": {},
   "cell_type": "markdown",
   "metadata": {},
   "source": [
    "Answer:\n",
    "\n",
    "The methods delete_one(), delete_many(), and drop() in MongoDB are used for deleting data from a database. \n",
    "\n",
    "- delete_one() method is used to delete a single document that matches the given filter criteria. It takes one argument, which is a filter that specifies which document to delete.\n",
    "\n",
    "- delete_many() method is used to delete multiple documents that match the given filter criteria. It takes one argument, which is a filter that specifies which documents to delete.\n",
    "\n",
    "- drop() method is used to delete an entire collection from the database. It does not take any arguments.\n",
    "\n",
    "These methods are used when data is no longer needed or is incorrect and needs to be removed from the database. They give developers the flexibility to remove data based on certain criteria, whether it is a single document or multiple documents. However, it is important to use these methods with caution, as they can permanently remove data from the database. It is recommended to create backups before using these methods, especially for important data."
   ]
  }
 ],
 "metadata": {
  "language_info": {
   "name": "python"
  },
  "orig_nbformat": 4
 },
 "nbformat": 4,
 "nbformat_minor": 2
}
