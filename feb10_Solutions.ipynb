{
 "cells": [
  {
   "attachments": {},
   "cell_type": "markdown",
   "metadata": {},
   "source": [
    "Q1. Which function is used to open a file? What are the different modes of opening a file? Explain each mode \n",
    "of file opening."
   ]
  },
  {
   "attachments": {},
   "cell_type": "markdown",
   "metadata": {},
   "source": [
    "Answer: 'open()' functions is used to open a file. \n",
    "\n",
    "Different modes of opening a fie are:\n",
    "\n",
    "1. Read Mode (‘r’): This mode is used when the program wants to read data from the file. In read mode, the file is opened for reading only, and the program cannot write to the file. If the file does not exist, an error occurs.\n",
    "\n",
    "2. Write Mode (‘w’): This mode is used when the program wants to write data to the file. In write mode, the file is opened for writing only, and the program cannot read from the file. If the file does not exist, it will be created. If the file already exists, its contents will be overwritten.\n",
    "\n",
    "3. Append Mode (‘a’): This mode is used when the program wants to add data to the end of the file. In append mode, the file is opened for writing only, but the program can only add data to the end of the file, not modify or delete existing data. If the file does not exist, it will be created.\n",
    "\n",
    "4. Read and Write Mode (‘r+’): This mode is used when the program wants to read and write data to the file. In read and write mode, the file is opened for both reading and writing. If the file does not exist, an error occurs.\n",
    "\n",
    "5. Write and Read Mode (‘w+’): This mode is used when the program wants to read and write data to the file. In write and read mode, the file is opened for both reading and writing. If the file does not exist, it will be created. If the file already exists, its contents will be overwritten.\n",
    "\n",
    "6. Append and Read Mode (‘a+’): This mode is used when the program wants to read and add data to the end of the file. In append and read mode, the file is opened for both reading and writing, but the program can only add data to the end of the file, not modify or delete existing data. If the file does not exist, it will be created."
   ]
  },
  {
   "attachments": {},
   "cell_type": "markdown",
   "metadata": {},
   "source": [
    "Q2. Why close() function is used? Why is it important to close a file?"
   ]
  },
  {
   "attachments": {},
   "cell_type": "markdown",
   "metadata": {},
   "source": [
    "Answer: The close() function is used to close a file that was opened for reading or writing. This function is provided by most programming languages to release the resources used by the file, such as memory and system file handles.So it is important to close a file after it is no longer needed to free up system resources, ensure data integrity, and allow other programs to access the file. The close() function is used to close a file and should be called whenever a program is finished using a file."
   ]
  },
  {
   "attachments": {},
   "cell_type": "markdown",
   "metadata": {},
   "source": [
    "Q3. Write a python program to create a text file. Write ‘I want to become a Data Scientist’ in that file. Then \n",
    "close the file. Open this file and read the content of the file. "
   ]
  },
  {
   "attachments": {},
   "cell_type": "markdown",
   "metadata": {},
   "source": [
    "Answer: "
   ]
  },
  {
   "cell_type": "code",
   "execution_count": 3,
   "metadata": {},
   "outputs": [],
   "source": [
    "f=open(\"text.txt\",\"w\")\n",
    "f.write(\"I want to become a Data Scientist\")\n",
    "f.close()"
   ]
  },
  {
   "cell_type": "code",
   "execution_count": 4,
   "metadata": {},
   "outputs": [
    {
     "name": "stdout",
     "output_type": "stream",
     "text": [
      "I want to become a Data Scientist\n"
     ]
    }
   ],
   "source": [
    "f=open(\"text.txt\",\"r\")\n",
    "print(f.read())"
   ]
  },
  {
   "attachments": {},
   "cell_type": "markdown",
   "metadata": {},
   "source": [
    "Q4. Explain the following with python code: read(), readline() and readlines()"
   ]
  },
  {
   "attachments": {},
   "cell_type": "markdown",
   "metadata": {},
   "source": [
    "Answer: \n",
    "\n",
    "1. read(): The read() method is used to read the entire contents of a file into a string. It takes an optional parameter that specifies the number of bytes to read from the file. If no parameter is passed, it reads the entire file"
   ]
  },
  {
   "cell_type": "code",
   "execution_count": 5,
   "metadata": {},
   "outputs": [
    {
     "name": "stdout",
     "output_type": "stream",
     "text": [
      "I want to become a Data Scientist\n"
     ]
    }
   ],
   "source": [
    "with open('text.txt', 'r') as f:\n",
    "    contents = f.read()\n",
    "    print(contents)"
   ]
  },
  {
   "attachments": {},
   "cell_type": "markdown",
   "metadata": {},
   "source": [
    "2. readline(): The readline() method is used to read a single line from a file. It reads up to and including the first newline character (\\n) and returns the line as a string"
   ]
  },
  {
   "cell_type": "code",
   "execution_count": 6,
   "metadata": {},
   "outputs": [
    {
     "name": "stdout",
     "output_type": "stream",
     "text": [
      "I want to become a Data Scientist\n"
     ]
    }
   ],
   "source": [
    "with open('text.txt', 'r') as f:\n",
    "    line = f.readline()\n",
    "    while line:\n",
    "        print(line)\n",
    "        line = f.readline()"
   ]
  },
  {
   "attachments": {},
   "cell_type": "markdown",
   "metadata": {},
   "source": [
    "3. readlines(): This method reads the entire contents of a file and returns them as a list of strings. Each element of the list is a single line from the file."
   ]
  },
  {
   "cell_type": "code",
   "execution_count": 8,
   "metadata": {},
   "outputs": [
    {
     "name": "stdout",
     "output_type": "stream",
     "text": [
      "I want to become a Data Scientist\n"
     ]
    }
   ],
   "source": [
    "with open('text.txt', 'r') as f:\n",
    "    lines = f.readlines()\n",
    "    for line in lines:\n",
    "        print(line)"
   ]
  },
  {
   "attachments": {},
   "cell_type": "markdown",
   "metadata": {},
   "source": [
    "Q5. Explain why 'with' statement is used with open(). What is the advantage of using 'with' statement and \n",
    "open() together?"
   ]
  },
  {
   "attachments": {},
   "cell_type": "markdown",
   "metadata": {},
   "source": [
    "Answer: The with statement is used with the open() function in Python to handle file objects in a more efficient and safe way. It creates a context in which the file is opened and automatically closed when the context is exited.\n",
    "\n",
    "The advantage of using the with statement with open() is that it ensures that the file is properly closed, even if an exception occurs while the file is being processed. If you don't use the with statement and there is an error in your code, the file might remain open and the data could be corrupted or lost.\n",
    "\n",
    "Using the with statement with open() is also more concise than manually opening and closing the file. It allows you to write cleaner code that is easier to read and maintain. Additionally, it makes your code more portable, since the with statement works on different operating systems and file systems."
   ]
  },
  {
   "attachments": {},
   "cell_type": "markdown",
   "metadata": {},
   "source": [
    "Q6. Explain the write() and writelines() functions. Give a suitable example"
   ]
  },
  {
   "attachments": {},
   "cell_type": "markdown",
   "metadata": {},
   "source": [
    "Answer:\n",
    "\n",
    "write(): This method writes a string to a file. If the file already exists, it will overwrite the contents of the file. If the file doesn't exist, it will be created."
   ]
  },
  {
   "cell_type": "code",
   "execution_count": 9,
   "metadata": {},
   "outputs": [],
   "source": [
    "with open('text.txt', 'w') as f:\n",
    "    f.write('Hello, World!\\n')\n",
    "    f.write('This is a new line.')"
   ]
  },
  {
   "attachments": {},
   "cell_type": "markdown",
   "metadata": {},
   "source": [
    "writelines(): This method writes a list of strings to a file. Each string in the list is written to a new line in the file."
   ]
  },
  {
   "cell_type": "code",
   "execution_count": 11,
   "metadata": {},
   "outputs": [],
   "source": [
    "lines = ['This is the first line.\\n', 'This is the second line.\\n', 'This is the third line.\\n']\n",
    "with open('text.txt', 'w') as f:\n",
    "    f.writelines(lines)"
   ]
  }
 ],
 "metadata": {
  "kernelspec": {
   "display_name": "Python 3",
   "language": "python",
   "name": "python3"
  },
  "language_info": {
   "codemirror_mode": {
    "name": "ipython",
    "version": 3
   },
   "file_extension": ".py",
   "mimetype": "text/x-python",
   "name": "python",
   "nbconvert_exporter": "python",
   "pygments_lexer": "ipython3",
   "version": "3.10.10"
  },
  "orig_nbformat": 4,
  "vscode": {
   "interpreter": {
    "hash": "a226a5ffac47fed56f49b199961a53486197ae7417e8c41efae72294227e3d7f"
   }
  }
 },
 "nbformat": 4,
 "nbformat_minor": 2
}
