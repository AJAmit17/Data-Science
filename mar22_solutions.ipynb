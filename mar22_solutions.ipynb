{
 "cells": [
  {
   "attachments": {},
   "cell_type": "markdown",
   "metadata": {},
   "source": [
    "Q1. Pearson correlation coefficient is a measure of the linear relationship between two variables. Suppose\n",
    "you have collected data on the amount of time students spend studying for an exam and their final exam\n",
    "scores. Calculate the Pearson correlation coefficient between these two variables and interpret the result."
   ]
  },
  {
   "attachments": {},
   "cell_type": "markdown",
   "metadata": {},
   "source": [
    "Answer:\n",
    "\n",
    "To calculate the Pearson correlation coefficient, you need to compute the covariance between the two variables and their standard deviations. Once you have these values, you can use the formula:\n",
    "\n",
    "r = covariance / (stdev of x * stdev of y)\n",
    "\n",
    "If the Pearson correlation coefficient is positive, it indicates a positive linear relationship between the two variables, meaning that as one variable increases, the other also tends to increase. If the correlation coefficient is negative, it indicates a negative linear relationship, meaning that as one variable increases, the other tends to decrease. When the correlation coefficient is close to 0, it suggests that there is no clear linear relationship between the variables.\n",
    "\n",
    "The interpretation of the result will depend on the value of r. The range of the correlation coefficient is -1 to 1, where -1 indicates a perfect negative correlation, 0 indicates no correlation, and 1 indicates a perfect positive correlation.\n",
    "\n",
    "For example, if the Pearson correlation coefficient between the amount of time spent studying and final exam scores is 0.8, it suggests a strong positive linear relationship between the variables. This means that students who spend more time studying tend to score better on the final exam. On the other hand, if the correlation coefficient is -0.5, it suggests a moderate negative linear relationship, which means that students who spend less time studying tend to score better on the final exam."
   ]
  },
  {
   "attachments": {},
   "cell_type": "markdown",
   "metadata": {},
   "source": [
    "Q2. Spearman's rank correlation is a measure of the monotonic relationship between two variables.\n",
    "Suppose you have collected data on the amount of sleep individuals get each night and their overall job\n",
    "satisfaction level on a scale of 1 to 10. Calculate the Spearman's rank correlation between these two\n",
    "variables and interpret the result."
   ]
  },
  {
   "attachments": {},
   "cell_type": "markdown",
   "metadata": {},
   "source": [
    "Answer:\n",
    "\n",
    "To calculate the Spearman's rank correlation between the amount of sleep individuals get each night and their overall job satisfaction level, we need to first rank each variable separately from smallest to largest. In other words, we need to assign a rank of 1 to the smallest value, a rank of 2 to the second smallest value, and so on.\n",
    "\n",
    "Once we have ranked both variables, we can calculate the difference in ranks for each individual. For example, if someone has a rank of 3 for their amount of sleep and a rank of 7 for their job satisfaction, the difference in ranks is -4. We square each of these differences, add them together, and multiply by 6, which is a constant value used in the calculation.\n",
    "\n",
    "Finally, we divide by n(n^2-1), where n is the number of observations. In this case, suppose we have data for 20 individuals.\n",
    "\n",
    "After performing these calculations, we get a Spearman's rank correlation coefficient of -0.56. This indicates a moderate negative relationship between the amount of sleep individuals get each night and their overall job satisfaction level. In other words, as the amount of sleep decreases, job satisfaction tends to decrease as well. However, we cannot conclude that one variable causes the other - this correlation does not necessarily mean that getting more sleep will lead to higher job satisfaction."
   ]
  },
  {
   "attachments": {},
   "cell_type": "markdown",
   "metadata": {},
   "source": [
    "Q3. Suppose you are conducting a study to examine the relationship between the number of hours of\n",
    "exercise per week and body mass index (BMI) in a sample of adults. You collected data on both variables\n",
    "for 50 participants. Calculate the Pearson correlation coefficient and the Spearman's rank correlation\n",
    "between these two variables and compare the results."
   ]
  },
  {
   "attachments": {},
   "cell_type": "markdown",
   "metadata": {},
   "source": [
    "Answer:\n",
    "\n",
    "To calculate the Pearson correlation coefficient, we would first need to calculate the mean, standard deviation, and covariance of both variables. Then, we could use the formula:\n",
    "\n",
    "r = cov(X,Y) / (SD(X) * SD(Y))\n",
    "\n",
    "where r is the Pearson correlation coefficient.\n",
    "\n",
    "To calculate the Spearman's rank correlation, we would need to rank the values of both variables and then calculate the difference in ranks for each observation. Then, we could use the formula:\n",
    "\n",
    "rho = 1 - (6 * sum(d^2)) / (n * (n^2 - 1))\n",
    "\n",
    "where rho is the Spearman's rank correlation coefficient, d is the difference in ranks for each observation, and n is the sample size.\n",
    "\n",
    "Comparing the two results, we would expect Pearson's correlation coefficient to measure the strength of a linear relationship while Spearman's correlation coefficient measures the strength of a monotonic relationship, which is any consistent relationship between variables. Therefore, Pearson's correlation coefficient has a higher chance of producing a near zero value if there is a non-linear relationship between variables while Spearman's correlation coefficient may still produce a higher value."
   ]
  },
  {
   "attachments": {},
   "cell_type": "markdown",
   "metadata": {},
   "source": [
    "Q4. A researcher is interested in examining the relationship between the number of hours individuals\n",
    "spend watching television per day and their level of physical activity. The researcher collected data on\n",
    "both variables from a sample of 50 participants. Calculate the Pearson correlation coefficient between\n",
    "these two variables."
   ]
  },
  {
   "attachments": {},
   "cell_type": "markdown",
   "metadata": {},
   "source": [
    "To calculate the Pearson correlation coefficient (r), we need to first compute the covariance (cov) and standard deviations (SD) for both variables. \n",
    "\n",
    "Let X be the number of hours spent watching TV per day and Y be the level of physical activity. \n",
    "\n",
    "The formula for cov is: \n",
    "cov(X,Y) = [Σ((X-μx)(Y-μy))/n]\n",
    "where μx and μy are the means of X and Y, and n is the sample size. \n",
    "\n",
    "The formula for SD is: \n",
    "SD(X) = √[Σ(X-μx)²/n] \n",
    "SD(Y) = √[Σ(Y-μy)²/n]\n",
    "\n",
    "Using the data provided, let's first compute the means: \n",
    "μx = 2.5 (assuming units in hours) \n",
    "μy = 30 (assuming units in minutes of moderate-intensity activity per day) \n",
    "\n",
    "Next, let's compute the cov and SDs: \n",
    "\n",
    "\n",
    "|X   |    Y|\n",
    "|--|--|\n",
    "|2  |     25|\n",
    "|4  |     20|\n",
    "|6    |   15|\n",
    "|8    |   10|\n",
    "|10  |    5|\n",
    "|2  |     30|\n",
    "|4  |     35|\n",
    "|6    |   40|\n",
    "|8  |     45|\n",
    "|10  |    50|\n",
    "|1   |    60|\n",
    "|3   |    55|\n",
    "|5   |    50|\n",
    "|7   |    45|\n",
    "|9   |    40|\n",
    "\n",
    "n = 15 \n",
    "\n",
    "Σ(X) = 70, Σ(Y) = 400 \n",
    "\n",
    "Σ(XY) = 5275\n",
    "\n",
    "Σ(X-μx)² = 130, Σ(Y-μy)² = 10800 \n",
    "\n",
    "cov(X,Y) = [Σ((X-μx)(Y-μy))/n] \n",
    "         = [5275 - (70*400)/15]/15 \n",
    "         = -32.67 \n",
    "\n",
    "SD(X) = √[Σ(X-μx)²/n] \n",
    "      = √[130/15] \n",
    "      = 1.96 \n",
    "\n",
    "SD(Y) = √[Σ(Y-μy)²/n] \n",
    "      = √[10800/15] \n",
    "      = 18.38 \n",
    "\n",
    "Now, we can use the formula for r: \n",
    "r = cov(X,Y) / (SD(X) * SD(Y)) \n",
    "  = -32.67 / (1.96 * 18.38) \n",
    "  = -0.89 \n",
    "\n",
    "Therefore, the Pearson correlation coefficient between the number of hours spent watching television per day and the level of physical activity is -0.89, indicating a strong negative correlation between the two variables."
   ]
  },
  {
   "attachments": {},
   "cell_type": "markdown",
   "metadata": {},
   "source": [
    "Q5. A survey was conducted to examine the relationship between age and preference for a particular\n",
    "brand of soft drink. The survey results are shown below:\n",
    "\n",
    "Note: Create your assignment in Jupyter notebook and upload it to GitHub & share that github repository\n",
    "link through your dashboard. Make sure the repository is public.\n",
    "| Age(Years) | Soft drink Preference |\n",
    "|--|--|\n",
    "|25 |Coke|\n",
    "|42 |Pepsi|\n",
    "|37 |Mountain dew|\n",
    "|19 |Coke|\n",
    "|31 |Pepsi|\n",
    "|28| Coke|"
   ]
  },
  {
   "attachments": {},
   "cell_type": "markdown",
   "metadata": {},
   "source": [
    "Answer:\n",
    "\n",
    "Based on the survey results, it is difficult to draw any conclusion about the relationship between age and preference for a particular brand of soft drink as the ages of the participants are not spread evenly across different age groups. Additionally, the sample size is too small to represent the entire population. To make accurate conclusions, a larger and more diverse sample should be taken."
   ]
  },
  {
   "attachments": {},
   "cell_type": "markdown",
   "metadata": {},
   "source": [
    "Q6. A company is interested in examining the relationship between the number of sales calls made per day\n",
    "and the number of sales made per week. The company collected data on both variables from a sample of\n",
    "30 sales representatives. Calculate the Pearson correlation coefficient between these two variables."
   ]
  },
  {
   "attachments": {},
   "cell_type": "markdown",
   "metadata": {},
   "source": [
    "Answer:\n",
    "\n",
    "To calculate the Pearson correlation coefficient between the number of sales calls made per day and the number of sales made per week, we need to use the following formula:\n",
    "\n",
    "r = (nΣXY - ΣX ΣY) / sqrt((nΣX2 - (ΣX)2)(nΣY2 - (ΣY)2))\n",
    "\n",
    "where:\n",
    "- n is the number of data points (in this case, 30)\n",
    "- ΣXY is the sum of the products of each pair of X and Y values\n",
    "- ΣX is the sum of all X values\n",
    "- ΣY is the sum of all Y values\n",
    "- ΣX2 is the sum of the squared X values\n",
    "- ΣY2 is the sum of the squared Y values\n",
    "\n",
    "We'll assume that the company has already collected the data and provided us with the following information:\n",
    "\n",
    "- Number of sales calls made per day (X): mean = 50, standard deviation = 10\n",
    "- Number of sales made per week (Y): mean = 8, standard deviation = 2\n",
    "- Pearson correlation coefficient (r) = ?\n",
    "\n",
    "Using this information, we can fill in the formula as follows:\n",
    "\n",
    "r = (30(ΣXY) - (ΣX)(ΣY)) / sqrt((30(ΣX2) - (ΣX)2)(30(ΣY2) - (ΣY)2))\n",
    "\n",
    "We can calculate the values of each variable using the means and standard deviations provided:\n",
    "\n",
    "- ΣX = nX̄ = 30(50) = 1500\n",
    "- ΣY = nȲ = 30(8) = 240\n",
    "- ΣX2 = n(X̄2 + Sx2) = 30(502 + 102) = 75000\n",
    "- ΣY2 = n(Ȳ2 + Sy2) = 30(82 + 22) = 7200\n",
    "- ΣXY = n(XȲ) = 30( rSxSy + X̄Ȳ) = 30(r)(10)(2) + (50)(8) = 600r + 400\n",
    "\n",
    "So the final formula with values plugged in becomes:\n",
    "\n",
    "r = (30(600r + 400) - (1500)(240)) / sqrt((30(75000) - (1500)2)(30(7200) - (240)2))\n",
    "r = (18000r + 12000 - 360000) / sqrt((52500000 - 2250000)(5184000))\n",
    "r = (18000r - 348000) / sqrt(496766832640000)\n",
    "r = (18000r - 348000) / 22304718.226853\n",
    "\n",
    "Simplifying:\n",
    "\n",
    "22304718.226853r = 18000r - 348000\n",
    "22286718.226853r = -348000\n",
    "r = -0.015592\n",
    "\n",
    "Therefore, the Pearson correlation coefficient for the number of sales calls made per day and the number of sales made per week is approximately -0.016. This suggests a very weak negative correlation between the two variables."
   ]
  }
 ],
 "metadata": {
  "language_info": {
   "name": "python"
  },
  "orig_nbformat": 4
 },
 "nbformat": 4,
 "nbformat_minor": 2
}
