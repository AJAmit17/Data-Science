{
 "cells": [
  {
   "attachments": {},
   "cell_type": "markdown",
   "metadata": {},
   "source": [
    "Q1 . Explain following with examples\n",
    "\n",
    "1. Artificial intelligence\n",
    "2. Machine learning\n",
    "3. Deep learning"
   ]
  },
  {
   "attachments": {},
   "cell_type": "markdown",
   "metadata": {},
   "source": [
    "Answer: \n",
    "\n",
    "1. Artificial Intelligence (AI): It refers to the simulation of human-like intelligence in machines that are programmed to think and learn like humans. AI involves creating smart algorithms that can perform tasks that normally require human intelligence, such as speech recognition, decision-making, language translations, and visual perception. Examples of AI applications include virtual personal assistants like Siri, Alexa or Google Assistant, self-driving cars, and chatbots for customer service.\n",
    "\n",
    "2. Machine Learning (ML): It is a subset of Artificial intelligence that enables machines to learn from data without being explicitly programmed. In machine learning, algorithms learn from large datasets and improve their performance over time without human intervention. Examples of machine learning include recommender systems used by online e-commerce websites, Voice recognition systems like Siri, Alexa, and chatbots, prediction models in finance and marketing, and image recognition systems for self-driving cars.\n",
    "\n",
    "3. Deep Learning: It is a subfield of machine learning that involves training complex neural networks to recognize patterns in large datasets. Deep learning is used to create intelligent systems that can perform a wide range of tasks, such as image recognition, natural language processing, speech recognition, and robotics. Examples of deep learning include image and speech recognition technologies, autonomous vehicles, and personalized medicine. It is also used in natural language processing applications like chatbots, sentiment analysis, and language translation."
   ]
  },
  {
   "attachments": {},
   "cell_type": "markdown",
   "metadata": {},
   "source": [
    "Q2. What is Supervised learning? List some examples of supervised learning"
   ]
  },
  {
   "attachments": {},
   "cell_type": "markdown",
   "metadata": {},
   "source": [
    "Answer:\n",
    "\n",
    "Supervised learning is a type of machine learning algorithm wherein the input data is labeled with the correct output. The algorithm is trained on the labeled data and learns to map the inputs to the corresponding outputs. The goal is to generate a model that can accurately predict the output for new, unseen inputs.\n",
    "\n",
    "Some examples of supervised learning include:\n",
    "\n",
    "1. Optical character recognition - Given an image of a handwritten character, the algorithm is trained to recognize the character as a specific letter or digit.\n",
    "2. Sentiment analysis - Given a piece of text, the algorithm is trained to classify it as positive, negative, or neutral.\n",
    "3. Predictive maintenance - Given sensor data from a machine, the algorithm is trained to predict when the machine will fail.\n",
    "4. Fraud detection - Given a transaction history, the algorithm is trained to identify fraudulent transactions.\n",
    "5. Image classification - Given an image, the algorithm is trained to classify it as a specific object or category."
   ]
  },
  {
   "attachments": {},
   "cell_type": "markdown",
   "metadata": {},
   "source": [
    "Q3. What is Unsupervised learning? List some examples of unsupervised learning"
   ]
  },
  {
   "attachments": {},
   "cell_type": "markdown",
   "metadata": {},
   "source": [
    "Answer:\n",
    "\n",
    "Unsupervised learning is a type of machine learning where the model is not provided with any labeled data, and it learns to recognize patterns from the input data without any external guidance. The goal of unsupervised learning is to find previously unknown patterns, clusters, associations or distributions in the data.\n",
    "\n",
    "Some examples of unsupervised learning are:\n",
    "\n",
    "1. Clustering: grouping similar data points together based on their features, such as k-means clustering, hierarchical clustering, or DBSCAN.\n",
    "2. Dimensionality Reduction: representing high-dimensional data accurately in lower dimensions, such as principal component analysis (PCA), t-SNE, or autoencoders.\n",
    "3. Anomaly detection: identifying rare events or behaviors that differ from the norm, such as local outlier factor (LOF), isolation forest, or one-class SVM.\n",
    "4. Association mining: discovering frequent co-occurring patterns among items or events, such as Apriori or FP-growth.\n",
    "5. Generative modeling: learning to generate new data points that resemble the original dataset, such as Gaussian mixture models, variational autoencoders (VAE) or generative adversarial networks (GAN)."
   ]
  },
  {
   "attachments": {},
   "cell_type": "markdown",
   "metadata": {},
   "source": [
    "Q4- What is the difference between AI, ML, DL, and DS?"
   ]
  },
  {
   "attachments": {},
   "cell_type": "markdown",
   "metadata": {},
   "source": [
    "Answer:\n",
    "\n",
    "AI (Artificial Intelligence) is a broader field that involves the development of intelligent machines that can replicate human-like behavior and cognitive abilities. \n",
    "\n",
    "Machine Learning (ML) is a subset of AI that focuses on the development of algorithms and statistical models that enable systems to learn and improve from experience without being explicitly programmed.\n",
    "\n",
    "Deep Learning (DL) is a subset of ML that uses neural networks with multiple layers to process complex data and solve complex problems.\n",
    "\n",
    "Data Science (DS) is a multidisciplinary field that involves the application of statistical and computational methods to extract knowledge and insights from large and complex data sets. DS can use AI, ML, and DL as tools to analyze data and create predictive models, among other things."
   ]
  },
  {
   "attachments": {},
   "cell_type": "markdown",
   "metadata": {},
   "source": [
    "Q5- What are the main differences between supervised, unsupervised, and semi-supervised learning?"
   ]
  },
  {
   "attachments": {},
   "cell_type": "markdown",
   "metadata": {},
   "source": [
    "Answer: \n",
    "\n",
    "The main differences between supervised, unsupervised, and semi-supervised learning are as follows:\n",
    "\n",
    "1. Supervised Learning: In supervised learning, the algorithm learns from labeled data. The data is labeled with the correct output, and the algorithm tries to find a pattern between the input and output. The goal is to predict the output for new input data.\n",
    "\n",
    "2. Unsupervised Learning: In unsupervised learning, the algorithm learns from unlabeled data. The data is not labeled with any correct output, and the algorithm tries to find patterns or structures in the data. The goal is to find hidden patterns, groupings or clusters of data points that share similarities.\n",
    "\n",
    "3. Semi-Supervised Learning: In semi-supervised learning, the algorithm learns from a mix of labeled and unlabeled data. The labeled data is used to guide the learning process, while the unlabeled data provides additional information to help the algorithm learn better. The goal is to improve the accuracy of the model with less labeled data.\n",
    "\n",
    "Overall, the main differences between these three types of learning are the nature of the data used to train the algorithm and the type of outcome desired."
   ]
  },
  {
   "attachments": {},
   "cell_type": "markdown",
   "metadata": {},
   "source": [
    "Q6- What is train, test and validation split? Explain the importance of each term"
   ]
  },
  {
   "attachments": {},
   "cell_type": "markdown",
   "metadata": {},
   "source": [
    "Answer:\n",
    "\n",
    "Train, test, and validation split is a method used in machine learning and deep learning for evaluating and optimizing the performance of a model.\n",
    "\n",
    "The training set is used to train the model, which means that a machine learning algorithm is used to make predictions on the training data set. Then, this model is tested on a separate testing data set, which is used to evaluate the accuracy and determine if the model has overfit the training data.\n",
    "\n",
    "Validation is the set of data used to fine-tune the model's hyperparameters, such as the learning rate and regularization parameters, through a process called cross-validation.\n",
    "\n",
    "The importance of each term can be explained as follows:\n",
    "\n",
    "- Training set: It is used to train a model to fit the data and learn the patterns in the input feature set. It helps the algorithm to tune the parameters and weights in order to make accurate predictions.\n",
    "\n",
    "- Test set: It is a separate set of data used to test the performance of the model. The testing set serves as an independent measure of how well the model has learned to generalize the learned patterns and features to new unobserved data.\n",
    "\n",
    "- Validation set: It is used to fine-tune the model's hyperparameters, such as the learning rate and regularization parameters, through cross-validation. This step helps to prevent overfitting on the training set and ensure better generalization of the model on new data.\n",
    "\n",
    "In machine learning, it is critical to separate the data into these sets, as it ensures that the model is evaluated on data that it has never seen before, which helps to prevent overfitting and obtain a more accurate model."
   ]
  },
  {
   "attachments": {},
   "cell_type": "markdown",
   "metadata": {},
   "source": [
    "Q7- How can unsupervised learning be used in anomaly detection?"
   ]
  },
  {
   "attachments": {},
   "cell_type": "markdown",
   "metadata": {},
   "source": [
    "Answer:\n",
    "\n",
    "Unsupervised learning can be used in anomaly detection by analyzing patterns and behaviors within a dataset to identify unusual or abnormal data points. This can be done using techniques such as clustering, where data points are grouped together based on their similarity, or by identifying data points that are outliers compared to the rest of the dataset. Once these anomalies are identified, they can be further analyzed and investigated to determine if they represent a genuine anomaly or if they are the result of errors or noise in the data. Unsupervised learning algorithms can also be used to adapt to changing data over time, allowing for ongoing anomaly detection and identification."
   ]
  },
  {
   "attachments": {},
   "cell_type": "markdown",
   "metadata": {},
   "source": [
    "Q8- List down some commonly used supervised learning algorithms and unsupervised learning\n",
    "algorithms."
   ]
  },
  {
   "attachments": {},
   "cell_type": "markdown",
   "metadata": {},
   "source": [
    "Answer:\n",
    "\n",
    "Here are some commonly used supervised learning algorithms:\n",
    "1. Linear Regression\n",
    "2. Logistic Regression\n",
    "3. Decision Trees\n",
    "4. Random Forests\n",
    "5. Support Vector Machines (SVM)\n",
    "6. Naive Bayes\n",
    "7. Neural Networks\n",
    "\n",
    "And here are some commonly used unsupervised learning algorithms:\n",
    "1. K-Means Clustering\n",
    "2. Hierarchical Clustering\n",
    "3. Principal Component Analysis (PCA)\n",
    "4. t-distributed Stochastic Neighbor Embedding (t-SNE)\n",
    "5. Expectation-Maximization (EM) Algorithm. "
   ]
  }
 ],
 "metadata": {
  "language_info": {
   "name": "python"
  },
  "orig_nbformat": 4
 },
 "nbformat": 4,
 "nbformat_minor": 2
}
