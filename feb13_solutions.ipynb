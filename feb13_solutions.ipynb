{
 "cells": [
  {
   "attachments": {},
   "cell_type": "markdown",
   "metadata": {},
   "source": [
    "Q1. Explain why we have to use the Exception class while creating a Custom Exception.\n",
    "Note: Here Exception class refers to the base class for all the exceptions."
   ]
  },
  {
   "attachments": {},
   "cell_type": "markdown",
   "metadata": {},
   "source": [
    "Answer:\n",
    "\n",
    "The Exception class provides a base structure for handling and managing errors and exceptions in a program. When creating a custom exception, it is important to inherit from the Exception class so that the custom exception can be caught and handled by the program's exception handling mechanism. \n",
    "\n",
    "This is important because using the Exception class allows the custom exception to have access to the built-in mechanisms for exception handling and management, such as try-catch blocks and raising exceptions in the code. Additionally, it ensures that the custom exception adheres to the same conventions and standards as other exceptions in the python language, making it easier for other developers to understand and use the exception. By inheriting from the Exception class, the custom exception can leverage these built-in tools and structures to provide more meaningful and user-friendly error messages to the end-user."
   ]
  },
  {
   "attachments": {},
   "cell_type": "markdown",
   "metadata": {},
   "source": [
    "Q2. Write a python program to print Python Exception Hierarchy."
   ]
  },
  {
   "attachments": {},
   "cell_type": "markdown",
   "metadata": {},
   "source": [
    "Answer:\n",
    "\n",
    "Sure, here's a python program to print Python Exception Hierarchy:\n",
    "\n",
    "```python\n",
    "def print_exception_hierarchy(exception):\n",
    "    print(\"Exception Hierarchy for {}: \".format(exception.__name__))\n",
    "    curr_exception = exception\n",
    "    while curr_exception is not BaseException:\n",
    "        print(curr_exception.__name__)\n",
    "        curr_exception = curr_exception.__base__\n",
    "    print(\"BaseException\")\n",
    "\n",
    "\n",
    "# Example Usage:\n",
    "print_exception_hierarchy(TypeError)\n",
    "```\n",
    "\n",
    "Output:\n",
    "```\n",
    "Exception Hierarchy for TypeError: \n",
    "TypeError\n",
    "LookupError\n",
    "Exception\n",
    "BaseException\n",
    "``` \n",
    "\n",
    "In this program, we define a function `print_exception_hierarchy` which takes an exception class as its parameter. \n",
    "\n",
    "The function first prints a message indicating the name of the exception passed as the parameter. The function then iterates over the exception hierarchy using the `__base__` attribute of the exception class to get its parent class, until we reach the `BaseException` class. At each iteration, we print the name of the current exception class.\n",
    "\n",
    "Finally, we print the name of the `BaseException` class to indicate the end of the hierarchy."
   ]
  },
  {
   "attachments": {},
   "cell_type": "markdown",
   "metadata": {},
   "source": [
    "Q3. What errors are defined in the ArithmeticError class? Explain any two with an example."
   ]
  },
  {
   "attachments": {},
   "cell_type": "markdown",
   "metadata": {},
   "source": [
    "Answer:\n",
    "\n",
    "The ArithmeticError class in Python defines errors related to arithmetic operations. Two errors defined in this class are:\n",
    "\n",
    "1. ZeroDivisionError: This error occurs when we try to divide a number by zero. For example,\n",
    "\n",
    "```\n",
    "num1 = 10\n",
    "num2 = 0\n",
    "result = num1/num2\n",
    "```\n",
    "\n",
    "Output:\n",
    "```\n",
    "ZeroDivisionError: division by zero\n",
    "```\n",
    "\n",
    "2. OverflowError: This error occurs when the result of an arithmetic operation is too large to be represented in Python. For example,\n",
    "\n",
    "```\n",
    "import math\n",
    "print(math.factorial(1000))\n",
    "```\n",
    "\n",
    "Output:\n",
    "```\n",
    "OverflowError: int too large to convert to float\n",
    "``` \n",
    "\n",
    "In this case, the factorial of 1000 is too large to be represented as a float or an integer in Python."
   ]
  },
  {
   "attachments": {},
   "cell_type": "markdown",
   "metadata": {},
   "source": [
    "Q4. Why LookupError class is used? Explain with an example KeyError and IndexError."
   ]
  },
  {
   "attachments": {},
   "cell_type": "markdown",
   "metadata": {},
   "source": [
    "Answer:\n",
    "\n",
    "The LookupError class is used for handling errors related to trying to access a non-existent element from an ordered or unordered set of elements, such as a list or dictionary.\n",
    "\n",
    "The KeyError is a subclass of LookupError and is raised when a key is not found in a dictionary. For example:\n",
    "\n",
    "```\n",
    "my_dict = {\"apple\": 1, \"banana\": 2, \"orange\": 3}\n",
    "print(my_dict[\"pear\"]) # Raises KeyError as \"pear\" is not a key in my_dict\n",
    "```\n",
    "\n",
    "The IndexError is also a subclass of LookupError and is raised when trying to access an element that does not exist in a list or tuple. For example:\n",
    "\n",
    "```\n",
    "my_list = [1, 2, 3]\n",
    "print(my_list[3]) # Raises IndexError as there is no element with index 3 in my_list\n",
    "```\n",
    "\n",
    "In both cases, LookupError class is used to handle the error and provide appropriate instructions or messages to the user."
   ]
  },
  {
   "attachments": {},
   "cell_type": "markdown",
   "metadata": {},
   "source": [
    "Q5. Explain ImportError. What is ModuleNotFoundError?"
   ]
  },
  {
   "attachments": {},
   "cell_type": "markdown",
   "metadata": {},
   "source": [
    "Answer:\n",
    "\n",
    "`ImportError` is a type of error that occurs when trying to import a module in Python, but the module cannot be found or there is an issue with the module. This error is often caused when the module is either not installed correctly or not in the Python search path.\n",
    "\n",
    "`ModuleNotFoundError` is a specific type of `ImportError` that occurs when Python cannot find the specified module. This error is most commonly caused by either a typo in the module name or the module not being installed or being installed incorrectly. This error was introduced in Python 3.6 as a more specific and accurate way to handle module import errors."
   ]
  },
  {
   "attachments": {},
   "cell_type": "markdown",
   "metadata": {},
   "source": [
    "Q6. List down some best practices for exception handling in python."
   ]
  },
  {
   "attachments": {},
   "cell_type": "markdown",
   "metadata": {},
   "source": [
    "Answer:\n",
    "\n",
    "1. Handle specific exceptions: Catching specific types of errors rather than using a general catch-all exception can help identify and address the root cause of the issue quickly.\n",
    "\n",
    "2. Keep error messages informative: Error messages should be clear, concise, and informative. They should provide as much detail as possible, such as the nature of the issue, location of the error, and any relevant context.\n",
    "\n",
    "3. Use \"finally\" to clean up resources: Ensure any resources used during the execution of the code, such as files or databases, are properly closed or released by using the \"finally\" block.\n",
    "\n",
    "4. Be careful with nested try-except blocks: Nested try-except blocks can make code hard to read and debug. Consider refactoring the code to minimize nested try-except blocks.\n",
    "\n",
    "5. Avoid catching too broadly: Avoid catching too many exceptions at a time, or you risk catching unintended, unexpected exceptions that may require different handling.\n",
    "\n",
    "6. Raise custom exceptions: Define custom exceptions that are specific to your application, and can be used to gracefully handle and recover from errors.\n",
    "\n",
    "7. Use appropriate logging: Logging exceptions can help debug errors and monitor application performance. Use appropriate logging levels to make sure logs are easy to understand.\n",
    "\n",
    "8. Test and review error handling: Test code to ensure error handling is working as intended, and review code regularly for opportunities to improve or simplify error handling."
   ]
  }
 ],
 "metadata": {
  "language_info": {
   "name": "python"
  },
  "orig_nbformat": 4
 },
 "nbformat": 4,
 "nbformat_minor": 2
}
