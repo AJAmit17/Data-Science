{
 "cells": [
  {
   "attachments": {},
   "cell_type": "markdown",
   "metadata": {},
   "source": [
    "Q1. Which keyword is used to create a function? Create a function to return a list of odd numbers in the range of 1 to 25."
   ]
  },
  {
   "attachments": {},
   "cell_type": "markdown",
   "metadata": {},
   "source": [
    "Answer: 'def' keyword is used to create a function"
   ]
  },
  {
   "cell_type": "code",
   "execution_count": 7,
   "metadata": {},
   "outputs": [
    {
     "data": {
      "text/plain": [
       "(8, [3, 6, 9, 12, 15, 18, 21, 24])"
      ]
     },
     "execution_count": 7,
     "metadata": {},
     "output_type": "execute_result"
    }
   ],
   "source": [
    "def oddnum(n):\n",
    "    count=0\n",
    "    l=[]\n",
    "    for i in range(1,n+1):\n",
    "        if(i%3==0):\n",
    "            count+=1\n",
    "            l.append(i)\n",
    "    return count,l\n",
    "\n",
    "oddnum(25)"
   ]
  },
  {
   "attachments": {},
   "cell_type": "markdown",
   "metadata": {},
   "source": [
    "Q2. Why *args and **kwargs is used in some functions? Create a function each for *args and **kwargs to demonstrate their use."
   ]
  },
  {
   "attachments": {},
   "cell_type": "markdown",
   "metadata": {},
   "source": [
    "Answer: *args and **kwargs are special syntax in Python for passing a variable number of arguments to a function.\n",
    "\n",
    "*args is used to pass a variable number of non-keyword arguments to a function. The arguments are passed as a tuple, which can be accessed inside the function using the variable name specified after the * symbol.\n",
    "\n",
    "**kwargs is used to pass a variable number of keyword arguments to a function. The arguments are passed as a dictionary, which can be accessed inside the function using the variable name specified after the ** symbol. The keys of the dictionary are the argument names, and the values are the argument values.\n",
    "\n",
    "Here are some exams for *args and **kwargs"
   ]
  },
  {
   "cell_type": "code",
   "execution_count": 1,
   "metadata": {},
   "outputs": [],
   "source": [
    "def sum_numbers(*args):\n",
    "    total = 0\n",
    "    for num in args:\n",
    "        total += num\n",
    "    return total"
   ]
  },
  {
   "cell_type": "code",
   "execution_count": 2,
   "metadata": {},
   "outputs": [],
   "source": [
    "def print_values(**kwargs):\n",
    "    for key, value in kwargs.items():\n",
    "        print(key, \":\", value)"
   ]
  },
  {
   "cell_type": "code",
   "execution_count": 6,
   "metadata": {},
   "outputs": [
    {
     "name": "stdout",
     "output_type": "stream",
     "text": [
      "sum of numbers: 6\n",
      "name : John\n",
      "age : 25\n",
      "city : New York\n"
     ]
    }
   ],
   "source": [
    "print(\"sum of numbers:\",sum_numbers(1, 2, 3))  \n",
    "\n",
    "print_values(name=\"John\", age=25, city=\"New York\")  "
   ]
  },
  {
   "attachments": {},
   "cell_type": "markdown",
   "metadata": {},
   "source": [
    "Q3. What is an iterator in python? Name the method used to initialise the iterator object and the method used for iteration. Use these methods to print the first five elements of the given list [2, 4, 6, 8, 10, 12, 14, 16, 18, 20]."
   ]
  },
  {
   "attachments": {},
   "cell_type": "markdown",
   "metadata": {},
   "source": [
    "Answer:An iterator in Python is an object that can be iterated (looped) upon, meaning that it can be used in a for loop. It implements two methods: _\\_iter()_\\_ and _\\_next()_\\_. The _\\_iter()_\\_ method returns the iterator object itself, and the _\\_next()_\\_ method returns the next value in the iteration sequence. When there are no more values to return, the _\\_next()_\\_ method should raise the StopIteration exception to signal the end of the sequence.\n",
    "\n",
    "To create an iterator object in Python, you can call the iter() function on an iterable object, such as a list, tuple, or string. The iter() function returns an iterator object, which you can then use to iterate over the elements of the iterable object."
   ]
  },
  {
   "cell_type": "code",
   "execution_count": 11,
   "metadata": {},
   "outputs": [
    {
     "name": "stdout",
     "output_type": "stream",
     "text": [
      "2 4 6 8 10 "
     ]
    }
   ],
   "source": [
    "iter_obj= iter([2,4,6,8,10,12,14,16,18,20])\n",
    "\n",
    "for i in range(5):\n",
    "    print(next(iter_obj),end=\" \")"
   ]
  },
  {
   "attachments": {},
   "cell_type": "markdown",
   "metadata": {},
   "source": [
    "Q4. What is a generator function in python? Why yield keyword is used? Give an example of a generator function."
   ]
  },
  {
   "attachments": {},
   "cell_type": "markdown",
   "metadata": {},
   "source": [
    "Answer: In Python, a generator function is a special type of function that generates a sequence of values when called, rather than returning a single value. Instead of using the return statement to 'return' a value, a generator function uses the 'yield' keyword to yield a value.\n",
    "\n",
    "Here is an example for Generator function:"
   ]
  },
  {
   "cell_type": "code",
   "execution_count": 5,
   "metadata": {},
   "outputs": [
    {
     "name": "stdout",
     "output_type": "stream",
     "text": [
      "0 1 1 2 3 5 8 13 21 34 "
     ]
    }
   ],
   "source": [
    "def fib(n):\n",
    "    a,b=0,1\n",
    "    for i in range(n):\n",
    "        yield a\n",
    "        a,b=b,a+b\n",
    "\n",
    "for i in fib(10):\n",
    "    print(i,end=\" \")"
   ]
  },
  {
   "attachments": {},
   "cell_type": "markdown",
   "metadata": {},
   "source": [
    "Q5. Create a generator function for prime numbers less than 1000. Use the next() method to print the first 20 prime numbers."
   ]
  },
  {
   "cell_type": "code",
   "execution_count": 6,
   "metadata": {},
   "outputs": [],
   "source": [
    "def generate_primes():\n",
    "    primes = []\n",
    "    for num in range(2, 1000):\n",
    "        is_prime = True\n",
    "        for prime in primes:\n",
    "            if num % prime == 0:\n",
    "                is_prime = False\n",
    "                break\n",
    "        if is_prime:\n",
    "            primes.append(num)\n",
    "            yield num"
   ]
  },
  {
   "cell_type": "code",
   "execution_count": 9,
   "metadata": {},
   "outputs": [
    {
     "name": "stdout",
     "output_type": "stream",
     "text": [
      "2 3 5 7 11 13 17 19 23 29 31 37 41 43 47 53 59 61 67 71 "
     ]
    }
   ],
   "source": [
    "prime_1=generate_primes()\n",
    "\n",
    "for i in range(20):\n",
    "    print(next(prime_1),end=\" \")"
   ]
  }
 ],
 "metadata": {
  "kernelspec": {
   "display_name": "Python 3",
   "language": "python",
   "name": "python3"
  },
  "language_info": {
   "codemirror_mode": {
    "name": "ipython",
    "version": 3
   },
   "file_extension": ".py",
   "mimetype": "text/x-python",
   "name": "python",
   "nbconvert_exporter": "python",
   "pygments_lexer": "ipython3",
   "version": "3.10.10"
  },
  "orig_nbformat": 4,
  "vscode": {
   "interpreter": {
    "hash": "a226a5ffac47fed56f49b199961a53486197ae7417e8c41efae72294227e3d7f"
   }
  }
 },
 "nbformat": 4,
 "nbformat_minor": 2
}
