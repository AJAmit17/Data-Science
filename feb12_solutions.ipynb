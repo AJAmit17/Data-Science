{
 "cells": [
  {
   "attachments": {},
   "cell_type": "markdown",
   "metadata": {},
   "source": [
    "Q1. What is an Ex,eption in python? Write the difference between Exceptions and syntax errors"
   ]
  },
  {
   "attachments": {},
   "cell_type": "markdown",
   "metadata": {},
   "source": [
    "Answer:\n",
    "\n",
    "An exception in Python is an event that occurs during the execution of a program that disrupts the normal flow of the program's instructions. When an exception occurs, the program execution will be halted and an error message will be displayed describing the cause of the exception.\n",
    "\n",
    "Syntax errors, on the other hand, occur when the code is not written according to the rules of the programming language. These errors are detected by the Python interpreter when it tries to compile the code, and the program will not execute until the syntax errors are corrected.\n",
    "\n",
    "The main difference between exceptions and syntax errors is that exceptions occur during the execution of the program, while syntax errors occur during the compilation phase. Exceptions are also more specific in terms of their cause, and can be caught and handled by the program to allow for more graceful error handling. Syntax errors, on the other hand, must be fixed by adjusting the code, as they prevent the program from executing at all."
   ]
  },
  {
   "attachments": {},
   "cell_type": "markdown",
   "metadata": {},
   "source": [
    "Q2. What happens when an exception is not handled ? Explain with an example."
   ]
  },
  {
   "attachments": {},
   "cell_type": "markdown",
   "metadata": {},
   "source": [
    "Answer:\n",
    "\n",
    "When an exception is not handled, it will cause the program to terminate abruptly, showing the error message and the traceback of the error. This can lead to a poor user experience, and in some cases, potential data loss.\n",
    "\n",
    "For example, let's say we have a program that reads a user's input and tries to divide it by a number:\n",
    "\n",
    "```\n",
    "numerator = int(input(\"Enter the numerator: \"))\n",
    "denominator = int(input(\"Enter the denominator: \"))\n",
    "result = numerator / denominator\n",
    "print(\"Result: \", result)\n",
    "```\n",
    "\n",
    "If the user inputs a denominator of '0', it will result in a ZeroDivisionError, which will cause the program to terminate abruptly:\n",
    "\n",
    "```\n",
    "Enter the numerator: 10\n",
    "Enter the denominator: 0\n",
    "Traceback (most recent call last):\n",
    "  File \"test.py\", line 3, in <module>\n",
    "    result = numerator / denominator\n",
    "ZeroDivisionError: division by zero\n",
    "```\n",
    "\n",
    "To handle this exception, we can use a try-except block to catch and handle the exception appropriately:\n",
    "\n",
    "```\n",
    "try:\n",
    "    numerator = int(input(\"Enter the numerator: \"))\n",
    "    denominator = int(input(\"Enter the denominator: \"))\n",
    "    result = numerator / denominator\n",
    "    print(\"Result: \", result)\n",
    "except ZeroDivisionError:\n",
    "    print(\"Error: Denominator cannot be zero. Please enter a valid value.\")\n",
    "```\n",
    "\n",
    "Now, if the user enters '0' as the denominator, the program will display an error message instead of terminating abruptly:\n",
    "\n",
    "```\n",
    "Enter the numerator: 10\n",
    "Enter the denominator: 0\n",
    "Error: Denominator cannot be zero. Please enter a valid value.\n",
    "```"
   ]
  },
  {
   "attachments": {},
   "cell_type": "markdown",
   "metadata": {},
   "source": [
    "Q3. Which Python statements are used to catch and handle exceptions? Explain with an example."
   ]
  },
  {
   "attachments": {},
   "cell_type": "markdown",
   "metadata": {},
   "source": [
    "Answer:\n",
    "\n",
    "The `try` and `except` statements in Python are used to catch and handle exceptions. \n",
    "\n",
    "Syntax:\n",
    "\n",
    "```python\n",
    "try:\n",
    "    # Code block where exception may occur\n",
    "except <exception>:\n",
    "    # Code block to handle the exception\n",
    "```\n",
    "\n",
    "For example, consider the following code that divides two numbers but can encounter a division by zero error:\n",
    "\n",
    "```python\n",
    "num1 = 10\n",
    "num2 = 0\n",
    "\n",
    "try:\n",
    "    result = num1/num2\n",
    "    print(result)\n",
    "except ZeroDivisionError:\n",
    "    print(\"Division by zero error occurred.\")\n",
    "```\n",
    "\n",
    "In this example, the `try` block attempts to divide `num1` by `num2`. However, since `num2` is equal to zero, a `ZeroDivisionError` exception is raised. The `except` block catches that exception and prints a message to handle that specific error."
   ]
  },
  {
   "attachments": {},
   "cell_type": "markdown",
   "metadata": {},
   "source": [
    "Q4. Explain with an example:\n",
    "\n",
    "1. try and else\n",
    "2. finally\n",
    "3. raise"
   ]
  },
  {
   "attachments": {},
   "cell_type": "markdown",
   "metadata": {},
   "source": [
    "Answer:\n",
    "\n",
    "1. `try` and `else` blocks are used in exception handling in Python. When an exception occurs within a `try` block, the code inside the `except` block is executed. If no exception occurs, the code inside the `else` block is executed. Here is an example:\n",
    "\n",
    "```\n",
    "try:\n",
    "    num = int(input(\"Enter a number: \"))\n",
    "except ValueError:\n",
    "    print(\"Invalid input.\")\n",
    "else:\n",
    "    print(\"The number is:\", num)\n",
    "```\n",
    "\n",
    "In this example, the user is prompted to enter a number. If they enter an incorrect value (e.g. a non-numeric character), a `ValueError` exception is raised and the message \"Invalid input.\" is printed. If the user enters a valid number, the message \"The number is: [num]\" is printed.\n",
    "\n",
    "2. A `finally` block is used to execute code regardless of whether an exception was raised or not. Here is an example:\n",
    "\n",
    "```\n",
    "try:\n",
    "    # some code that may raise an exception\n",
    "except SomeException:\n",
    "    # handle the exception\n",
    "finally:\n",
    "    # some cleanup code that always runs\n",
    "```\n",
    "\n",
    "In this example, if an exception is raised inside the `try` block, the code inside the `except` block is executed. Regardless of whether an exception was raised or not, the code inside the `finally` block is always executed.\n",
    "\n",
    "3. The `raise` statement is used to raise an exception in Python. Here is an example:\n",
    "\n",
    "```\n",
    "def divide(a, b):\n",
    "    if b == 0:\n",
    "        raise ValueError(\"Cannot divide by zero.\")\n",
    "    return a / b\n",
    "```\n",
    "\n",
    "In this example, the `divide` function raises a `ValueError` exception if the second argument (`b`) is zero. Otherwise, it returns the result of dividing `a` by `b`."
   ]
  },
  {
   "attachments": {},
   "cell_type": "markdown",
   "metadata": {},
   "source": [
    "Q5. What are Custom Exceptions in Python ? Why do we need Custom Exceptions ? Explain with an example."
   ]
  },
  {
   "attachments": {},
   "cell_type": "markdown",
   "metadata": {},
   "source": [
    "Answer:\n",
    "\n",
    "In Python, like any other programming language, we can define our own exceptions which are called custom exceptions or user-defined exceptions. Custom exceptions are used when we cannot use built-in exceptions to handle business logic. \n",
    "\n",
    "We need custom exceptions to avoid unwanted results and maintain the code's integrity. By defining custom exceptions, we can handle specific conditions and errors easily in our code. \n",
    "\n",
    "Here's an Example of a custom exception:\n",
    "\n",
    "```python\n",
    "class NotEnoughBalanceError(Exception):\n",
    "    pass\n",
    "\n",
    "def transfer_money(amount, account_balance):\n",
    "    if account_balance < amount:\n",
    "        raise NotEnoughBalanceError(\"Insufficient balance in account.\")\n",
    "    else:\n",
    "        return f\"{amount} transferred successfully\"\n",
    "    \n",
    "print(transfer_money(5000, 3000)) # Output - NotEnoughBalanceError: Insufficient balance in account.\n",
    "```\n",
    "\n",
    "The above code defines a custom exception called `NotEnoughBalanceError`. If the account balance is not enough to transfer the amount, then the custom exception will be raised with an appropriate message. In this way, we can handle specific errors and conditions in our code using custom exceptions."
   ]
  },
  {
   "attachments": {},
   "cell_type": "markdown",
   "metadata": {},
   "source": [
    "Q6. Create a custom exception class.Use this class to handle an exception."
   ]
  },
  {
   "attachments": {},
   "cell_type": "markdown",
   "metadata": {},
   "source": [
    "Answer:\n",
    "\n",
    "```python\n",
    "class CustomException(Exception):\n",
    "    def __init__(self, message):\n",
    "        self.message = message\n",
    "        super().__init__(self.message)\n",
    "\n",
    "# Example usage\n",
    "try:\n",
    "    raise CustomException(\"This is a custom exception.\")\n",
    "except CustomException as e:\n",
    "    print(e.message)\n",
    "```\n",
    "\n",
    "In this example, we have created a custom exception class called `CustomException` that inherits from the built-in `Exception` class. The `__init__` method is overridden to allow us to set a custom message when the exception is raised.\n",
    "\n",
    "We then use the `try` and `except` blocks to handle the exception. When the `raise` statement is executed, it raises an instance of `CustomException` with the message \"This is a custom exception\". The `except` block catches the exception and prints out the message using `e.message`."
   ]
  }
 ],
 "metadata": {
  "kernelspec": {
   "display_name": "Python 3",
   "language": "python",
   "name": "python3"
  },
  "language_info": {
   "codemirror_mode": {
    "name": "ipython",
    "version": 3
   },
   "file_extension": ".py",
   "mimetype": "text/x-python",
   "name": "python",
   "nbconvert_exporter": "python",
   "pygments_lexer": "ipython3",
   "version": "3.10.10"
  },
  "orig_nbformat": 4
 },
 "nbformat": 4,
 "nbformat_minor": 2
}
