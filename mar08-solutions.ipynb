{
 "cells": [
  {
   "attachments": {},
   "cell_type": "markdown",
   "metadata": {},
   "source": [
    "Q1. What is the Probability density function?"
   ]
  },
  {
   "attachments": {},
   "cell_type": "markdown",
   "metadata": {},
   "source": [
    "Answer:\n",
    "\n",
    "The probability density function (PDF) is a concept in probability theory and statistics that describes the probability distribution of a continuous random variable. It provides a way to quantify the likelihood of a random variable taking on a particular value within a given range.\n",
    "\n",
    "The PDF, denoted as f(x), represents the derivative of the cumulative distribution function (CDF) with respect to x. In other words, the PDF is the rate of change of the CDF and indicates how the probability of a random variable varies with its value.\n",
    "\n",
    "Mathematically, the PDF is used to define the probability distribution of continuous random variables through integration. For example, if X is a continuous random variable, the probability of X falling within the interval [a, b] is given by the integral of the PDF from a to b:\n",
    "\n",
    "P(a ≤ X ≤ b) = ∫[a to b] f(x) dx"
   ]
  },
  {
   "attachments": {},
   "cell_type": "markdown",
   "metadata": {},
   "source": [
    "Q2. What are the types of Probability distribution?"
   ]
  },
  {
   "attachments": {},
   "cell_type": "markdown",
   "metadata": {},
   "source": [
    "Answer:\n",
    "\n",
    "1. Uniform Distribution: In a uniform distribution, all outcomes within a given range are equally likely. The probability density function is constant over this range. Examples include rolling a fair die or selecting a random number from an interval.\n",
    "\n",
    "2. Normal Distribution (Gaussian Distribution): The normal distribution is one of the most important and widely used distributions. It is characterized by a symmetric bell-shaped curve. Many natural phenomena, such as heights and weights of individuals in a population, tend to follow a normal distribution. The parameters of the distribution are the mean (μ) and the standard deviation (σ).\n",
    "\n",
    "3. Binomial Distribution: The binomial distribution is used to model the number of successes in a fixed number of independent Bernoulli trials, where each trial has only two possible outcomes (success or failure). It is characterized by two parameters: the probability of success (p) and the number of trials (n).\n",
    "\n",
    "4. Poisson Distribution: The Poisson distribution is often used to model the number of events that occur in a fixed interval of time or space. It is characterized by a single parameter, λ (lambda), which represents the average rate of event occurrences.\n",
    "\n",
    "5. Exponential Distribution: The exponential distribution is commonly used to model the time between events in a Poisson process. It is often employed in reliability analysis and queueing theory. The distribution is characterized by a parameter, λ (lambda), which represents the rate at which events occur.\n",
    "\n",
    "6. Chi-Square Distribution: The chi-square distribution arises in various statistical tests, such as chi-square tests for independence and goodness of fit. It is a continuous distribution with a positive skew and is characterized by a parameter called the degrees of freedom.\n",
    "\n",
    "7. Student's t-Distribution: The t-distribution is used in hypothesis testing and confidence interval estimation when the sample size is small or the population standard deviation is unknown. It is symmetric and bell-shaped but has heavier tails compared to the normal distribution. The degrees of freedom parameter determines the shape of the distribution.\n",
    "\n",
    "8. F-Distribution: The F-distribution is commonly used in analysis of variance (ANOVA) and regression analysis. It arises when comparing variances between multiple groups. The F-distribution has two degrees of freedom parameters that determine its shape."
   ]
  },
  {
   "attachments": {},
   "cell_type": "markdown",
   "metadata": {},
   "source": [
    "Q3. Write a Python function to calculate the probability density function of a normal distribution with given mean and standard deviation at a given point."
   ]
  },
  {
   "cell_type": "code",
   "execution_count": 5,
   "metadata": {},
   "outputs": [],
   "source": [
    "import math\n",
    "\n",
    "def normal_pdf(x, mean, std_dev):\n",
    "    exponent = -((x - mean) ** 2) / (2 * std_dev ** 2)\n",
    "    coefficient = 1 / (std_dev * math.sqrt(2 * math.pi))\n",
    "    pdf = coefficient * math.exp(exponent)\n",
    "    return pdf"
   ]
  },
  {
   "attachments": {},
   "cell_type": "markdown",
   "metadata": {},
   "source": [
    "In this function, the parameters are as follows:\n",
    "- `x`: The point at which you want to evaluate the PDF.\n",
    "- `mean`: The mean of the normal distribution.\n",
    "- `std_dev`: The standard deviation of the normal distribution.\n",
    "\n",
    "The function calculates the PDF using the formula:\n",
    "```\n",
    "PDF(x) = (1 / (std_dev * sqrt(2 * pi))) * exp(-((x - mean)^2) / (2 * std_dev^2))\n",
    "```\n",
    "\n",
    "To use this function, you can call it and provide the necessary values for `x`, `mean`, and `std_dev`. For example:"
   ]
  },
  {
   "cell_type": "code",
   "execution_count": 6,
   "metadata": {},
   "outputs": [
    {
     "name": "stdout",
     "output_type": "stream",
     "text": [
      "0.12951759566589174\n"
     ]
    }
   ],
   "source": [
    "mean = 0\n",
    "std_dev = 1\n",
    "x = 1.5\n",
    "pdf_value = normal_pdf(x, mean, std_dev)\n",
    "print(pdf_value)"
   ]
  },
  {
   "attachments": {},
   "cell_type": "markdown",
   "metadata": {},
   "source": [
    "Q4. What are the properties of Binomial distribution? Give two examples of events where binomial distribution can be applied."
   ]
  },
  {
   "attachments": {},
   "cell_type": "markdown",
   "metadata": {},
   "source": [
    "Answer:\n",
    "\n",
    "The binomial distribution has several properties that make it a useful and widely applied probability distribution. Here are the key properties of the binomial distribution:\n",
    "\n",
    "1. Fixed number of trials: The binomial distribution models a fixed number of independent trials or experiments, denoted as 'n'. Each trial has only two possible outcomes, typically referred to as success or failure.\n",
    "\n",
    "2. Independent trials: The trials are assumed to be independent, meaning that the outcome of one trial does not affect the outcome of another.\n",
    "\n",
    "3. Constant probability of success: The probability of success on each trial is constant and denoted as 'p'. The probability of failure is then given by '1 - p'.\n",
    "\n",
    "4. Discrete outcomes: The binomial distribution is a discrete probability distribution, as it deals with counting the number of successes out of a fixed number of trials.\n",
    "\n",
    "5. Probability mass function (PMF): The probability mass function of the binomial distribution gives the probability of getting exactly 'k' successes in 'n' trials. It can be calculated using the formula: P(X = k) = C(n, k) * p^k * (1 - p)^(n - k), where C(n, k) represents the binomial coefficient.\n",
    "\n",
    "Examples of events where the binomial distribution can be applied include:\n",
    "\n",
    "1. Coin Flipping: When flipping a fair coin multiple times, the outcome of each flip can be considered a Bernoulli trial with a 50% probability of success (heads) and a 50% probability of failure (tails). The number of heads obtained in a fixed number of flips follows a binomial distribution.\n",
    "\n",
    "2. Quality Control: In manufacturing processes, quality control often involves inspecting a sample of items and determining the number of defective items. Each item can be considered a trial with a certain probability of being defective. The number of defective items in the sample can be modeled using a binomial distribution."
   ]
  },
  {
   "attachments": {},
   "cell_type": "markdown",
   "metadata": {},
   "source": [
    "Q5. Generate a random sample of size 1000 from a binomial distribution with probability of success 0.4 and plot a histogram of the results using matplotlib."
   ]
  },
  {
   "cell_type": "code",
   "execution_count": 2,
   "metadata": {
    "vscode": {
     "languageId": "perl"
    }
   },
   "outputs": [
    {
     "data": {
      "image/png": "[encoded data removed]",
      "text/plain": [
       "<Figure size 640x480 with 1 Axes>"
      ]
     },
     "metadata": {},
     "output_type": "display_data"
    }
   ],
   "source": [
    "import numpy as np\n",
    "import matplotlib.pyplot as plt\n",
    "\n",
    "# Set the parameters\n",
    "n = 1000 \n",
    "p = 0.4 \n",
    "\n",
    "sample = np.random.binomial(n, p, size=1000)\n",
    "\n",
    "plt.hist(sample, bins='auto', color='skyblue', edgecolor='black')\n",
    "plt.xlabel('Number of Successes')\n",
    "plt.ylabel('Frequency')\n",
    "plt.title('Histogram of Random Sample from Binomial Distribution')\n",
    "plt.show()"
   ]
  },
  {
   "attachments": {},
   "cell_type": "markdown",
   "metadata": {},
   "source": [
    "Q6. Write a Python function to calculate the cumulative distribution function of a Poisson distribution\n",
    "with given mean at a given point."
   ]
  },
  {
   "cell_type": "code",
   "execution_count": 3,
   "metadata": {},
   "outputs": [],
   "source": [
    "import math\n",
    "\n",
    "def poisson_cdf(k, mean):\n",
    "    cdf = 0\n",
    "    for i in range(k + 1):\n",
    "        cdf += (mean ** i) * math.exp(-mean) / math.factorial(i)\n",
    "    return cdf"
   ]
  },
  {
   "attachments": {},
   "cell_type": "markdown",
   "metadata": {},
   "source": [
    "In this function, the parameters are as follows:\n",
    "- `k`: The point at which you want to evaluate the CDF.\n",
    "- `mean`: The mean of the Poisson distribution.\n",
    "\n",
    "The function calculates the CDF using the formula:\n",
    "```\n",
    "CDF(k) = P(X ≤ k) = Σ(i=0 to k) (mean^i * exp(-mean) / i!)\n",
    "```\n",
    "where `P(X ≤ k)` represents the probability of the Poisson random variable being less than or equal to `k`, and `X` is the Poisson random variable.\n",
    "\n",
    "To use this function, you can call it and provide the necessary values for `k` and `mean`. For example:"
   ]
  },
  {
   "cell_type": "code",
   "execution_count": 4,
   "metadata": {},
   "outputs": [
    {
     "name": "stdout",
     "output_type": "stream",
     "text": [
      "0.8911780189141512\n"
     ]
    }
   ],
   "source": [
    "mean = 2.5\n",
    "k = 4\n",
    "cdf_value = poisson_cdf(k, mean)\n",
    "print(cdf_value)"
   ]
  },
  {
   "attachments": {},
   "cell_type": "markdown",
   "metadata": {},
   "source": [
    "Q7. How Binomial distribution different from Poisson distribution?"
   ]
  },
  {
   "attachments": {},
   "cell_type": "markdown",
   "metadata": {},
   "source": [
    "Answer:\n",
    "\n",
    "The binomial distribution and the Poisson distribution are two distinct probability distributions that have different characteristics and are used in different scenarios. Here are the key differences between the two distributions:\n",
    "\n",
    "1. Number of Trials: The binomial distribution models a fixed number of independent trials, denoted as 'n', each with a constant probability of success, denoted as 'p'. In contrast, the Poisson distribution does not have a fixed number of trials. Instead, it models the number of events occurring in a fixed interval of time or space.\n",
    "\n",
    "2. Outcome: In the binomial distribution, each trial has two possible outcomes: success or failure. The Poisson distribution models the count of events occurring in a given interval, where the outcomes can range from 0 to infinity.\n",
    "\n",
    "3. Probability: In the binomial distribution, the probability of success (p) remains constant for each trial. In the Poisson distribution, the probability of an event occurring in a fixed interval depends on the average rate of occurrence (λ).\n",
    "\n",
    "4. Shape: The shape of the distributions is different. The binomial distribution is discrete and has a bell-shaped curve when the number of trials is large. The Poisson distribution is also discrete but typically exhibits a skewed right shape.\n",
    "\n",
    "5. Assumptions: The binomial distribution assumes a fixed number of trials, independence of trials, and constant probability of success. The Poisson distribution assumes that events occur randomly and independently in time or space, with the average rate of occurrence remaining constant.\n",
    "\n",
    "6. Application: The binomial distribution is often used to model situations where there are a fixed number of independent trials with a binary outcome, such as flipping a coin multiple times or counting the number of successes in a sample. The Poisson distribution is commonly used to model events that occur randomly over time or space, such as the number of phone calls received in a call center in a given time interval or the number of defects in a production line."
   ]
  },
  {
   "attachments": {},
   "cell_type": "markdown",
   "metadata": {},
   "source": [
    "Q8. Generate a random sample of size 1000 from a Poisson distribution with mean 5 and calculate the\n",
    "sample mean and variance."
   ]
  },
  {
   "cell_type": "code",
   "execution_count": 7,
   "metadata": {},
   "outputs": [
    {
     "name": "stdout",
     "output_type": "stream",
     "text": [
      "Sample Mean: 5.006\n",
      "Sample Variance: 4.957964\n"
     ]
    }
   ],
   "source": [
    "import numpy as np\n",
    "\n",
    "mean = 5\n",
    "sample_size = 1000\n",
    "\n",
    "sample = np.random.poisson(mean, size=sample_size)\n",
    "\n",
    "sample_mean = np.mean(sample)\n",
    "sample_variance = np.var(sample)\n",
    "\n",
    "print(\"Sample Mean:\", sample_mean)\n",
    "print(\"Sample Variance:\", sample_variance)\n"
   ]
  },
  {
   "attachments": {},
   "cell_type": "markdown",
   "metadata": {},
   "source": [
    "Q9. How mean and variance are related in Binomial distribution and Poisson distribution?"
   ]
  },
  {
   "attachments": {},
   "cell_type": "markdown",
   "metadata": {},
   "source": [
    "Answer:\n",
    "\n",
    "In the binomial distribution:\n",
    "- Mean: The mean of a binomial distribution is given by the product of the number of trials (n) and the probability of success (p). It is denoted as μ = n * p.\n",
    "- Variance: The variance of a binomial distribution is given by the product of the number of trials (n), the probability of success (p), and the probability of failure (q = 1 - p). It is denoted as σ^2 = n * p * q.\n",
    "\n",
    "Therefore, for a binomial distribution, the mean (μ) and variance (σ^2) are related by the formula σ^2 = μ * q.\n",
    "\n",
    "In the Poisson distribution:\n",
    "- Mean: The mean of a Poisson distribution is equal to the average rate of occurrence (λ). It represents the expected number of events in a fixed interval.\n",
    "- Variance: The variance of a Poisson distribution is also equal to the average rate of occurrence (λ). It is denoted as σ^2 = λ.\n",
    "\n",
    "Therefore, for a Poisson distribution, the mean (μ) and variance (σ^2) are equal, i.e., σ^2 = μ."
   ]
  },
  {
   "attachments": {},
   "cell_type": "markdown",
   "metadata": {},
   "source": [
    "Q10. In normal distribution with respect to mean position, where does the least frequent data appear?"
   ]
  },
  {
   "attachments": {},
   "cell_type": "markdown",
   "metadata": {},
   "source": [
    "Answer:\n",
    "\n",
    "In a normal distribution, also known as a Gaussian distribution, the least frequent data appears in the tails of the distribution, far away from the mean. \n",
    "\n",
    "A normal distribution is symmetric and bell-shaped, with the highest frequency of data occurring at the mean. As you move away from the mean in either direction, the frequency of data decreases. The tails of the distribution represent the extreme values that occur less frequently.\n",
    "\n",
    "Specifically, the least frequent data appears in the tails of the distribution, which are the regions located far from the mean. These are the values that are several standard deviations away from the mean.\n",
    "\n",
    "In a standard normal distribution (mean = 0, standard deviation = 1), the least frequent data would appear in the tails beyond ±3 standard deviations from the mean. These extreme values occur with low probability according to the properties of the normal distribution."
   ]
  }
 ],
 "metadata": {
  "kernelspec": {
   "display_name": "Python 3",
   "language": "python",
   "name": "python3"
  },
  "language_info": {
   "codemirror_mode": {
    "name": "ipython",
    "version": 3
   },
   "file_extension": ".py",
   "mimetype": "text/x-python",
   "name": "python",
   "nbconvert_exporter": "python",
   "pygments_lexer": "ipython3",
   "version": "3.10.11"
  },
  "orig_nbformat": 4
 },
 "nbformat": 4,
 "nbformat_minor": 2
}
