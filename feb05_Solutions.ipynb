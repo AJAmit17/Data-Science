{
 "cells": [
  {
   "attachments": {},
   "cell_type": "markdown",
   "metadata": {},
   "source": [
    "Q1.  Explain Class and Object with respect to Object-Oriented Programming. Give a suitable example."
   ]
  },
  {
   "attachments": {},
   "cell_type": "markdown",
   "metadata": {},
   "source": [
    "Answer: In object-oriented programming, a class is a blueprint or template for creating objects, while an object is an instance of a class. Classes define the properties and methods that objects will have, while objects represent individual instances of those classes that can be manipulated and interacted with.\n",
    "\n",
    "A class typically consists of attributes (data members) that define the state of an object and methods (member functions) that define the behavior of an object. Objects are created from a class using the \"constructor\" method, which initializes the object's attributes to specific values.\n",
    "\n",
    "Here is an example that demonstrates the concept of classes and objects in Python:"
   ]
  },
  {
   "cell_type": "code",
   "execution_count": 26,
   "metadata": {},
   "outputs": [
    {
     "name": "stdout",
     "output_type": "stream",
     "text": [
      "15\n"
     ]
    }
   ],
   "source": [
    "class Car:\n",
    "    def __init__(self, make, model, year):\n",
    "        self.make = make\n",
    "        self.model = model\n",
    "        self.year = year\n",
    "        self.speed = 0\n",
    "\n",
    "    def accelerate(self, increment):\n",
    "        self.speed += increment\n",
    "\n",
    "    def brake(self, decrement):\n",
    "        self.speed -= decrement\n",
    "\n",
    "my_car = Car(\"Toyota\", \"Camry\", 2020)\n",
    "my_car.accelerate(20)\n",
    "my_car.brake(5)\n",
    "print(my_car.speed)"
   ]
  },
  {
   "attachments": {},
   "cell_type": "markdown",
   "metadata": {},
   "source": [
    "The \"my_car\" object is an instance of the \"Car\" class that has its own set of attributes and methods. By creating multiple objects of the same class, we can simulate multiple cars with different states and behaviors. This allows us to write more modular and reusable code in our programs."
   ]
  },
  {
   "attachments": {},
   "cell_type": "markdown",
   "metadata": {},
   "source": [
    "Q2. Name the four pillars of OOPs."
   ]
  },
  {
   "attachments": {},
   "cell_type": "markdown",
   "metadata": {},
   "source": [
    "Answer:\n",
    "The four pillars of object-oriented programming are:\n",
    "\n",
    "1. Encapsulation: Encapsulation is the concept of bundling data and methods that operate on that data within a single unit, usually a class. This helps to hide the complexity of the system and protect the data from external access, ensuring that it is accessed and modified only through a well-defined interface.\n",
    "\n",
    "2. Abstraction: Abstraction is the process of representing complex real-world entities as simplified models in code. This involves identifying the essential properties and behavior of an entity and ignoring the irrelevant details. Abstraction makes the code more manageable and easier to understand.\n",
    "\n",
    "3. Inheritance: Inheritance is the ability of a class to inherit properties and methods from another class, called the parent or superclass. Inheritance allows the creation of a hierarchy of classes that share common functionality while allowing for customization and specialization of behavior.\n",
    "\n",
    "4. Polymorphism: Polymorphism is the ability of an object to take on multiple forms. This means that a single method or property can behave differently depending on the context in which it is used. Polymorphism allows for more flexible and adaptable code."
   ]
  },
  {
   "attachments": {},
   "cell_type": "markdown",
   "metadata": {},
   "source": [
    "Q3. Explain why the __\\__init_\\__() function is used. Give a suitable example."
   ]
  },
  {
   "attachments": {},
   "cell_type": "markdown",
   "metadata": {},
   "source": [
    "Answer: The _\\_init_\\_() function is used in Python to initialize the attributes of an object when it is created. It is a special method that is called automatically when a new instance of a class is created, and it allows you to set default values for the object's attributes. The _\\_init_\\_() function takes the self parameter as its first argument, which refers to the instance of the object being created."
   ]
  },
  {
   "cell_type": "code",
   "execution_count": 14,
   "metadata": {},
   "outputs": [],
   "source": [
    "class person:\n",
    "    def __init__(self, name, age):\n",
    "        self.name = name\n",
    "        self.age = age"
   ]
  },
  {
   "cell_type": "code",
   "execution_count": 18,
   "metadata": {},
   "outputs": [],
   "source": [
    "obj_1= person(\"Sheryas\",69)"
   ]
  },
  {
   "cell_type": "code",
   "execution_count": 19,
   "metadata": {},
   "outputs": [
    {
     "data": {
      "text/plain": [
       "'Sheryas'"
      ]
     },
     "execution_count": 19,
     "metadata": {},
     "output_type": "execute_result"
    }
   ],
   "source": [
    "obj_1.name"
   ]
  },
  {
   "attachments": {},
   "cell_type": "markdown",
   "metadata": {},
   "source": [
    "Q4. Why self is used in OOPs?"
   ]
  },
  {
   "attachments": {},
   "cell_type": "markdown",
   "metadata": {},
   "source": [
    "Answer: In object-oriented programming (OOP), \"self\" is a special keyword that refers to the current instance of a class. It is used to access and manipulate the attributes and methods of the object.\n",
    "\n",
    "In OOP, objects are created from classes, and each object has its own set of attributes and methods. When a method is called on an object, the method needs to know which object it is operating on. This is where \"self\" comes in.\n",
    "\n",
    "When a method is called on an object, the object itself is passed to the method as the first argument. By convention, this argument is usually named \"self\" to indicate that it refers to the current instance of the class.\n",
    "\n",
    "Using \"self\" allows methods to access and modify the attributes of the object that they are called on. It also allows methods to call other methods of the same object.\n",
    "\n",
    "Overall, \"self\" is an important concept in OOP because it helps to ensure that methods operate on the correct object and can access and manipulate its attributes and methods as needed."
   ]
  },
  {
   "attachments": {},
   "cell_type": "markdown",
   "metadata": {},
   "source": [
    "Q5. What is inheritance? Give an example for each type of inheritance"
   ]
  },
  {
   "attachments": {},
   "cell_type": "markdown",
   "metadata": {},
   "source": [
    "Answer: Inheritance is a fundamental concept in object-oriented programming (OOP) that allows a class to inherit properties and methods from another class. Inheritance helps to promote code reuse and can make it easier to organize and maintain code.\n",
    "\n",
    "There are four types of inheritance in OOP:\n",
    "\n",
    "1. Single Inheritance: In single inheritance, a subclass inherits properties and methods from a single superclass. For example, consider a class hierarchy for different types of vehicles:"
   ]
  },
  {
   "cell_type": "code",
   "execution_count": 20,
   "metadata": {},
   "outputs": [],
   "source": [
    "class Vehicle:\n",
    "    def _init_(self, make, model, year):\n",
    "        self.make = make\n",
    "        self.model = model\n",
    "        self.year = year\n",
    "\n",
    "class Car(Vehicle):\n",
    "    def _init_(self, make, model, year, num_doors):\n",
    "        super()._init_(make, model, year)\n",
    "        self.num_doors = num_doors"
   ]
  },
  {
   "attachments": {},
   "cell_type": "markdown",
   "metadata": {},
   "source": [
    "2. Multiple Inheritance: In multiple inheritance, a subclass inherits properties and methods from multiple superclasses. For example, consider a class hierarchy for different types of musical instruments:"
   ]
  },
  {
   "cell_type": "code",
   "execution_count": 21,
   "metadata": {},
   "outputs": [],
   "source": [
    "class StringedInstrument:\n",
    "    def play(self):\n",
    "        pass\n",
    "\n",
    "class WoodwindInstrument:\n",
    "    def play(self):\n",
    "        pass\n",
    "\n",
    "class Guitar(StringedInstrument):\n",
    "    pass\n",
    "\n",
    "class Flute(WoodwindInstrument):\n",
    "    pass\n",
    "\n",
    "class Saxophone(WoodwindInstrument, StringedInstrument):\n",
    "    pass"
   ]
  },
  {
   "attachments": {},
   "cell_type": "markdown",
   "metadata": {},
   "source": [
    "3. Multi-level Inheritance: In multi-level inheritance, a subclass inherits properties and methods from a superclass that itself inherits from another superclass. For example:"
   ]
  },
  {
   "cell_type": "code",
   "execution_count": 22,
   "metadata": {},
   "outputs": [],
   "source": [
    "class Animal:\n",
    "    def _init_(self, name):\n",
    "        self.name = name\n",
    "\n",
    "class Dog(Animal):\n",
    "    def bark(self):\n",
    "        print(\"Woof!\")\n",
    "\n",
    "class Poodle(Dog):\n",
    "    pass"
   ]
  },
  {
   "attachments": {},
   "cell_type": "markdown",
   "metadata": {},
   "source": [
    "4. Hierarchical Inheritance: In hierarchical inheritance, multiple subclasses inherit properties and methods from a single superclass. For example:"
   ]
  },
  {
   "cell_type": "code",
   "execution_count": 23,
   "metadata": {},
   "outputs": [],
   "source": [
    "class Shape:\n",
    "    def area(self):\n",
    "        pass\n",
    "\n",
    "class Rectangle(Shape):\n",
    "    def area(self, width, height):\n",
    "        return width * height\n",
    "\n",
    "class Circle(Shape):\n",
    "    def area(self, radius):\n",
    "        return 3.14 * radius ** 2"
   ]
  }
 ],
 "metadata": {
  "kernelspec": {
   "display_name": "Python 3",
   "language": "python",
   "name": "python3"
  },
  "language_info": {
   "codemirror_mode": {
    "name": "ipython",
    "version": 3
   },
   "file_extension": ".py",
   "mimetype": "text/x-python",
   "name": "python",
   "nbconvert_exporter": "python",
   "pygments_lexer": "ipython3",
   "version": "3.10.10"
  },
  "orig_nbformat": 4,
  "vscode": {
   "interpreter": {
    "hash": "a226a5ffac47fed56f49b199961a53486197ae7417e8c41efae72294227e3d7f"
   }
  }
 },
 "nbformat": 4,
 "nbformat_minor": 2
}
