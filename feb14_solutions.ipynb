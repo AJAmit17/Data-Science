{
 "cells": [
  {
   "attachments": {},
   "cell_type": "markdown",
   "metadata": {},
   "source": [
    "Q1. What is multithreading in python? Why is it used? Name the module used to handle threads in python"
   ]
  },
  {
   "attachments": {},
   "cell_type": "markdown",
   "metadata": {},
   "source": [
    "Answer:\n",
    "\n",
    "Multithreading in Python is a programming technique that allows multiple threads of execution to run simultaneously within the same program. Each thread follows its own sequence of instructions, allowing the program to perform multiple tasks at the same time. \n",
    "\n",
    "Multithreading is used to improve the performance of the program by utilizing the available resources more efficiently. For example, in a program that performs multiple tasks, multithreading can be used to ensure that each task runs independently and is not blocked by other tasks.\n",
    "\n",
    "The module used to handle threads in Python is called \"threading\". It provides a high-level interface for creating and managing threads in Python."
   ]
  },
  {
   "attachments": {},
   "cell_type": "markdown",
   "metadata": {},
   "source": [
    "Q2. Why threading module used? Write the use of the following functions\n",
    "1. activeCount()\n",
    "2. currentThread()\n",
    "3. enumerate()"
   ]
  },
  {
   "attachments": {},
   "cell_type": "markdown",
   "metadata": {},
   "source": [
    "Answer:\n",
    "\n",
    "The threading module in Python is used for creating, controlling and managing threads in a program. Using threads allows a program to perform multiple tasks simultaneously, which can improve performance and user experience.\n",
    "\n",
    "The following are the uses of the functions in the threading module:\n",
    "\n",
    "1. activeCount(): This function returns the number of thread objects that are active in the current program or process. It can be useful for monitoring the number of threads and ensuring that the program doesn't create too many threads, which can lead to performance problems.\n",
    "\n",
    "2. currentThread(): This function returns a reference to the currently executing thread object. It can be useful for identifying the thread that is currently executing and for passing the thread object as an argument to other functions or methods.\n",
    "\n",
    "3. enumerate(): This function returns a list of all active thread objects in the current program or process. It can be useful for monitoring the status of all threads and for performing operations on all threads in a program. The list returned by enumerate() includes the main thread as well as any additional threads that have been created."
   ]
  },
  {
   "attachments": {},
   "cell_type": "markdown",
   "metadata": {},
   "source": [
    "Q3. Explain the following functions\n",
    "1. run()\n",
    "2. start()\n",
    "3. join()\n",
    "4. isAlive()"
   ]
  },
  {
   "attachments": {},
   "cell_type": "markdown",
   "metadata": {},
   "source": [
    "Answer:\n",
    "\n",
    "1. `run()` function: The run() function is called to run the thread. It contains the code that is executed in the thread once it starts running.\n",
    "\n",
    "2. `start()` function: The start() function is called to start the thread. It initializes the thread and calls the run() method.\n",
    "\n",
    "3. `join()` function: The join() function is called to wait for the thread to complete its execution. It blocks the current thread until the called thread is completed or terminated.\n",
    "\n",
    "4. `isAlive()` function: The isAlive() function is called to check whether the thread is currently executing or not. It returns True if the thread is running and False if it has completed execution or has not started yet."
   ]
  },
  {
   "attachments": {},
   "cell_type": "markdown",
   "metadata": {},
   "source": [
    "Q4. Write a python program to create two threads. Thread one must print the list of squares and thread\n",
    "two must print the list of cubes"
   ]
  },
  {
   "attachments": {},
   "cell_type": "markdown",
   "metadata": {},
   "source": [
    "Answer:\n",
    "\n",
    "Here is the Python code to create two threads, where one thread prints the list of squares and the second thread prints the list of cubes:\n",
    "\n",
    "```python\n",
    "import threading\n",
    "\n",
    "def print_squares():\n",
    "    for i in range(1, 11):\n",
    "        print(\"Square of\", i, \"is\", i*i)\n",
    "\n",
    "def print_cubes():\n",
    "    for i in range(1, 11):\n",
    "        print(\"Cube of\", i, \"is\", i*i*i)\n",
    "\n",
    "t1 = threading.Thread(target=print_squares)\n",
    "t2 = threading.Thread(target=print_cubes)\n",
    "\n",
    "t1.start()\n",
    "t2.start()\n",
    "\n",
    "t1.join()\n",
    "t2.join()\n",
    "\n",
    "print(\"Done\")\n",
    "```\n",
    "\n",
    "In the above code, first we have defined two functions `print_squares` and `print_cubes` which print the squares and cubes of numbers from 1 to 10 respectively. Then, we have created two threads `t1` and `t2` with `target` as the two functions respectively. Next, we have started the threads using `start()` method and then waited for the threads to complete using `join()` method. Finally, we have printed \"Done\" to indicate the end of the program execution."
   ]
  },
  {
   "attachments": {},
   "cell_type": "markdown",
   "metadata": {},
   "source": [
    "Q5. State advantages and disadvantages of multithreading"
   ]
  },
  {
   "attachments": {},
   "cell_type": "markdown",
   "metadata": {},
   "source": [
    "Answer:\n",
    "\n",
    "Advantages of Multithreading:\n",
    "1. Increased Efficiency: Multithreading increases the overall efficiency of a program by allowing multiple tasks to be executed simultaneously.\n",
    "2. Improved Responsiveness: Multithreading allows the program to stay responsive to users by allowing the execution of multiple tasks simultaneously, even while one or more of the threads are blocked.\n",
    "3. Utilization of Multi-Core Processors: Multithreading allows the program to take advantage of multi-core processors by assigning different threads to different cores.\n",
    "4. Enhanced Resource Sharing: Multithreading enhances the sharing of resources among threads, improving program performance.\n",
    "5. Reduced Development Time: Multithreading can help reduce the overall development time of a program by making it more efficient.\n",
    "\n",
    "Disadvantages of Multithreading:\n",
    "1. Increased Complexity: Multithreaded programs can be more complex to write and maintain compared to single-threaded programs.\n",
    "2. Synchronization Overhead: Synchronization between threads can cause overhead and may also introduce bugs and performance issues.\n",
    "3. Race Conditions: Race conditions can occur when multiple threads access and modify a shared resource simultaneously, leading to unpredictable and potentially incorrect results.\n",
    "4. Deadlocks: Deadlocks can occur when two or more threads are waiting for each other to release locks or resources, causing the program to freeze.\n",
    "5. Debugging Complexity: Debugging multithreaded programs can be complex and time-consuming, especially when race conditions or deadlocks occur."
   ]
  },
  {
   "attachments": {},
   "cell_type": "markdown",
   "metadata": {},
   "source": [
    "Q6. Explain deadlocks and race conditions."
   ]
  },
  {
   "attachments": {},
   "cell_type": "markdown",
   "metadata": {},
   "source": [
    "Answer:\n",
    "\n",
    "Deadlocks occur in a multi-threaded program when two or more threads are waiting indefinitely for one another to release a shared resource and continue execution. This results in a situation where none of the threads can proceed to complete their task, effectively freezing the program.\n",
    "\n",
    "A race condition occurs when two or more threads access a shared resource (such as a variable or a file) concurrently and the outcome of each thread's operation depends on the timing or ordering of the other thread's operation. This can result in unpredictable behavior, such as data corruption or unexpected results.\n",
    "\n",
    "Both deadlocks and race conditions can cause significant issues in multi-threaded applications and require careful consideration and management to avoid."
   ]
  }
 ],
 "metadata": {
  "language_info": {
   "name": "python"
  },
  "orig_nbformat": 4
 },
 "nbformat": 4,
 "nbformat_minor": 2
}
