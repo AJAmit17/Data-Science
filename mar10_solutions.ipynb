{
 "cells": [
  {
   "attachments": {},
   "cell_type": "markdown",
   "metadata": {},
   "source": [
    "Q1: What is Estimation Statistics? Explain point estimate and interval estimate."
   ]
  },
  {
   "attachments": {},
   "cell_type": "markdown",
   "metadata": {},
   "source": [
    "Answer:\n",
    "\n",
    "Estimation in statistics refers to the process of using sample data to make inferences or estimates about population parameters. Estimation allows us to estimate unknown quantities of interest based on observed data.\n",
    "\n",
    "Point Estimate:\n",
    "A point estimate is a single value that is used to estimate an unknown parameter of interest in a population. It is obtained by using a statistic calculated from the sample data. The point estimate provides an estimate of the population parameter but does not give any information about the uncertainty associated with the estimate. For example, if we want to estimate the mean height of all individuals in a population, we can calculate the sample mean as a point estimate.\n",
    "\n",
    "Interval Estimate:\n",
    "An interval estimate provides a range of values within which the true population parameter is likely to fall. It accounts for the uncertainty associated with the estimate. An interval estimate consists of a lower bound and an upper bound, forming an interval. The interval is constructed using a point estimate along with a margin of error, often derived from the sampling distribution or using statistical techniques such as confidence intervals. For example, an interval estimate for the mean height of a population might be \"95% confidence interval: [165 cm, 175 cm]\".\n",
    "\n",
    "The key difference between a point estimate and an interval estimate is that a point estimate provides a single value, while an interval estimate provides a range of plausible values.\n",
    "\n",
    "Interval estimates are often accompanied by a confidence level, which represents the level of confidence or certainty we have that the true parameter lies within the interval. Commonly used confidence levels are 90%, 95%, and 99%. For example, a 95% confidence interval implies that we are 95% confident that the true parameter falls within the interval.\n",
    "\n",
    "Interval estimates provide more information than point estimates as they convey the uncertainty associated with the estimate. However, constructing interval estimates typically involves more complex calculations and considerations compared to obtaining a point estimate."
   ]
  },
  {
   "attachments": {},
   "cell_type": "markdown",
   "metadata": {},
   "source": [
    "Q2. Write a Python function to estimate the population mean using a sample mean and standard\n",
    "deviation."
   ]
  },
  {
   "cell_type": "code",
   "execution_count": 1,
   "metadata": {},
   "outputs": [],
   "source": [
    "import math\n",
    "\n",
    "def estimate_population_mean(sample_mean, sample_std_dev, sample_size):\n",
    "    standard_error = sample_std_dev / math.sqrt(sample_size)\n",
    "    \n",
    "    margin_of_error = 1.96 * standard_error\n",
    "    \n",
    "    lower_bound = sample_mean - margin_of_error\n",
    "    upper_bound = sample_mean + margin_of_error\n",
    "    \n",
    "    return sample_mean, lower_bound, upper_bound\n"
   ]
  },
  {
   "attachments": {},
   "cell_type": "markdown",
   "metadata": {},
   "source": [
    "Q3: What is Hypothesis testing? Why is it used? State the importance of Hypothesis testing."
   ]
  },
  {
   "attachments": {},
   "cell_type": "markdown",
   "metadata": {},
   "source": [
    "Answer:\n",
    "\n",
    "Hypothesis testing is a statistical procedure used to make inferences and draw conclusions about a population based on sample data. It involves the formulation of two competing hypotheses, the null hypothesis (H0) and the alternative hypothesis (Ha), and uses statistical evidence to determine which hypothesis is more likely to be true.\n",
    "\n",
    "The null hypothesis (H0) represents the assumption or claim that is initially tested. It is typically the hypothesis of no effect or no difference. The alternative hypothesis (Ha) represents the opposite of the null hypothesis and is the hypothesis that researchers are interested in proving or supporting.\n",
    "\n",
    "The hypothesis testing process involves the following steps:\n",
    "\n",
    "1. State the null hypothesis (H0) and the alternative hypothesis (Ha) based on the research question or problem.\n",
    "\n",
    "2. Collect and analyze sample data.\n",
    "\n",
    "3. Calculate a test statistic based on the sample data and the chosen statistical test.\n",
    "\n",
    "4. Determine the probability (p-value) of obtaining the observed test statistic under the null hypothesis.\n",
    "\n",
    "5. Compare the p-value to a pre-determined significance level (alpha), typically set at 0.05 or 0.01.\n",
    "\n",
    "6. If the p-value is less than the significance level, reject the null hypothesis in favor of the alternative hypothesis. If the p-value is greater than the significance level, fail to reject the null hypothesis.\n",
    "\n",
    "The importance of hypothesis testing:\n",
    "\n",
    "1. Inference and Decision Making: Hypothesis testing allows researchers to make objective decisions and draw conclusions about population parameters based on sample data. It provides a systematic and rigorous framework for analyzing and interpreting data.\n",
    "\n",
    "2. Scientific Validity: Hypothesis testing helps researchers test and validate scientific theories and hypotheses. It allows for the evaluation of competing explanations or claims, leading to a better understanding of the underlying phenomena.\n",
    "\n",
    "3. Problem Solving: Hypothesis testing is commonly used in various fields, including medicine, psychology, economics, and engineering, to address real-world problems. It provides a structured approach to answer research questions, support decision-making processes, and solve practical problems.\n",
    "\n",
    "4. Statistical Inference: Hypothesis testing is an essential tool for statistical inference. It allows for generalizing the findings from a sample to a larger population, making inferences about population parameters, and assessing the reliability and significance of observed effects or differences.\n",
    "\n",
    "5. Objective Analysis: Hypothesis testing provides a systematic way to evaluate the evidence against the null hypothesis using statistical techniques. It helps researchers avoid subjective biases and ensures that conclusions are based on objective evidence."
   ]
  },
  {
   "attachments": {},
   "cell_type": "markdown",
   "metadata": {},
   "source": [
    "Q4. Create a hypothesis that states whether the average weight of male college students is greater than\n",
    "the average weight of female college students."
   ]
  },
  {
   "attachments": {},
   "cell_type": "markdown",
   "metadata": {},
   "source": [
    "Answer:\n",
    "\n",
    "Null Hypothesis (H0): The average weight of male college students is equal to or less than the average weight of female college students.\n",
    "\n",
    "Alternative Hypothesis (Ha): The average weight of male college students is greater than the average weight of female college students.\n",
    "\n",
    "In statistical notation:\n",
    "\n",
    "H0: μm ≤ μf (where μm represents the population mean weight of male college students, and μf represents the population mean weight of female college students)\n",
    "\n",
    "Ha: μm > μf\n",
    "\n",
    "This hypothesis states that there is no significant difference or the average weight of male college students is equal to or less than the average weight of female college students. The alternative hypothesis suggests that there is a significant difference, specifically that the average weight of male college students is greater than the average weight of female college students."
   ]
  },
  {
   "attachments": {},
   "cell_type": "markdown",
   "metadata": {},
   "source": [
    "Q5. Write a Python script to conduct a hypothesis test on the difference between two population means,\n",
    "given a sample from each population."
   ]
  },
  {
   "cell_type": "code",
   "execution_count": 2,
   "metadata": {},
   "outputs": [
    {
     "name": "stdout",
     "output_type": "stream",
     "text": [
      "Test statistic: 3.0\n",
      "p-value: 0.017071681233782554\n",
      "Reject H0: There is a significant difference between the population means.\n"
     ]
    }
   ],
   "source": [
    "import numpy as np\n",
    "import scipy.stats as stats\n",
    "\n",
    "def conduct_hypothesis_test(sample1, sample2, alpha):\n",
    "    # Compute sample statistics\n",
    "    n1 = len(sample1)\n",
    "    n2 = len(sample2)\n",
    "    mean1 = np.mean(sample1)\n",
    "    mean2 = np.mean(sample2)\n",
    "    std1 = np.std(sample1, ddof=1)\n",
    "    std2 = np.std(sample2, ddof=1)\n",
    "\n",
    "    # Compute the test statistic (t-statistic)\n",
    "    pooled_std = np.sqrt((std1**2 / n1) + (std2**2 / n2))\n",
    "    t_stat = (mean1 - mean2) / pooled_std\n",
    "\n",
    "    # Compute the degrees of freedom\n",
    "    dof = n1 + n2 - 2\n",
    "\n",
    "    # Compute the p-value\n",
    "    p_value = 2 * (1 - stats.t.cdf(np.abs(t_stat), df=dof))\n",
    "\n",
    "    # Compare the p-value with the significance level\n",
    "    if p_value < alpha:\n",
    "        result = \"Reject H0: There is a significant difference between the population means.\"\n",
    "    else:\n",
    "        result = \"Fail to reject H0: There is no significant difference between the population means.\"\n",
    "\n",
    "    return t_stat, p_value, result\n",
    "\n",
    "# Example usage\n",
    "sample1 = [68, 72, 64, 70, 66]\n",
    "sample2 = [62, 58, 66, 60, 64]\n",
    "alpha = 0.05\n",
    "\n",
    "t_statistic, p_value, result = conduct_hypothesis_test(sample1, sample2, alpha)\n",
    "\n",
    "print(\"Test statistic:\", t_statistic)\n",
    "print(\"p-value:\", p_value)\n",
    "print(result)\n"
   ]
  },
  {
   "attachments": {},
   "cell_type": "markdown",
   "metadata": {},
   "source": [
    "Q6: What is a null and alternative hypothesis? Give some examples."
   ]
  },
  {
   "attachments": {},
   "cell_type": "markdown",
   "metadata": {},
   "source": [
    "Answer:\n",
    "\n",
    "In hypothesis testing, the null hypothesis (H0) and alternative hypothesis (Ha) are two competing statements about a population parameter or a relationship between variables. These hypotheses are used to test the validity of a claim or to make inferences based on sample data. Here are some examples of null and alternative hypotheses:\n",
    "\n",
    "1. Example: Testing the effectiveness of a new drug\n",
    "   Null Hypothesis (H0): The new drug has no effect or is not significantly different from the existing treatment.\n",
    "   Alternative Hypothesis (Ha): The new drug is more effective or produces different results compared to the existing treatment.\n",
    "\n",
    "2. Example: Comparing the means of two groups\n",
    "   Null Hypothesis (H0): The means of Group A and Group B are equal or not significantly different.\n",
    "   Alternative Hypothesis (Ha): The means of Group A and Group B are different or one is greater than the other.\n",
    "\n",
    "3. Example: Assessing the impact of a training program\n",
    "   Null Hypothesis (H0): The training program has no impact or does not significantly improve performance.\n",
    "   Alternative Hypothesis (Ha): The training program has a positive impact or significantly improves performance.\n",
    "\n",
    "4. Example: Examining the correlation between variables\n",
    "   Null Hypothesis (H0): There is no correlation or no significant relationship between the variables.\n",
    "   Alternative Hypothesis (Ha): There is a correlation or a significant relationship between the variables.\n",
    "\n",
    "5. Example: Investigating the fairness of a coin\n",
    "   Null Hypothesis (H0): The coin is fair and has an equal probability of heads and tails.\n",
    "   Alternative Hypothesis (Ha): The coin is biased and does not have an equal probability of heads and tails."
   ]
  },
  {
   "attachments": {},
   "cell_type": "markdown",
   "metadata": {},
   "source": [
    "Q7: Write down the steps involved in hypothesis testing."
   ]
  },
  {
   "attachments": {},
   "cell_type": "markdown",
   "metadata": {},
   "source": [
    "Answer:\n",
    "\n",
    "Hypothesis testing involves a systematic set of steps to test the validity of a claim or make inferences about a population based on sample data. Here are the general steps involved in hypothesis testing:\n",
    "\n",
    "1. State the Hypotheses:\n",
    "   - Formulate the null hypothesis (H0), representing the default assumption or claim.\n",
    "   - Formulate the alternative hypothesis (Ha), representing the opposite of the null hypothesis or the claim of interest.\n",
    "\n",
    "2. Set the Significance Level (α):\n",
    "   - Determine the desired level of significance (α), which represents the maximum probability of rejecting the null hypothesis when it is true.\n",
    "   - Commonly used significance levels are 0.05 (5%) and 0.01 (1%).\n",
    "\n",
    "3. Select the Test Statistic and the Test Distribution:\n",
    "   - Choose an appropriate test statistic based on the nature of the problem and the type of data being analyzed.\n",
    "   - Determine the appropriate distribution for the test statistic based on the assumptions and characteristics of the data.\n",
    "\n",
    "4. Collect Sample Data:\n",
    "   - Collect a representative sample from the population of interest.\n",
    "   - Ensure that the sample is random, unbiased, and sufficiently large to meet the assumptions of the selected test.\n",
    "\n",
    "5. Calculate the Test Statistic:\n",
    "   - Calculate the test statistic based on the sample data and the chosen test statistic formula or procedure.\n",
    "\n",
    "6. Determine the Critical Region:\n",
    "   - Identify the critical region(s) or critical value(s) in the test distribution that defines the rejection region(s) for the null hypothesis.\n",
    "   - The critical region(s) is determined based on the significance level (α) and the nature of the alternative hypothesis (one-tailed or two-tailed).\n",
    "\n",
    "7. Compare the Test Statistic with the Critical Value(s):\n",
    "   - Compare the calculated test statistic with the critical value(s) from the test distribution.\n",
    "   - If the test statistic falls within the critical region(s), reject the null hypothesis.\n",
    "   - If the test statistic falls outside the critical region(s), fail to reject the null hypothesis.\n",
    "\n",
    "8. Calculate the p-value (optional):\n",
    "   - Calculate the p-value, which represents the probability of obtaining a test statistic as extreme or more extreme than the observed value, assuming the null hypothesis is true.\n",
    "   - Compare the p-value with the significance level (α) to make a decision.\n",
    "\n",
    "9. Draw a Conclusion:\n",
    "   - Based on the comparison of the test statistic with the critical value(s) or the p-value, make a decision to reject or fail to reject the null hypothesis.\n",
    "   - State the conclusion in the context of the problem and interpret the results.\n",
    "\n",
    "10. Communicate the Results:\n",
    "    - Clearly communicate the hypothesis tested, the conclusion reached, and any relevant findings or insights.\n",
    "    - Provide appropriate statistical evidence and support for the conclusion.\n"
   ]
  },
  {
   "attachments": {},
   "cell_type": "markdown",
   "metadata": {},
   "source": [
    "Q8. Define p-value and explain its significance in hypothesis testing."
   ]
  },
  {
   "attachments": {},
   "cell_type": "markdown",
   "metadata": {},
   "source": [
    "Answer:\n",
    "\n",
    "The p-value is a probability measure that quantifies the strength of evidence against the null hypothesis in hypothesis testing. It represents the probability of obtaining a test statistic as extreme or more extreme than the observed value, assuming the null hypothesis is true. The p-value is used to make decisions regarding the rejection or acceptance of the null hypothesis.\n",
    "\n",
    "The significance of the p-value in hypothesis testing can be summarized as follows:\n",
    "\n",
    "1. Decision Rule: The p-value helps in making decisions about the null hypothesis. If the p-value is smaller than the chosen significance level (α), typically 0.05 or 0.01, it suggests that the observed data is unlikely to occur by chance alone if the null hypothesis is true. In such cases, the null hypothesis is rejected in favor of the alternative hypothesis. Conversely, if the p-value is greater than the significance level, there is insufficient evidence to reject the null hypothesis.\n",
    "\n",
    "2. Strength of Evidence: The p-value provides a measure of the strength of evidence against the null hypothesis. A smaller p-value indicates stronger evidence against the null hypothesis, suggesting that the observed data is unlikely to occur under the assumption of the null hypothesis. Conversely, a larger p-value suggests weaker evidence against the null hypothesis, indicating that the observed data could reasonably occur by chance under the null hypothesis.\n",
    "\n",
    "3. Level of Confidence: The p-value allows for the quantification of the level of confidence in the hypothesis test results. A smaller p-value corresponds to a higher level of confidence in rejecting the null hypothesis. For example, if the p-value is 0.01, it indicates that there is only a 1% chance of obtaining such extreme data if the null hypothesis is true, providing strong evidence to reject the null hypothesis.\n",
    "\n",
    "4. Interpretation: The p-value helps in interpreting the results of a hypothesis test. If the p-value is significant (smaller than the significance level), it suggests that there is sufficient evidence to support the alternative hypothesis. The p-value does not directly provide information about the effect size or the practical significance of the observed difference, but it indicates the statistical significance."
   ]
  },
  {
   "attachments": {},
   "cell_type": "markdown",
   "metadata": {},
   "source": [
    "Q9. Generate a Student's t-distribution plot using Python's matplotlib library, with the degrees of freedom\n",
    "parameter set to 10."
   ]
  },
  {
   "cell_type": "code",
   "execution_count": 10,
   "metadata": {},
   "outputs": [
    {
     "data": {
      "image/png": "[encoded data removed]",
      "text/plain": [
       "<Figure size 640x480 with 1 Axes>"
      ]
     },
     "metadata": {},
     "output_type": "display_data"
    }
   ],
   "source": [
    "import numpy as np\n",
    "import matplotlib.pyplot as plt\n",
    "from scipy.stats import t\n",
    "\n",
    "# Set the degrees of freedom\n",
    "df = 10\n",
    "\n",
    "# Generate x values for the t-distribution plot\n",
    "x = np.linspace(-5, 5, 500)\n",
    "\n",
    "# Calculate the probability density function (PDF) for the t-distribution\n",
    "pdf = t.pdf(x, df)\n",
    "\n",
    "# Plot the t-distribution\n",
    "plt.plot(x, pdf, label='Student\\'s t-distribution (df=10)')\n",
    "plt.xlabel('x')\n",
    "plt.ylabel('Probability Density')\n",
    "plt.title('Student\\'s t-distribution')\n",
    "plt.legend()\n",
    "plt.grid(True)\n",
    "plt.show()"
   ]
  },
  {
   "attachments": {},
   "cell_type": "markdown",
   "metadata": {},
   "source": [
    "Q10. Write a Python program to calculate the two-sample t-test for independent samples, given two\n",
    "random samples of equal size and a null hypothesis that the population means are equal."
   ]
  },
  {
   "cell_type": "code",
   "execution_count": 12,
   "metadata": {
    "vscode": {
     "languageId": "perl"
    }
   },
   "outputs": [
    {
     "name": "stdout",
     "output_type": "stream",
     "text": [
      "Two-Sample T-Test Results:\n",
      "----------------------------\n",
      "Sample 1 mean: 49.17889935879819\n",
      "Sample 2 mean: 44.93847890386652\n",
      "t-statistic: 2.5718775024704557\n",
      "p-value: 0.010847662263418325\n",
      "Conclusion: Reject the null hypothesis\n"
     ]
    }
   ],
   "source": [
    "import numpy as np\n",
    "from scipy.stats import ttest_ind\n",
    "\n",
    "# Generate two random samples of equal size\n",
    "sample1 = np.random.normal(loc=50, scale=10, size=100)\n",
    "sample2 = np.random.normal(loc=45, scale=12, size=100)\n",
    "\n",
    "# Perform two-sample t-test assuming equal population means\n",
    "t_statistic, p_value = ttest_ind(sample1, sample2)\n",
    "\n",
    "# Set the significance level\n",
    "alpha = 0.05\n",
    "\n",
    "# Print the t-test results\n",
    "print(\"Two-Sample T-Test Results:\")\n",
    "print(\"----------------------------\")\n",
    "print(\"Sample 1 mean:\", np.mean(sample1))\n",
    "print(\"Sample 2 mean:\", np.mean(sample2))\n",
    "print(\"t-statistic:\", t_statistic)\n",
    "print(\"p-value:\", p_value)\n",
    "\n",
    "# Compare p-value with significance level\n",
    "if p_value < alpha:\n",
    "    print(\"Conclusion: Reject the null hypothesis\")\n",
    "else:\n",
    "    print(\"Conclusion: Fail to reject the null hypothesis\")\n"
   ]
  },
  {
   "attachments": {},
   "cell_type": "markdown",
   "metadata": {},
   "source": [
    "Q11: What is Student’s t distribution? When to use the t-Distribution."
   ]
  },
  {
   "attachments": {},
   "cell_type": "markdown",
   "metadata": {},
   "source": [
    "Answer:\n",
    "\n",
    "Student's t-distribution, often referred to as the t-distribution, is a probability distribution that is used in statistical inference when the sample size is small or when the population standard deviation is unknown. It is similar to the standard normal distribution (z-distribution), but it has fatter tails and is more spread out.\n",
    "\n",
    "The t-distribution is characterized by its degrees of freedom (df), which determine the shape of the distribution. The degrees of freedom depend on the sample size. As the sample size increases, the t-distribution approaches the standard normal distribution.\n",
    "\n",
    "The t-distribution is used when:\n",
    "\n",
    "1. Sample Size is Small: When the sample size is small (typically less than 30), the t-distribution is used instead of the normal distribution. This is because the normal distribution assumes a large sample size and known population standard deviation, which may not be applicable in small sample cases.\n",
    "\n",
    "2. Population Standard Deviation is Unknown: When the population standard deviation is unknown, the t-distribution is used to estimate the population mean based on the sample mean. In such cases, the sample standard deviation is used as an estimate of the population standard deviation.\n",
    "\n",
    "3. Confidence Intervals and Hypothesis Testing: The t-distribution is used to construct confidence intervals and perform hypothesis testing for the population mean when the sample size is small or when the population standard deviation is unknown. It allows for more accurate inference in these situations by accounting for the additional uncertainty associated with smaller sample sizes.\n",
    "\n",
    "4. Comparing Means: The t-distribution is used to compare means of two independent samples or paired samples when the assumptions for the t-test are met. It helps determine whether the observed difference between the sample means is statistically significant."
   ]
  },
  {
   "attachments": {},
   "cell_type": "markdown",
   "metadata": {},
   "source": [
    "Q12: What is t-statistic? State the formula for t-statistic."
   ]
  },
  {
   "attachments": {},
   "cell_type": "markdown",
   "metadata": {},
   "source": [
    "Answer:\n",
    "\n",
    "The t-statistic is a measure that quantifies the difference between a sample mean and a population mean in terms of the standard error of the sample mean. It is used in hypothesis testing and constructing confidence intervals when the population standard deviation is unknown and estimated from the sample.\n",
    "\n",
    "The formula for the t-statistic is:\n",
    "\n",
    "t = (x - μ) / (s / √n)\n",
    "\n",
    "Where:\n",
    "- t: t-statistic\n",
    "- x: Sample mean\n",
    "- μ: Population mean (hypothesized value under the null hypothesis)\n",
    "- s: Sample standard deviation\n",
    "- n: Sample size\n",
    "\n",
    "In this formula, the numerator (x - μ) represents the difference between the sample mean and the hypothesized population mean. The denominator (s / √n) is the standard error of the sample mean, which is the standard deviation of the sample divided by the square root of the sample size.\n",
    "\n",
    "The t-statistic measures the number of standard errors the sample mean is away from the hypothesized population mean. A larger absolute value of the t-statistic indicates a larger difference between the sample mean and the hypothesized population mean.\n",
    "\n",
    "The t-statistic is used in hypothesis testing by comparing its value to the critical value from the t-distribution based on the desired significance level and the degrees of freedom. It helps determine whether the observed difference between the sample mean and the population mean is statistically significant."
   ]
  },
  {
   "attachments": {},
   "cell_type": "markdown",
   "metadata": {},
   "source": [
    "Q13. A coffee shop owner wants to estimate the average daily revenue for their shop. They take a random\n",
    "sample of 50 days and find the sample mean revenue to be $500 with a standard deviation of $50.\n",
    "Estimate the population mean revenue with a 95% confidence interval."
   ]
  },
  {
   "attachments": {},
   "cell_type": "markdown",
   "metadata": {},
   "source": [
    "Answer:\n",
    "\n",
    "Step 1: Gather the necessary information:\n",
    "- Sample mean (x̄) = $500\n",
    "- Sample size (n) = 50\n",
    "- Sample standard deviation (s) = $50\n",
    "- Confidence level (1 - α) = 95% (which corresponds to a significance level of α = 0.05)\n",
    "\n",
    "Step 2: Calculate the standard error (SE) using the formula:\n",
    "SE = s / √n\n",
    "\n",
    "SE = $50 / √50 ≈ $7.07\n",
    "\n",
    "Step 3: Determine the critical value (t*) from the t-distribution based on the confidence level and degrees of freedom (n - 1):\n",
    "For a 95% confidence level with 49 degrees of freedom, the critical value (t*) is approximately 2.009 (obtained from a t-table or using a statistical software).\n",
    "\n",
    "Step 4: Calculate the margin of error (ME) using the formula:\n",
    "ME = t* × SE\n",
    "\n",
    "ME = 2.009 × $7.07 ≈ $14.19\n",
    "\n",
    "Step 5: Calculate the lower and upper bounds of the confidence interval:\n",
    "Lower bound = x̄ - ME\n",
    "Upper bound = x̄ + ME\n",
    "\n",
    "Lower bound = $500 - $14.19 ≈ $485.81\n",
    "Upper bound = $500 + $14.19 ≈ $514.19\n",
    "\n",
    "Step 6: Interpret the results:\n",
    "With 95% confidence, we estimate that the population mean revenue for the coffee shop falls within the range of approximately $485.81 to $514.19.\n",
    "\n",
    "Therefore, we can say that we are 95% confident that the average daily revenue for the coffee shop is between approximately $485.81 and $514.19 based on the given sample."
   ]
  },
  {
   "attachments": {},
   "cell_type": "markdown",
   "metadata": {},
   "source": [
    "Q14. A researcher hypothesizes that a new drug will decrease blood pressure by 10 mmHg. They conduct a\n",
    "clinical trial with 100 patients and find that the sample mean decrease in blood pressure is 8 mmHg with a\n",
    "standard deviation of 3 mmHg. Test the hypothesis with a significance level of 0.05."
   ]
  },
  {
   "attachments": {},
   "cell_type": "markdown",
   "metadata": {},
   "source": [
    "Answer:\n",
    "\n",
    "Step 1: State the null and alternative hypotheses:\n",
    "- Null hypothesis (H0): The new drug does not decrease blood pressure by 10 mmHg (μ = 10).\n",
    "- Alternative hypothesis (Ha): The new drug decreases blood pressure by 10 mmHg (μ < 10).\n",
    "\n",
    "Step 2: Gather the necessary information:\n",
    "- Sample mean (x̄) = 8 mmHg\n",
    "- Sample size (n) = 100\n",
    "- Sample standard deviation (s) = 3 mmHg\n",
    "- Population mean under the null hypothesis (μ0) = 10 mmHg\n",
    "- Significance level (α) = 0.05\n",
    "\n",
    "Step 3: Calculate the t-statistic using the formula:\n",
    "t = (x̄ - μ0) / (s / √n)\n",
    "\n",
    "t = (8 - 10) / (3 / √100)\n",
    "t = -2 / 0.3\n",
    "t ≈ -6.67\n",
    "\n",
    "Step 4: Determine the critical value (t*) from the t-distribution based on the degrees of freedom (n - 1) and significance level:\n",
    "For a one-tailed test with 99 degrees of freedom and a significance level of 0.05, the critical value is approximately -1.660 (obtained from a t-table or using a statistical software).\n",
    "\n",
    "Step 5: Compare the t-statistic with the critical value and make a decision:\n",
    "Since the t-statistic (-6.67) is less than the critical value (-1.660) and falls in the rejection region, we reject the null hypothesis.\n",
    "\n",
    "Step 6: Interpret the results:\n",
    "At a significance level of 0.05, we have evidence to conclude that the new drug decreases blood pressure by more than 10 mmHg based on the given sample. The observed sample mean decrease in blood pressure of 8 mmHg provides significant evidence against the null hypothesis.\n",
    "\n",
    "Therefore, we can reject the null hypothesis and accept the alternative hypothesis, suggesting that the new drug does decrease blood pressure by 10 mmHg or more."
   ]
  },
  {
   "attachments": {},
   "cell_type": "markdown",
   "metadata": {},
   "source": [
    "Q15. An electronics company produces a certain type of product with a mean weight of 5 pounds and a\n",
    "standard deviation of 0.5 pounds. A random sample of 25 products is taken, and the sample mean weight\n",
    "is found to be 4.8 pounds. Test the hypothesis that the true mean weight of the products is less than 5\n",
    "pounds with a significance level of 0.01."
   ]
  },
  {
   "attachments": {},
   "cell_type": "markdown",
   "metadata": {},
   "source": [
    "Answer:\n",
    "\n",
    "\n",
    "Step 1: State the null and alternative hypotheses:\n",
    "- Null hypothesis (H0): The true mean weight of the products is 5 pounds (μ = 5).\n",
    "- Alternative hypothesis (Ha): The true mean weight of the products is less than 5 pounds (μ < 5).\n",
    "\n",
    "Step 2: Gather the necessary information:\n",
    "- Sample mean (x̄) = 4.8 pounds\n",
    "- Sample size (n) = 25\n",
    "- Sample standard deviation (s) = 0.5 pounds\n",
    "- Population mean under the null hypothesis (μ0) = 5 pounds\n",
    "- Significance level (α) = 0.01\n",
    "\n",
    "Step 3: Calculate the t-statistic using the formula:\n",
    "t = (x̄ - μ0) / (s / √n)\n",
    "\n",
    "t = (4.8 - 5) / (0.5 / √25)\n",
    "t = -0.2 / (0.5 / 5)\n",
    "t = -0.2 / 0.1\n",
    "t = -2\n",
    "\n",
    "Step 4: Determine the critical value (t*) from the t-distribution based on the degrees of freedom (n - 1) and significance level:\n",
    "For a one-tailed test with 24 degrees of freedom and a significance level of 0.01, the critical value is approximately -2.492 (obtained from a t-table or using a statistical software).\n",
    "\n",
    "Step 5: Compare the t-statistic with the critical value and make a decision:\n",
    "Since the t-statistic (-2) is greater than the critical value (-2.492) and falls in the non-rejection region, we fail to reject the null hypothesis.\n",
    "\n",
    "Step 6: Interpret the results:\n",
    "At a significance level of 0.01, we do not have sufficient evidence to conclude that the true mean weight of the products is less than 5 pounds based on the given sample. The observed sample mean weight of 4.8 pounds does not provide significant evidence against the null hypothesis.\n",
    "\n",
    "Therefore, we fail to reject the null hypothesis and do not support the claim that the true mean weight of the products is less than 5 pounds."
   ]
  },
  {
   "attachments": {},
   "cell_type": "markdown",
   "metadata": {},
   "source": [
    "Q16. Two groups of students are given different study materials to prepare for a test. The first group (n1 =\n",
    "30) has a mean score of 80 with a standard deviation of 10, and the second group (n2 = 40) has a mean\n",
    "score of 75 with a standard deviation of 8. Test the hypothesis that the population means for the two\n",
    "groups are equal with a significance level of 0.01."
   ]
  },
  {
   "attachments": {},
   "cell_type": "markdown",
   "metadata": {},
   "source": [
    "Answer:\n",
    "\n",
    "\n",
    "Step 1: State the null and alternative hypotheses:\n",
    "- Null hypothesis (H0): The population means for the two groups are equal (μ1 = μ2).\n",
    "- Alternative hypothesis (Ha): The population means for the two groups are not equal (μ1 ≠ μ2).\n",
    "\n",
    "Step 2: Gather the necessary information:\n",
    "- Sample mean of Group 1 (x̄1) = 80\n",
    "- Sample size of Group 1 (n1) = 30\n",
    "- Sample standard deviation of Group 1 (s1) = 10\n",
    "- Sample mean of Group 2 (x̄2) = 75\n",
    "- Sample size of Group 2 (n2) = 40\n",
    "- Sample standard deviation of Group 2 (s2) = 8\n",
    "- Significance level (α) = 0.01\n",
    "\n",
    "Step 3: Calculate the t-statistic using the formula:\n",
    "t = (x̄1 - x̄2) / √((s1^2 / n1) + (s2^2 / n2))\n",
    "\n",
    "t = (80 - 75) / √((10^2 / 30) + (8^2 / 40))\n",
    "t = 5 / √((100 / 30) + (64 / 40))\n",
    "t = 5 / √(3.333 + 1.6)\n",
    "t = 5 / √4.933\n",
    "t ≈ 5 / 2.221\n",
    "t ≈ 2.25\n",
    "\n",
    "Step 4: Determine the critical value (t*) from the t-distribution based on the degrees of freedom and significance level:\n",
    "For a two-tailed test with (n1 + n2 - 2) degrees of freedom (df) and a significance level of 0.01, the critical value is approximately ±2.614 (obtained from a t-table or using a statistical software).\n",
    "\n",
    "Step 5: Compare the t-statistic with the critical value and make a decision:\n",
    "Since the t-statistic (2.25) falls within the range -2.614 to +2.614, it does not exceed the critical value. Therefore, we fail to reject the null hypothesis.\n",
    "\n",
    "Step 6: Interpret the results:\n",
    "At a significance level of 0.01, we do not have sufficient evidence to conclude that the population means for the two groups are different. The observed sample means of 80 and 75, along with their respective standard deviations, do not provide significant evidence against the null hypothesis.\n",
    "\n",
    "Therefore, we fail to reject the null hypothesis and do not support the claim that the population means for the two groups are different."
   ]
  },
  {
   "attachments": {},
   "cell_type": "markdown",
   "metadata": {},
   "source": [
    "Q17. A marketing company wants to estimate the average number of ads watched by viewers during a TV\n",
    "program. They take a random sample of 50 viewers and find that the sample mean is 4 with a standard\n",
    "deviation of 1.5. Estimate the population mean with a 99% confidence interval."
   ]
  },
  {
   "attachments": {},
   "cell_type": "markdown",
   "metadata": {},
   "source": [
    "Answer:\n",
    "\n",
    "Step 1: Gather the necessary information:\n",
    "- Sample mean (x̄) = 4\n",
    "- Sample size (n) = 50\n",
    "- Sample standard deviation (s) = 1.5\n",
    "- Confidence level = 99% (which corresponds to a significance level of 0.01)\n",
    "\n",
    "Step 2: Determine the critical value based on the confidence level:\n",
    "Since the sample size is large (n > 30), we can use the Z-table to find the critical value.\n",
    "For a 99% confidence level, the critical value (Z*) is approximately 2.576.\n",
    "\n",
    "Step 3: Calculate the margin of error:\n",
    "The margin of error (E) is given by the formula: E = Z* * (s / √n)\n",
    "\n",
    "E = 2.576 * (1.5 / √50)\n",
    "\n",
    "Step 4: Calculate the confidence interval:\n",
    "The confidence interval is given by the formula: (x̄ - E, x̄ + E)\n",
    "\n",
    "Confidence interval = (4 - E, 4 + E)\n",
    "\n",
    "Step 5: Substitute the values and calculate the confidence interval:\n",
    "E = 2.576 * (1.5 / √50)\n",
    "E ≈ 2.576 * (0.2121)\n",
    "E ≈ 0.546\n",
    "\n",
    "Confidence interval = (4 - 0.546, 4 + 0.546)\n",
    "Confidence interval = (3.454, 4.546)\n",
    "\n",
    "Step 6: Interpret the results:\n",
    "We can be 99% confident that the true population mean of the number of ads watched by viewers during the TV program falls within the interval (3.454, 4.546).\n",
    "\n",
    "Therefore, we estimate with 99% confidence that the average number of ads watched by viewers during the TV program is between approximately 3.454 and 4.546."
   ]
  }
 ],
 "metadata": {
  "kernelspec": {
   "display_name": "Python 3",
   "language": "python",
   "name": "python3"
  },
  "language_info": {
   "codemirror_mode": {
    "name": "ipython",
    "version": 3
   },
   "file_extension": ".py",
   "mimetype": "text/x-python",
   "name": "python",
   "nbconvert_exporter": "python",
   "pygments_lexer": "ipython3",
   "version": "3.10.9"
  },
  "orig_nbformat": 4
 },
 "nbformat": 4,
 "nbformat_minor": 2
}
