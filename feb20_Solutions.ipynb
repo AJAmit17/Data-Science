{
 "cells": [
  {
   "attachments": {},
   "cell_type": "markdown",
   "metadata": {},
   "source": [
    "Q1. Explain GET and POST methods."
   ]
  },
  {
   "attachments": {},
   "cell_type": "markdown",
   "metadata": {},
   "source": [
    "Answer:\n",
    "GET and POST are HTTP methods that are used to transfer data between a client (such as a web browser) and a server. These methods differ in their purpose and how they handle the data being transferred.\n",
    "\n",
    "The GET method is used to retrieve information from the server. When a client sends a GET request to a server, the server will return the requested information in the form of a response. GET requests are used for simple queries where the data is retrieved from the server and displayed to the user. For example, when you enter a URL into a web browser and hit enter, a GET request is sent to the server to retrieve the web page.\n",
    "\n",
    "The POST method, on the other hand, is used to submit data to a server for processing. When a client sends a POST request to a server, the server will receive the data sent by the client and process it. POST requests are commonly used to send data from a form to a server. For example, when you fill out a form on a website and click submit, a POST request is sent to the server with the data entered into the form."
   ]
  },
  {
   "attachments": {},
   "cell_type": "markdown",
   "metadata": {},
   "source": [
    "Q2. Why is request used in Flask?"
   ]
  },
  {
   "attachments": {},
   "cell_type": "markdown",
   "metadata": {},
   "source": [
    "Answer: \n",
    "In Flask, the request object is used to access the incoming HTTP request data, including form data, URL parameters, headers, and files uploaded in the request.\n",
    "\n",
    "When a client sends a request to a Flask web application, the Flask server processes the request and generates a request object that contains information about the request. This information includes the HTTP method (e.g. GET, POST, PUT, DELETE), the URL path requested, any form data or query parameters submitted, and any files uploaded as part of the request.\n",
    "\n",
    "By accessing the request object, Flask developers can extract data from the request and use it to generate a response. For example, they can access form data submitted in a POST request to process a user login, or retrieve URL parameters to filter database queries.\n",
    "\n",
    "Overall, the request object is an essential tool for handling HTTP requests in Flask, and it enables developers to build dynamic web applications that can respond to user input in a variety of ways"
   ]
  },
  {
   "attachments": {},
   "cell_type": "markdown",
   "metadata": {},
   "source": [
    "Q3. Why is redirect() used in Flask?"
   ]
  },
  {
   "attachments": {},
   "cell_type": "markdown",
   "metadata": {},
   "source": [
    "Answer:\n",
    "In Flask, the redirect() function is used to redirect the user to a different URL.\n",
    "\n",
    "There are several reasons why a Flask developer might want to use redirect(). For example:\n",
    "\n",
    "- After a user submits a form, the server may need to redirect the user to a different page, such as a confirmation page or a summary page.\n",
    "\n",
    "- If a user tries to access a protected resource but is not authenticated, the server may redirect the user to a login page.\n",
    "\n",
    "- If a user enters an invalid URL, the server may redirect the user to a 404 error page.\n",
    "\n",
    "To use redirect(), the developer simply needs to pass the target URL as an argument to the function"
   ]
  },
  {
   "attachments": {},
   "cell_type": "markdown",
   "metadata": {},
   "source": [
    "Q4. What are templates in Flask? Why is the render_template() function used?"
   ]
  },
  {
   "attachments": {},
   "cell_type": "markdown",
   "metadata": {},
   "source": [
    "Answer: \n",
    "In Flask, templates are used to generate HTML pages dynamically. A template is a text file that contains placeholders for dynamic content, as well as static HTML and other markup.\n",
    "\n",
    "The render_template() function is used to render a template and generate an HTTP response that contains the resulting HTML. To use render_template(), the developer needs to provide the name of the template file, as well as any variables that should be passed to the template\n",
    "\n",
    "Overall, templates are a powerful tool in Flask for generating dynamic HTML pages, and the render_template() function is a key component of the Flask framework. By using templates, developers can build complex web applications that can respond to user input and display data in a variety of formats."
   ]
  },
  {
   "attachments": {},
   "cell_type": "markdown",
   "metadata": {},
   "source": [
    "Q5. Create a simple API. Use Postman to test it. Attach the screenshot of the output in the Jupyter Notebook."
   ]
  },
  {
   "cell_type": "code",
   "execution_count": null,
   "metadata": {},
   "outputs": [],
   "source": [
    "from flask import Flask,request , jsonify\n",
    "\n",
    "app = Flask(__name__)\n",
    "\n",
    "@app.route('/namaste')\n",
    "def func():\n",
    "    return jsonify({'Message' : 'Namaste India'})\n",
    "\n",
    "@app.route('/echo' ,methods = ['POST'])\n",
    "def func1():\n",
    "    data = request.get_json()\n",
    "    return jsonify(data)\n",
    "\n",
    "if __name__ == \"__main__\":\n",
    "    app.run(host=\"0.0.0.0\")"
   ]
  },
  {
   "attachments": {},
   "cell_type": "markdown",
   "metadata": {},
   "source": [
    "![Alt text](Screenshot%20.png)"
   ]
  }
 ],
 "metadata": {
  "kernelspec": {
   "display_name": "Python 3",
   "language": "python",
   "name": "python3"
  },
  "language_info": {
   "codemirror_mode": {
    "name": "ipython",
    "version": 3
   },
   "file_extension": ".py",
   "mimetype": "text/x-python",
   "name": "python",
   "nbconvert_exporter": "python",
   "pygments_lexer": "ipython3",
   "version": "3.10.10"
  },
  "orig_nbformat": 4,
  "vscode": {
   "interpreter": {
    "hash": "a226a5ffac47fed56f49b199961a53486197ae7417e8c41efae72294227e3d7f"
   }
  }
 },
 "nbformat": 4,
 "nbformat_minor": 2
}
