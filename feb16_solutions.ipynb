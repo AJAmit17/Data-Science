{
 "cells": [
  {
   "attachments": {},
   "cell_type": "markdown",
   "metadata": {},
   "source": [
    "Q1. What is a database? Differentiate between SQL and NoSQL databases."
   ]
  },
  {
   "attachments": {},
   "cell_type": "markdown",
   "metadata": {},
   "source": [
    "Answer:\n",
    "\n",
    "A database is an organized collection of structured data that can be easily accessed, managed, and updated. Databases are used to store information that can be easily retrieved and used for various purposes such as data analysis, business intelligence, and decision-making. There are different types of databases, but two major categories are SQL and NoSQL databases.\n",
    "\n",
    "SQL databases are relational databases that use Structured Query Language (SQL) to manage and manipulate data. SQL databases are typically used for applications that require complex queries, data consistency, and data integrity. In SQL databases, data is stored in tables, and relationships between tables are defined using foreign keys. Examples of SQL databases include Oracle, MySQL, and PostgreSQL.\n",
    "\n",
    "NoSQL databases, on the other hand, are non-relational databases that do not use SQL as their primary query language. Instead, NoSQL databases use a variety of data models such as document-based, key-value, and graph-based models. NoSQL databases are typically used for applications that require scalability, flexibility, and high performance. NoSQL databases can handle unstructured data, and they can scale horizontally, which means they can add more nodes to increase their capacity. Examples of NoSQL databases include MongoDB, Cassandra, and Couchbase.\n",
    "\n",
    "The main difference between SQL and NoSQL databases is in their data models and query languages. SQL databases are relational databases that use SQL as their primary query language, while NoSQL databases are non-relational databases that use a variety of data models and query languages. The choice of database depends on the specific needs of an application, and the type of data being stored and queried."
   ]
  },
  {
   "attachments": {},
   "cell_type": "markdown",
   "metadata": {},
   "source": [
    "Q2. What is DDL? Explain why CREATE, DROP, ALTER, and TRUNCATE are used with an example."
   ]
  },
  {
   "attachments": {},
   "cell_type": "markdown",
   "metadata": {},
   "source": [
    "Answer: DDL stands for Data Definition Language, which is a subset of SQL (Structured Query Language) used to define and manage the structure of a database. DDL statements are used to create, modify, and delete database objects such as tables, indexes, and constraints.\n",
    "\n",
    "1. CREATE: The CREATE statement is used to create new database objects, such as tables, views, and indexes. For example, to create a new table named \"employees\" with columns for employee ID, name, and age, the following SQL statement can be used:"
   ]
  },
  {
   "cell_type": "code",
   "execution_count": null,
   "metadata": {},
   "outputs": [],
   "source": [
    "CREATE TABLE employees (\n",
    "   id INT PRIMARY KEY,\n",
    "   name VARCHAR(50),\n",
    "   age INT\n",
    ");"
   ]
  },
  {
   "attachments": {},
   "cell_type": "markdown",
   "metadata": {},
   "source": [
    "2. DROP: The DROP statement is used to delete an existing database object. For example, to delete the \"employees\" table that was created in the previous example, the following SQL statement can be used:"
   ]
  },
  {
   "cell_type": "code",
   "execution_count": null,
   "metadata": {},
   "outputs": [],
   "source": [
    "DROP TABLE employees;"
   ]
  },
  {
   "attachments": {},
   "cell_type": "markdown",
   "metadata": {},
   "source": [
    "3. ALTER: The ALTER statement is used to modify the structure of an existing database object. For example, to add a new column called \"department\" to the \"employees\" table created earlier, the following SQL statement can be used:"
   ]
  },
  {
   "cell_type": "code",
   "execution_count": null,
   "metadata": {},
   "outputs": [],
   "source": [
    "ALTER TABLE employees ADD department VARCHAR(50);"
   ]
  },
  {
   "attachments": {},
   "cell_type": "markdown",
   "metadata": {},
   "source": [
    "4. ALTER: The ALTER statement is used to modify the structure of an existing database object. For example, to add a new column called \"department\" to the \"employees\" table created earlier, the following SQL statement can be used:"
   ]
  },
  {
   "cell_type": "code",
   "execution_count": null,
   "metadata": {},
   "outputs": [],
   "source": [
    "TRUNCATE TABLE employees;"
   ]
  },
  {
   "attachments": {},
   "cell_type": "markdown",
   "metadata": {},
   "source": [
    "Q3. What is DML? Explain INSERT, UPDATE, and DELETE with an example."
   ]
  },
  {
   "attachments": {},
   "cell_type": "markdown",
   "metadata": {},
   "source": [
    "Answer: DML stands for Data Manipulation Language, and it is a subset of SQL used to insert, update, and delete data in a relational database. DML statements are used to modify the contents of a table or a view, and they can be used to add, modify or remove data.\n",
    "\n",
    "1. INSERT statement:\n",
    "The INSERT statement is used to add new rows to a table."
   ]
  },
  {
   "cell_type": "code",
   "execution_count": null,
   "metadata": {},
   "outputs": [],
   "source": [
    "#syntax:\n",
    "INSERT INTO table_name( column1,colum2,....,columnN) VALUES (value1,value2,....,valueN);\n",
    "\n",
    "#example\n",
    "INSERT INTO students (id, name, age, city) VALUES (1, 'John', 20, 'New York');"
   ]
  },
  {
   "attachments": {},
   "cell_type": "markdown",
   "metadata": {},
   "source": [
    "2. UPDATE statement:\n",
    "The UPDATE statement is used to modify the existing rows of a table."
   ]
  },
  {
   "cell_type": "code",
   "execution_count": null,
   "metadata": {},
   "outputs": [],
   "source": [
    "#syntax:\n",
    "UPDATE table_name SET column1=value1 ,column2=value2 ,....,columnN=valueN WHERE condition;\n",
    "\n",
    "#Example:\n",
    "UPDATE students SET age = 22 WHERE name = 'John';"
   ]
  },
  {
   "attachments": {},
   "cell_type": "markdown",
   "metadata": {},
   "source": [
    "3. DELETE statement:\n",
    "The DELETE statement is used to remove one or more rows from a table."
   ]
  },
  {
   "cell_type": "code",
   "execution_count": null,
   "metadata": {},
   "outputs": [],
   "source": [
    "#syntax:\n",
    "DELETE FROM table_name WHERE condition;\n",
    "\n",
    "#Example:\n",
    "DELETE FROM students WHERE name='John'"
   ]
  },
  {
   "attachments": {},
   "cell_type": "markdown",
   "metadata": {},
   "source": [
    "Q4. What is DQL? Explain SELECT with an example."
   ]
  },
  {
   "attachments": {},
   "cell_type": "markdown",
   "metadata": {},
   "source": [
    "Answer: DQL stands for Data Query Language, and it is a subset of SQL used to retrieve data from a relational database. DQL statements are used to retrieve data from one or more tables, and they can be used to filter, sort, and group the data as well.\n",
    "\n",
    "The SELECT statement retrieves data from a table named \"table_name\". You can specify which columns to retrieve by listing them in the SELECT clause. The WHERE clause is used to filter the data based on a condition."
   ]
  },
  {
   "cell_type": "code",
   "execution_count": null,
   "metadata": {},
   "outputs": [],
   "source": [
    "#Syntax:\n",
    "SELECT column1,column2,...,columnN FROM table_name WHERE condition;\n",
    "\n",
    "#example:\n",
    "SELECT * FROM students WHERE age >= 18;"
   ]
  },
  {
   "attachments": {},
   "cell_type": "markdown",
   "metadata": {},
   "source": [
    "Q5. Explain Primary Key and Foreign Key."
   ]
  },
  {
   "attachments": {},
   "cell_type": "markdown",
   "metadata": {},
   "source": [
    "Answer: A primary key and a foreign key are two important concepts in relational database design. A primary key is a column or a set of columns that uniquely identifies each record or row in a table, while a foreign key is a column or set of columns in a table that refers to the primary key of another table.\n",
    "\n",
    "1. Primary key:\n",
    "A primary key is used to uniquely identify each record in a table. It ensures that each record has a unique identifier that can be used to access and manipulate the data in the table. In most cases, the primary key is a single column that has a unique value for each row. However, a primary key can also consist of multiple columns in some cases.\n",
    "\n",
    "2. Foreign key:\n",
    "A foreign key is a column in a table that refers to the primary key of another table. It is used to create relationships between two or more tables, which is one of the fundamental principles of relational database design. A foreign key constraint is a rule that ensures that the values in the foreign key column of one table match the values in the primary key column of another table."
   ]
  },
  {
   "attachments": {},
   "cell_type": "markdown",
   "metadata": {},
   "source": [
    "Q6. Write a python code to connect MySQL to python. Explain the cursor() and execute() method."
   ]
  },
  {
   "attachments": {},
   "cell_type": "markdown",
   "metadata": {},
   "source": [
    "Answer:"
   ]
  },
  {
   "cell_type": "code",
   "execution_count": null,
   "metadata": {},
   "outputs": [],
   "source": [
    "import mysql.connector\n",
    "\n",
    "mydb=mysql.connector.connect(\n",
    "    host=\"localhost\",\n",
    "    user='abc',\n",
    "    password='password'\n",
    ")\n",
    "mycursor=mydb.cursor()\n",
    "mycursor.execute(\"SHOW DATABASES\")"
   ]
  },
  {
   "attachments": {},
   "cell_type": "markdown",
   "metadata": {},
   "source": [
    "Q7. Give the order of execution of SQL clauses in an SQL query"
   ]
  },
  {
   "attachments": {},
   "cell_type": "markdown",
   "metadata": {},
   "source": [
    "Answer:  The order of execution of clauses in an SQL query can be summarized in the following sequence:\n",
    "\n",
    "1. FROM: The FROM clause is the first clause executed in an SQL query. It specifies the tables from which the data will be selected.\n",
    "\n",
    "2. JOIN: If the query includes a JOIN clause, it is executed after the FROM clause. JOIN combines rows from two or more tables based on a related column between them.\n",
    "\n",
    "3. WHERE: The WHERE clause is executed after the JOIN clause (if any). It specifies the conditions that must be met for the rows to be included in the result set.\n",
    "\n",
    "4. GROUP BY: The GROUP BY clause is executed after the WHERE clause. It groups the result set by one or more columns and applies aggregate functions (such as SUM, AVG, COUNT, etc.) to each group.\n",
    "\n",
    "5. HAVING: The HAVING clause is executed after the GROUP BY clause. It is similar to the WHERE clause, but it filters groups rather than individual rows.\n",
    "\n",
    "6. SELECT: The SELECT clause is executed after the HAVING clause. It specifies the columns to be included in the result set.\n",
    "\n",
    "7. DISTINCT: If the query includes a DISTINCT clause, it is executed after the SELECT clause. It removes duplicate rows from the result set.\n",
    "\n",
    "8. ORDER BY: The ORDER BY clause is executed after the SELECT or DISTINCT clause. It sorts the result set by one or more columns.\n",
    "\n",
    "9. LIMIT/OFFSET: If the query includes a LIMIT or OFFSET clause, it is executed last. It limits the number of rows returned by the query and/or skips a certain number of rows in the result set."
   ]
  }
 ],
 "metadata": {
  "kernelspec": {
   "display_name": "Python 3",
   "language": "python",
   "name": "python3"
  },
  "language_info": {
   "codemirror_mode": {
    "name": "ipython",
    "version": 3
   },
   "file_extension": ".py",
   "mimetype": "text/x-python",
   "name": "python",
   "nbconvert_exporter": "python",
   "pygments_lexer": "ipython3",
   "version": "3.10.10"
  },
  "orig_nbformat": 4,
  "vscode": {
   "interpreter": {
    "hash": "47e86e659cc4c7e7c8281f4dfa198d26eba569ed7d4f5779d5419dff2bd0d92c"
   }
  }
 },
 "nbformat": 4,
 "nbformat_minor": 2
}
