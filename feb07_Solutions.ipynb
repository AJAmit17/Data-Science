{
 "cells": [
  {
   "attachments": {},
   "cell_type": "markdown",
   "metadata": {},
   "source": [
    "Q1. You are writing code for a company. The requirement of the company is that you create a python function that will check whether the password entered by the user is correct or not. The function should take the password as input and return the string Valid Password\" if the entered password follows the below-given password guidelines else it should return \"Invalid Password\".\n",
    "\n",
    "Note:\n",
    " 1. The Password should contain at least two uppercase letters and at least two lowercase letters.\n",
    " 2. The Password should contain at least a number and three special characters.\n",
    " 3. The length of the password should be 10 characters long."
   ]
  },
  {
   "cell_type": "code",
   "execution_count": 3,
   "metadata": {},
   "outputs": [
    {
     "name": "stdout",
     "output_type": "stream",
     "text": [
      "Password is Valid\n"
     ]
    }
   ],
   "source": [
    "password=\"NHCEnhce&$%2022\"\n",
    "c_up=0\n",
    "c_low=0\n",
    "c_sp=0\n",
    "\n",
    "sp=[\"!\",\"@\",\"#\",\"$\",\"%\",\"^\",\"&\",\"*\",\"(\",\")\",\"+\",\"_\",\"-\",\"=\",\"~\"]\n",
    "val=True\n",
    "\n",
    "val_up=False\n",
    "val_low=False\n",
    "val_sp=False\n",
    "val_num=False\n",
    "val_size=True\n",
    "\n",
    "if len(password)<10:\n",
    "    print(\"Length of PAssword should be more than 10 characters\")\n",
    "    val_size=False\n",
    "#print(\"Pass\",val_size)\n",
    "\n",
    "for i in password:\n",
    "    if i.isdigit():\n",
    "        val_num=True\n",
    "        break\n",
    "#print(\"pass\",val_num)\n",
    "\n",
    "for i in password:\n",
    "    if i.isupper():\n",
    "        c_up+=1\n",
    "        if(c_up==2):\n",
    "            val_up=True\n",
    "#print(\"Pass\",val_up)\n",
    "\n",
    "for i in password:\n",
    "    if i.islower():\n",
    "        c_low+=1\n",
    "        if(c_low==2):\n",
    "            val_low=True\n",
    "#print(\"Pass\",val_low)\n",
    "\n",
    "for i in password:\n",
    "    if i in sp:\n",
    "        c_sp+=1\n",
    "        if(c_sp==3):\n",
    "            val_sp=True\n",
    "#print(\"Pass\",val_sp)\n",
    "\n",
    "if(val_low and val_sp and val_up and val_num and val_size):\n",
    "    print(\"Password is Valid\")\n",
    "else:\n",
    "    print(\"PassWord is Invalid\")"
   ]
  },
  {
   "attachments": {},
   "cell_type": "markdown",
   "metadata": {},
   "source": [
    "Q2. Solve the below-given questions using at least one of the following:\n",
    "1. Lambda function\n",
    "2. Filter function\n",
    "3. Map function\n",
    "4. List Comprehension"
   ]
  },
  {
   "attachments": {},
   "cell_type": "markdown",
   "metadata": {},
   "source": [
    "• Find the squares of numbers from 1 to 10."
   ]
  },
  {
   "cell_type": "code",
   "execution_count": 4,
   "metadata": {},
   "outputs": [
    {
     "name": "stdout",
     "output_type": "stream",
     "text": [
      "[1, 4, 9, 16, 25, 36, 49, 64, 81, 100]\n"
     ]
    }
   ],
   "source": [
    "l=[1,2,3,4,5,6,7,8,9,10]\n",
    "w=list(map(lambda x: x*x , l))\n",
    "print(w)"
   ]
  },
  {
   "attachments": {},
   "cell_type": "markdown",
   "metadata": {},
   "source": [
    "• Find the cube root of numbers from 1 to 10."
   ]
  },
  {
   "cell_type": "code",
   "execution_count": 5,
   "metadata": {},
   "outputs": [
    {
     "name": "stdout",
     "output_type": "stream",
     "text": [
      "[1, 8, 27, 64, 125, 216, 343, 512, 729, 1000]\n"
     ]
    }
   ],
   "source": [
    "l2=[1,2,3,4,5,6,7,8,9,10]\n",
    "y=list(map(lambda x: x*x*x ,l2))\n",
    "print(y)"
   ]
  },
  {
   "attachments": {},
   "cell_type": "markdown",
   "metadata": {},
   "source": [
    "• Filter odd numbers from the given list. [1,2,3,4,5,6,7,8,9,10]"
   ]
  },
  {
   "cell_type": "code",
   "execution_count": 6,
   "metadata": {},
   "outputs": [
    {
     "name": "stdout",
     "output_type": "stream",
     "text": [
      "[1, 3, 5, 7, 9]\n"
     ]
    }
   ],
   "source": [
    "l3=[1,2,3,4,5,6,7,8,9,10]\n",
    "a=list(filter(lambda x: x%2!=0 , l3))\n",
    "print(a)"
   ]
  },
  {
   "attachments": {},
   "cell_type": "markdown",
   "metadata": {},
   "source": [
    ". Check if the string starts with a particular letter."
   ]
  },
  {
   "cell_type": "code",
   "execution_count": 7,
   "metadata": {},
   "outputs": [
    {
     "name": "stdout",
     "output_type": "stream",
     "text": [
      "True\n",
      "False\n"
     ]
    }
   ],
   "source": [
    "s=\"Hello world\"\n",
    "b=True if s.startswith(\"H\") else False\n",
    "c=True if s.startswith(\"O\") else False\n",
    "print(b)\n",
    "print(c)"
   ]
  },
  {
   "attachments": {},
   "cell_type": "markdown",
   "metadata": {},
   "source": [
    ". Check if a given number is even."
   ]
  },
  {
   "cell_type": "code",
   "execution_count": 8,
   "metadata": {},
   "outputs": [
    {
     "name": "stdout",
     "output_type": "stream",
     "text": [
      "True\n",
      "False\n"
     ]
    }
   ],
   "source": [
    "#list comprehension method\n",
    "n=6\n",
    "l3=True if n%2==0 else False\n",
    "print(l3)\n",
    "\n",
    "n=7\n",
    "l3=True if n%2==0 else False\n",
    "print(l3)"
   ]
  },
  {
   "attachments": {},
   "cell_type": "markdown",
   "metadata": {},
   "source": [
    ". Sort a list of integers into positive and negative integers lists. [1,2,3,4,5,6,-1,-2,-3,-4,-5,0]"
   ]
  },
  {
   "cell_type": "code",
   "execution_count": 9,
   "metadata": {},
   "outputs": [
    {
     "name": "stdout",
     "output_type": "stream",
     "text": [
      "[1, 2, 3, 4, 5, 6]\n",
      "[-1, -2, -3, -4, -5]\n"
     ]
    }
   ],
   "source": [
    "l4=[1,2,3,4,5,6,-1,-2,-3,-4,-5,0]\n",
    "\n",
    "l3=list(filter(lambda x: x>0 , l4))\n",
    "print(l3)\n",
    "\n",
    "l5=list(filter(lambda x: x<0 , l4))\n",
    "print(l5)"
   ]
  },
  {
   "attachments": {},
   "cell_type": "markdown",
   "metadata": {},
   "source": [
    ". Check if the string is numeric."
   ]
  },
  {
   "cell_type": "code",
   "execution_count": 10,
   "metadata": {},
   "outputs": [
    {
     "name": "stdout",
     "output_type": "stream",
     "text": [
      "True\n",
      "False\n"
     ]
    }
   ],
   "source": [
    "s1=\"12345567\"\n",
    "ans=True if s1.isdigit() else False\n",
    "print(ans)\n",
    "\n",
    "s1=\"uthnv5654y\"\n",
    "ans=True if s1.isdigit() else False\n",
    "print(ans)"
   ]
  },
  {
   "attachments": {},
   "cell_type": "markdown",
   "metadata": {},
   "source": [
    "• Sort a list of tuples having fruit names and their quantity. [(\"mango\",99), (\"orange\",80), (\"grapes\", 1000)]"
   ]
  },
  {
   "cell_type": "code",
   "execution_count": 11,
   "metadata": {},
   "outputs": [
    {
     "name": "stdout",
     "output_type": "stream",
     "text": [
      "[('orange', 80), ('mango', 99), ('grapes', 1000)]\n"
     ]
    }
   ],
   "source": [
    "list2=[(\"mango\",99), (\"orange\",80), (\"grapes\", 1000)]\n",
    "list3=(sorted(list2, key = lambda x: x[1]))\n",
    "print(list3)"
   ]
  }
 ],
 "metadata": {
  "kernelspec": {
   "display_name": "Python 3",
   "language": "python",
   "name": "python3"
  },
  "language_info": {
   "codemirror_mode": {
    "name": "ipython",
    "version": 3
   },
   "file_extension": ".py",
   "mimetype": "text/x-python",
   "name": "python",
   "nbconvert_exporter": "python",
   "pygments_lexer": "ipython3",
   "version": "3.10.10"
  },
  "orig_nbformat": 4,
  "vscode": {
   "interpreter": {
    "hash": "a226a5ffac47fed56f49b199961a53486197ae7417e8c41efae72294227e3d7f"
   }
  }
 },
 "nbformat": 4,
 "nbformat_minor": 2
}
