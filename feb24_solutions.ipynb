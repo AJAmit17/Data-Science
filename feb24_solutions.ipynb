{
 "cells": [
  {
   "attachments": {},
   "cell_type": "markdown",
   "metadata": {},
   "source": [
    "Q1. List any five functions of the pandas library with execution."
   ]
  },
  {
   "attachments": {},
   "cell_type": "markdown",
   "metadata": {},
   "source": [
    "Answer: \n",
    "\n",
    "1. `pandas.read_csv()`: This function is used to read CSV data files and convert them into pandas DataFrame objects.\n",
    "\n",
    "Example:\n",
    "```python\n",
    "import pandas as pd\n",
    "df = pd.read_csv('data.csv')\n",
    "```\n",
    "\n",
    "2. `pandas.DataFrame()`: This function is used to create a new DataFrame object from scratch.\n",
    "\n",
    "Example:\n",
    "```python\n",
    "import pandas as pd\n",
    "df = pd.DataFrame({'Name': ['John', 'Jane', 'Mike'], 'Age': [30, 20, 25]})\n",
    "```\n",
    "\n",
    "3. `pandas.DataFrame.describe()`: This function generates descriptive statistics that summarize the central tendency, dispersion, and shape of the values in a pandas DataFrame.\n",
    "\n",
    "Example:\n",
    "```python\n",
    "import pandas as pd\n",
    "df = pd.DataFrame({'Name': ['John', 'Jane', 'Mike'], 'Age': [30, 20, 25]})\n",
    "print(df.describe())\n",
    "```\n",
    "\n",
    "4. `pandas.DataFrame.apply()`: This function applies a function to each element of a pandas DataFrame.\n",
    "\n",
    "Example:\n",
    "```python\n",
    "import pandas as pd\n",
    "df = pd.DataFrame({'Name': ['John', 'Jane', 'Mike'], 'Age': [30, 20, 25]})\n",
    "def add_suffix(x):\n",
    "    return x + '_person'\n",
    "df['Name'] = df['Name'].apply(add_suffix)\n",
    "print(df)\n",
    "```\n",
    "\n",
    "5. `pandas.DataFrame.groupby()`: This function is used to group rows of a DataFrame based on the values in one or more columns.\n",
    "\n",
    "Example:\n",
    "```python\n",
    "import pandas as pd\n",
    "df = pd.DataFrame({'Name': ['John', 'Jane', 'Mike', 'Meg', 'Emily'], 'Age': [30, 20, 25, 35, 25], 'Gender': ['M', 'F', 'M', 'M', 'F']})\n",
    "grouped_df = df.groupby('Gender').mean()\n",
    "print(grouped_df)\n",
    "```"
   ]
  },
  {
   "attachments": {},
   "cell_type": "markdown",
   "metadata": {},
   "source": [
    "Q2. Given a Pandas DataFrame df with columns 'A', 'B', and 'C', write a Python function to re-index the\n",
    "DataFrame with a new index that starts from 1 and increments by 2 for each row."
   ]
  },
  {
   "cell_type": "code",
   "execution_count": null,
   "metadata": {},
   "outputs": [],
   "source": [
    "import pandas as pd\n",
    "\n",
    "def reindex_dataframe(df):\n",
    "    new_index = pd.RangeIndex(start=1, step=2, stop=len(df)*2+1)\n",
    "    df = df.reset_index(drop=True)\n",
    "    df = df.set_index(new_index)\n",
    "    return df"
   ]
  },
  {
   "attachments": {},
   "cell_type": "markdown",
   "metadata": {},
   "source": [
    "Q3. You have a Pandas DataFrame df with a column named 'Values'. Write a Python function that\n",
    "iterates over the DataFrame and calculates the sum of the first three values in the 'Values' column. The\n",
    "function should print the sum to the console.\n",
    "\n",
    "For example, if the 'Values' column of df contains the values [10, 20, 30, 40, 50], your function should\n",
    "calculate and print the sum of the first three values, which is 60."
   ]
  },
  {
   "cell_type": "code",
   "execution_count": null,
   "metadata": {},
   "outputs": [],
   "source": [
    "import pandas as pd\n",
    "\n",
    "def sum_first_three(df):\n",
    "    sum_of_first_three = df['Values'][:3].sum()\n",
    "    print(\"Sum of first three values in 'Values' column:\", sum_of_first_three)"
   ]
  },
  {
   "attachments": {},
   "cell_type": "markdown",
   "metadata": {},
   "source": [
    "Q4. Given a Pandas DataFrame df with a column 'Text', write a Python function to create a new column\n",
    "'Word_Count' that contains the number of words in each row of the 'Text' column."
   ]
  },
  {
   "cell_type": "code",
   "execution_count": null,
   "metadata": {},
   "outputs": [],
   "source": [
    "import pandas as pd\n",
    "\n",
    "def word_count(df):\n",
    "    df['Word_Count'] = df['Text'].apply(lambda x: len(x.split()))\n",
    "    return df\n",
    "\n",
    "#we can then call this function passing the original DataFrame as an argument:\n",
    "df=[]\n",
    "df_word_count = word_count(df)"
   ]
  },
  {
   "attachments": {},
   "cell_type": "markdown",
   "metadata": {},
   "source": [
    "Q5. How are DataFrame.size() and DataFrame.shape() different?"
   ]
  },
  {
   "attachments": {},
   "cell_type": "markdown",
   "metadata": {},
   "source": [
    "Answer: \n",
    "\n",
    "DataFrame.size() returns the total number of elements in a DataFrame (i.e., the product of the number of rows and columns), while DataFrame.shape() returns a tuple containing the number of rows and columns in the DataFrame. In other words, DataFrame.size() returns a scalar value while DataFrame.shape() returns a tuple of integers."
   ]
  },
  {
   "attachments": {},
   "cell_type": "markdown",
   "metadata": {},
   "source": [
    "Q6. Which function of pandas do we use to read an excel file?"
   ]
  },
  {
   "attachments": {},
   "cell_type": "markdown",
   "metadata": {},
   "source": [
    "Answer: \n",
    "\n",
    "To read an Excel file, we use the `read_excel()` function in Pandas. This function can accept various parameters to customize the import process, such as the sheet name or index, header rows, columns to read, etc. \n",
    "\n",
    "Here is an example:\n",
    "\n",
    "```python\n",
    "import pandas as pd\n",
    "\n",
    "# Read the Excel file\n",
    "data = pd.read_excel('example.xlsx', sheet_name='Sheet1')\n",
    "\n",
    "# Print the first few rows\n",
    "print(data.head())\n",
    "```"
   ]
  },
  {
   "attachments": {},
   "cell_type": "markdown",
   "metadata": {},
   "source": [
    "Q7. You have a Pandas DataFrame df that contains a column named 'Email' that contains email\n",
    "addresses in the format 'username@domain.com'. Write a Python function that creates a new column\n",
    "'Username' in df that contains only the username part of each email address.\n",
    "\n",
    "The username is the part of the email address that appears before the '@' symbol. For example, if the\n",
    "email address is 'john.doe@example.com', the 'Username' column should contain 'john.doe'. Your\n",
    "function should extract the username from each email address and store it in the new 'Username'\n",
    "column."
   ]
  },
  {
   "cell_type": "code",
   "execution_count": null,
   "metadata": {},
   "outputs": [],
   "source": [
    "def extract_username(df):\n",
    "    # create a new 'Username' column with empty strings\n",
    "    df['Username'] = ''\n",
    "    # iterate through the 'Email' column and extract the username part\n",
    "    for i in range(len(df)):\n",
    "        email = df.loc[i, 'Email'] # get the email address\n",
    "        username = email.split('@')[0] # extract the username part\n",
    "        df.loc[i, 'Username'] = username # insert the username in the 'Username' column\n",
    "    return df\n",
    "\n",
    "#We can call this function with your Pandas DataFrame as the argument:\n",
    "new_df = extract_username(df)"
   ]
  },
  {
   "attachments": {},
   "cell_type": "markdown",
   "metadata": {},
   "source": [
    "Q8. You have a Pandas DataFrame df with columns 'A', 'B', and 'C'. Write a Python function that selects\n",
    "all rows where the value in column 'A' is greater than 5 and the value in column 'B' is less than 10. The\n",
    "function should return a new DataFrame that contains only the selected rows.\n",
    "For example, if df contains the following values:<br>\n",
    "  A B C <br>\n",
    "0 3 5 1 <br>\n",
    "1 8 2 7 <br>\n",
    "2 6 9 4 <br>\n",
    "3 2 3 5 <br>\n",
    "4 9 1 2\n",
    "\n",
    "Your function should select the following rows: <br>\n",
    "A B C <br>\n",
    "1 8 2 7 <br>\n",
    "4 9 1 2 <br>\n",
    "The function should return a new DataFrame that contains only the selected rows."
   ]
  },
  {
   "cell_type": "code",
   "execution_count": 11,
   "metadata": {},
   "outputs": [
    {
     "name": "stdout",
     "output_type": "stream",
     "text": [
      "   A  B  C\n",
      "1  8  2  7\n",
      "2  6  9  4\n",
      "4  9  1  2\n"
     ]
    }
   ],
   "source": [
    "import pandas as pd\n",
    "\n",
    "def select_rows(df):\n",
    "    # Select rows where A > 5 and B < 10\n",
    "    selected_rows = df[(df['A'] > 5) & (df['B'] < 10)]\n",
    "    \n",
    "    return selected_rows\n",
    "\n",
    "df = pd.DataFrame({'A': [3, 8, 6, 2, 9], 'B': [5, 2, 9, 3, 1], 'C': [1, 7, 4, 5, 2]})\n",
    "selected_rows = select_rows(df)\n",
    "\n",
    "print(selected_rows)"
   ]
  },
  {
   "attachments": {},
   "cell_type": "markdown",
   "metadata": {},
   "source": [
    "Q9. Given a Pandas DataFrame df with a column 'Values', write a Python function to calculate the mean,\n",
    "median, and standard deviation of the values in the 'Values' column."
   ]
  },
  {
   "cell_type": "code",
   "execution_count": 12,
   "metadata": {},
   "outputs": [],
   "source": [
    "import pandas as pd\n",
    "import numpy as np\n",
    "\n",
    "def calculate_values_stats(df):\n",
    "    mean = np.mean(df['Values'])\n",
    "    median = np.median(df['Values'])\n",
    "    std_dev = np.std(df['Values'])\n",
    "    return mean, median, std_dev"
   ]
  },
  {
   "attachments": {},
   "cell_type": "markdown",
   "metadata": {},
   "source": [
    "Q10. Given a Pandas DataFrame df with a column 'Sales' and a column 'Date', write a Python function to\n",
    "create a new column 'MovingAverage' that contains the moving average of the sales for the past 7 days\n",
    "for each row in the DataFrame. The moving average should be calculated using a window of size 7 and\n",
    "should include the current day."
   ]
  },
  {
   "cell_type": "code",
   "execution_count": 14,
   "metadata": {},
   "outputs": [],
   "source": [
    "import pandas as pd\n",
    "\n",
    "def create_moving_average(df):\n",
    "    # Sort the DataFrame by date\n",
    "    df = df.sort_values('Date')\n",
    "\n",
    "    # Create a rolling window object and calculate the moving average\n",
    "    window = df['Sales'].rolling(window=7, min_periods=1)\n",
    "    df['MovingAverage'] = window.mean()\n",
    "\n",
    "    return df"
   ]
  },
  {
   "attachments": {},
   "cell_type": "markdown",
   "metadata": {},
   "source": [
    "Q11. You have a Pandas DataFrame df with a column 'Date'. Write a Python function that creates a new\n",
    "column 'Weekday' in the DataFrame. The 'Weekday' column should contain the weekday name (e.g.\n",
    "Monday, Tuesday) corresponding to each date in the 'Date' column.\n",
    "\n",
    "For example, if df contains the following values:\n",
    "| |Date|\n",
    "|--|--|\n",
    "|0 | 2023-01-01|\n",
    "|1| 2023-01-02|\n",
    "|2 |2023-01-03|\n",
    "|3 |2023-01-04|\n",
    "|4| 2023-01-05|\n",
    "\n",
    "Your function should create the following DataFrame:\n",
    "\n",
    "|  |Date| Weekday|\n",
    "|--|--|--|\n",
    "|0 |2023-01-01 |Sunday|\n",
    "|1 |2023-01-02 |Monday|\n",
    "|2 |2023-01-03 |Tuesday\n",
    "|3 |2023-01-04 |Wednesday|\n",
    "|4 |2023-01-05| Thursday|\n",
    "\n",
    "The function should return the modified DataFrame."
   ]
  },
  {
   "cell_type": "code",
   "execution_count": 15,
   "metadata": {},
   "outputs": [],
   "source": [
    "import pandas as pd\n",
    "\n",
    "def add_weekday_column(df):\n",
    "    # Convert 'Date' column to datetime format\n",
    "    df['Date'] = pd.to_datetime(df['Date'])\n",
    "    \n",
    "    # Create the 'Weekday' column\n",
    "    df['Weekday'] = df['Date'].dt.weekday_name\n",
    "    \n",
    "    return df"
   ]
  },
  {
   "attachments": {},
   "cell_type": "markdown",
   "metadata": {},
   "source": [
    "Q12. Given a Pandas DataFrame df with a column 'Date' that contains timestamps, write a Python\n",
    "function to select all rows where the date is between '2023-01-01' and '2023-01-31'."
   ]
  },
  {
   "cell_type": "code",
   "execution_count": 16,
   "metadata": {},
   "outputs": [],
   "source": [
    "import pandas as pd\n",
    "\n",
    "def select_rows_by_date(df):\n",
    "    start_date = '2023-01-01 00:00:00'\n",
    "    end_date = '2023-01-31 23:59:59'\n",
    "    mask = (df['Date'] >= start_date) & (df['Date'] <= end_date)\n",
    "    selected_rows = df.loc[mask]\n",
    "    return selected_rows"
   ]
  },
  {
   "attachments": {},
   "cell_type": "markdown",
   "metadata": {},
   "source": [
    "Q13. To use the basic functions of pandas, what is the first and foremost necessary library that needs to\n",
    "be imported?"
   ]
  },
  {
   "attachments": {},
   "cell_type": "markdown",
   "metadata": {},
   "source": [
    "Answer: \n",
    "\n",
    "The first and foremost necessary library that needs to be imported in order to use the basic functions of pandas is pandas itself. It is usually imported using the following command:\n",
    "\n",
    "```\n",
    "import pandas as pd\n",
    "```"
   ]
  }
 ],
 "metadata": {
  "kernelspec": {
   "display_name": "Python 3",
   "language": "python",
   "name": "python3"
  },
  "language_info": {
   "codemirror_mode": {
    "name": "ipython",
    "version": 3
   },
   "file_extension": ".py",
   "mimetype": "text/x-python",
   "name": "python",
   "nbconvert_exporter": "python",
   "pygments_lexer": "ipython3",
   "version": "3.10.10"
  },
  "orig_nbformat": 4
 },
 "nbformat": 4,
 "nbformat_minor": 2
}
