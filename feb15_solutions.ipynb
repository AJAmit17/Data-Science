{
 "cells": [
  {
   "attachments": {},
   "cell_type": "markdown",
   "metadata": {},
   "source": [
    "Q1. What is multiprocessing in python? Why is it useful?"
   ]
  },
  {
   "attachments": {},
   "cell_type": "markdown",
   "metadata": {},
   "source": [
    "Answer:\n",
    "\n",
    "Multiprocessing in Python is a module that enables the execution of multiple processes simultaneously using multiple CPUs. It is used to increase the processing speed of computationally intensive programs and tasks. The multiprocessing module allows programmers to write parallel processing code to perform tasks efficiently by taking advantage of multiple cores or CPUs in a computer. This helps in reducing the execution time of a program, enhancing efficiency and optimizing resource utilization. With the help of multiprocessing, developers can easily perform tasks in parallel, which in turn leads to improved system throughput and faster results."
   ]
  },
  {
   "attachments": {},
   "cell_type": "markdown",
   "metadata": {},
   "source": [
    "Q2. What are the differences between multiprocessing and multithreading?"
   ]
  },
  {
   "attachments": {},
   "cell_type": "markdown",
   "metadata": {},
   "source": [
    "Answer:\n",
    "\n",
    "The main differences between multiprocessing and multithreading are:\n",
    "\n",
    "1. Architecture: Multiprocessing uses multiple CPUs or multiple cores of a single CPU to execute multiple processes simultaneously. On the other hand, multithreading uses a single CPU to execute multiple threads of a single process.\n",
    "\n",
    "2. Isolation: In multiprocessing, each process has its own memory space, which makes them completely isolated from each other. In contrast, threads within a process share the same memory space, which means they can easily access and modify each other's data.\n",
    "\n",
    "3. Overhead: Multiprocessing involves more overhead as each process requires its own resources, such as memory, file descriptors and other system resources, whereas multithreading has less overhead as threads share the same resources.\n",
    "\n",
    "4. Scalability: Multiprocessing is more scalable than multithreading as it can take advantage of multiple CPUs or cores to execute multiple processes in parallel. In contrast, multithreading is not very scalable as it is limited by the capacity of a single CPU.\n",
    "\n",
    "5. Programming complexity: Multiprocessing is generally more complex to program than multithreading as each process requires its own data and communication channels between processes are more complicated than communication between threads within a process."
   ]
  },
  {
   "attachments": {},
   "cell_type": "markdown",
   "metadata": {},
   "source": [
    "Q3. Write a python code to create a process using the multiprocessing module."
   ]
  },
  {
   "attachments": {},
   "cell_type": "markdown",
   "metadata": {},
   "source": [
    "Answer:\n",
    "\n",
    "```python\n",
    "import multiprocessing\n",
    "\n",
    "def worker():\n",
    "    \"\"\"Function run in a separate process\"\"\"\n",
    "    print(\"Worker process started\")\n",
    "    print(\"Worker process finished\")\n",
    "\n",
    "if __name__ == \"__main__\":\n",
    "    process = multiprocessing.Process(target=worker)\n",
    "    process.start()\n",
    "    print(\"Main process continues executing\")\n",
    "```\n",
    "\n",
    "In this code, the `worker()` function is run in a separate process when the `Process` object is created and started. The main process continues executing after starting the `Process` object. The `if __name__ == \"__main__\":` block is used to check if the code is being executed as the main program to avoid creating processes on imported modules."
   ]
  },
  {
   "attachments": {},
   "cell_type": "markdown",
   "metadata": {},
   "source": [
    "Q4. What is a multiprocessing pool in python? Why is it used?"
   ]
  },
  {
   "attachments": {},
   "cell_type": "markdown",
   "metadata": {},
   "source": [
    "Answer:\n",
    "\n",
    "A multiprocessing pool in Python is a feature that allows for parallel processing of tasks by creating a pool of worker processes to execute the tasks concurrently. This is useful for speeding up code that requires a significant amount of processing time, by distributing the workload across multiple CPU cores.\n",
    "\n",
    "The multiprocessing module in Python provides a Pool class that manages a pool of worker processes. The Pool class divides a task into multiple subtasks, and allocates each subtask to one of the available worker processes. The worker processes execute these subtasks concurrently, and then return the results back to the main process.\n",
    "\n",
    "Using the multiprocessing pool in Python can result in significant performance improvements, as it allows tasks to be executed in parallel, taking advantage of multiple CPU cores. It can be particularly useful for data-intensive tasks, such as data processing, image processing, or any other computation-heavy tasks. Overall, the multiprocessing pool is an important tool for achieving greater efficiency and speeding up Python code."
   ]
  },
  {
   "attachments": {},
   "cell_type": "markdown",
   "metadata": {},
   "source": [
    "Q5. How can we create a pool of worker processes in python using the multiprocessing module?"
   ]
  },
  {
   "attachments": {},
   "cell_type": "markdown",
   "metadata": {},
   "source": [
    "Answer:\n",
    "\n",
    "To create a pool of worker processes in Python using the `multiprocessing` module, you can follow these steps:\n",
    "\n",
    "1. Import the `multiprocessing` module: `import multiprocessing`\n",
    "2. Create a `Pool` object with the number of desired worker processes: `pool = multiprocessing.Pool(num_processes)`\n",
    "3. Use the `map` method of the `Pool` object to apply a function to a set of inputs in parallel: `results = pool.map(function, inputs)`\n",
    "4. When finished, close the `Pool` object: `pool.close()`\n",
    "5. Use the `join` method to wait for all worker processes to complete: `pool.join()`\n",
    "\n",
    "Here is an example code that creates a pool of worker processes and applies a function to a set of inputs in parallel:\n",
    "\n",
    "```python\n",
    "import multiprocessing\n",
    "\n",
    "def square(x):\n",
    "    return x * x\n",
    "\n",
    "if __name__ == '__main__':\n",
    "    pool = multiprocessing.Pool(4)\n",
    "\n",
    "    results = pool.map(square, [1, 2, 3, 4, 5])\n",
    "\n",
    "    print(results)\n",
    "\n",
    "    pool.close()\n",
    "    pool.join()\n",
    "```\n",
    "\n",
    "output:\n",
    "\n",
    "```python\n",
    "[1, 4, 9, 16, 25]\n",
    "```"
   ]
  },
  {
   "attachments": {},
   "cell_type": "markdown",
   "metadata": {},
   "source": [
    "Q6. Write a python program to create 4 processes, each process should print a different number using the\n",
    "multiprocessing module in python."
   ]
  },
  {
   "attachments": {},
   "cell_type": "markdown",
   "metadata": {},
   "source": [
    "Answer:\n",
    "\n",
    "Here's the Python program that creates 4 processes, each process printing a different number using the multiprocessing module:\n",
    "\n",
    "```python\n",
    "import multiprocessing\n",
    "\n",
    "def print_number(num):\n",
    "    print(\"Number:\", num)\n",
    "\n",
    "if __name__ == '__main__':\n",
    "    p1 = multiprocessing.Process(target=print_number, args=(1,))\n",
    "    p2 = multiprocessing.Process(target=print_number, args=(2,))\n",
    "    p3 = multiprocessing.Process(target=print_number, args=(3,))\n",
    "    p4 = multiprocessing.Process(target=print_number, args=(4,))\n",
    "    \n",
    "    p1.start()\n",
    "    p2.start()\n",
    "    p3.start()\n",
    "    p4.start()\n",
    "    \n",
    "    p1.join()\n",
    "    p2.join()\n",
    "    p3.join()\n",
    "    p4.join()\n",
    "```\n",
    "\n",
    "In this program, we have defined a function `print_number()` that takes a single argument `num` and simply prints it to the console.\n",
    "\n",
    "In the main block, we create four separate processes using the Process class from the multiprocessing module. Each process calls the `print_number()` function with a unique number as its argument.\n",
    "\n",
    "We then start each process using the `start()` method and wait for them to finish using the `join()` method.\n",
    "\n",
    "When we run this program, it will output the following:\n",
    "\n",
    "```\n",
    "Number: 1\n",
    "Number: 2\n",
    "Number: 3\n",
    "Number: 4\n",
    "```"
   ]
  },
  {
   "cell_type": "markdown",
   "metadata": {},
   "source": []
  }
 ],
 "metadata": {
  "kernelspec": {
   "display_name": "Python 3",
   "language": "python",
   "name": "python3"
  },
  "language_info": {
   "codemirror_mode": {
    "name": "ipython",
    "version": 3
   },
   "file_extension": ".py",
   "mimetype": "text/x-python",
   "name": "python",
   "nbconvert_exporter": "python",
   "pygments_lexer": "ipython3",
   "version": "3.10.10"
  },
  "orig_nbformat": 4
 },
 "nbformat": 4,
 "nbformat_minor": 2
}
