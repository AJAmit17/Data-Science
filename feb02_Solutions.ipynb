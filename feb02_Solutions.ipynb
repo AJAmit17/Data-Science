{
 "cells": [
  {
   "attachments": {},
   "cell_type": "markdown",
   "metadata": {},
   "source": [
    "Q1. What are the characteristics of the tuples? Is tuple immutable?"
   ]
  },
  {
   "attachments": {},
   "cell_type": "markdown",
   "metadata": {},
   "source": [
    "Answer: Tuples are ordered collections of values, which can be of any data type, and are represented with parentheses. Tuples are immutable, meaning that once they are created, their values cannot be changed. This makes them useful for representing fixed data, such as a date or a coordinate pair. Tuples can be accessed using indexing, and they can be unpacked into variables to assign their values to individual variables."
   ]
  },
  {
   "attachments": {},
   "cell_type": "markdown",
   "metadata": {},
   "source": [
    "Q2. What are the two tuple methods in python? Give an example of each method. Give a reason why \n",
    "tuples have only two in-built methods as compared to Lists."
   ]
  },
  {
   "attachments": {},
   "cell_type": "markdown",
   "metadata": {},
   "source": [
    "Answer: The two tuple methods are 'count()' and 'index()'\n",
    "\n",
    "1. count(): This method returns the number of times a specified element appears in the tuple.\n",
    "\n",
    "example:"
   ]
  },
  {
   "cell_type": "code",
   "execution_count": 12,
   "metadata": {},
   "outputs": [
    {
     "name": "stdout",
     "output_type": "stream",
     "text": [
      "3\n"
     ]
    }
   ],
   "source": [
    "t_1=(1,2,3,2,4,2)\n",
    "count=t_1.count(2)\n",
    "print(count)"
   ]
  },
  {
   "attachments": {},
   "cell_type": "markdown",
   "metadata": {},
   "source": [
    "2. index(): This method returns the index of the first occurrence of a specified element in the tuple\n",
    "\n",
    "example:"
   ]
  },
  {
   "cell_type": "code",
   "execution_count": 13,
   "metadata": {},
   "outputs": [
    {
     "name": "stdout",
     "output_type": "stream",
     "text": [
      "4\n"
     ]
    }
   ],
   "source": [
    "t_2=(1,2,3,2,4,2)\n",
    "index=t_1.index(4)\n",
    "print(index)"
   ]
  },
  {
   "attachments": {},
   "cell_type": "markdown",
   "metadata": {},
   "source": [
    "Tuples have only two in-built methods, compared to lists, because tuples are immutable, and therefore don't require methods for adding, removing or modifying their elements. Lists, on the other hand, are mutable, and have many methods that can add, remove or modify their elements, such as 'append', 'insert', 'remove', and 'pop'"
   ]
  },
  {
   "attachments": {},
   "cell_type": "markdown",
   "metadata": {},
   "source": [
    "Q3.  Which collection datatypes in python do not allow duplicate items? Write a code using a set to remove \n",
    "duplicates from the given list.\n",
    "\n",
    "ist = [1, 1, 1, 2, 1, 3, 1, 4, 2, 1, 2, 2, 2, 3, 2, 4, 3, 1, 3, 2, 3, 3, 3, 4, 4, 1, 4, 2, 4, 3, 4, 4]"
   ]
  },
  {
   "attachments": {},
   "cell_type": "markdown",
   "metadata": {},
   "source": [
    "Answer:  'set' and 'frozenset' are collection datatypes in Python that do not allow duplicate items"
   ]
  },
  {
   "cell_type": "code",
   "execution_count": 14,
   "metadata": {},
   "outputs": [
    {
     "name": "stdout",
     "output_type": "stream",
     "text": [
      "[1, 1, 1, 2, 1, 3, 1, 4, 2, 1, 2, 2, 2, 3, 2, 4, 3, 1, 3, 2, 3, 3, 3, 4, 4, 1, 4, 2, 4, 3, 4, 4]\n",
      "[1, 2, 3, 4]\n"
     ]
    }
   ],
   "source": [
    "t = [1, 1, 1, 2, 1, 3, 1, 4, 2, 1, 2, 2, 2, 3, 2, 4, 3, 1, 3, 2, 3, 3, 3, 4, 4, 1, 4, 2, 4, 3, 4, 4]\n",
    "print(t)\n",
    "\n",
    "t=list(set(t))\n",
    "print(t)"
   ]
  },
  {
   "attachments": {},
   "cell_type": "markdown",
   "metadata": {},
   "source": [
    "Q4. Explain the difference between the union() and update() methods for a set. Give an example of \n",
    "each method."
   ]
  },
  {
   "attachments": {},
   "cell_type": "markdown",
   "metadata": {},
   "source": [
    "Answer: Both union() and update() methods are used to combine two or more sets in Python, but they differ in the way they modify the original set and return the result.\n",
    "\n",
    "union() method returns a new set that contains all the unique elements from the original set as well as all the unique elements from the set(s) provided as argument(s). The original set is not modified by the union() method.\n",
    "\n",
    "Example:"
   ]
  },
  {
   "cell_type": "code",
   "execution_count": 15,
   "metadata": {},
   "outputs": [
    {
     "name": "stdout",
     "output_type": "stream",
     "text": [
      "{1, 2, 3, 4, 5}\n",
      "{1, 2, 3}\n"
     ]
    }
   ],
   "source": [
    "set1= {1,2,3}\n",
    "set2= {3,4,5}\n",
    "union_set= set1.union(set2)\n",
    "print(union_set)\n",
    "print(set1)"
   ]
  },
  {
   "attachments": {},
   "cell_type": "markdown",
   "metadata": {},
   "source": [
    "update() method updates the original set by adding all the unique elements from the set(s) provided as argument(s). The update() method modifies the original set and does not return anything.\n",
    "\n",
    "Example"
   ]
  },
  {
   "cell_type": "code",
   "execution_count": 16,
   "metadata": {},
   "outputs": [
    {
     "name": "stdout",
     "output_type": "stream",
     "text": [
      "{1, 2, 3, 4, 5}\n"
     ]
    }
   ],
   "source": [
    "set1= {1,2,3}\n",
    "set2= {3,4,5}\n",
    "set1.update(set2)\n",
    "print(set1)"
   ]
  },
  {
   "attachments": {},
   "cell_type": "markdown",
   "metadata": {},
   "source": [
    "Q5. What is a dictionary? Give an example. Also, state whether a dictionary is ordered or unordered."
   ]
  },
  {
   "attachments": {},
   "cell_type": "markdown",
   "metadata": {},
   "source": [
    "Answer: In Python, a dictionary is a collection of key-value pairs, where each key is unique and maps to a corresponding value. Dictionaries are enclosed in curly braces{ }, and each key-value pair is separated by a colon :. The keys and values can be of any data type, and they are separated by commas.\n",
    "\n",
    "Example:"
   ]
  },
  {
   "cell_type": "code",
   "execution_count": 17,
   "metadata": {},
   "outputs": [],
   "source": [
    "ma_dict={ \"name\":\"Surya Yashswini\" , \"Age\":\"18\" , \"Gender\":\"Female\"}"
   ]
  },
  {
   "attachments": {},
   "cell_type": "markdown",
   "metadata": {},
   "source": [
    "Q6. Can we create a nested dictionary? If so, please give an example by creating a simple one-level \n",
    "nested dictionary"
   ]
  },
  {
   "attachments": {},
   "cell_type": "markdown",
   "metadata": {},
   "source": [
    "Answer: Yes, we can create a nested dictionary in Python. A nested dictionary is a dictionary that contains one or more dictionaries as values for its keys. To create a nested dictionary, we can simply use a dictionary as the value for a key in another dictionary.\n",
    "\n",
    "Here is an example of a simple one level nested dictionary:"
   ]
  },
  {
   "cell_type": "code",
   "execution_count": 18,
   "metadata": {},
   "outputs": [
    {
     "name": "stdout",
     "output_type": "stream",
     "text": [
      "19\n"
     ]
    }
   ],
   "source": [
    "ma_dict1= {\n",
    "    \"person1\" : {\"name\":\"Surya Yashswini\",\"Age\":\"18\"} ,\n",
    "    \"person2\" : {\"name\":\"Narayan Naik\",\"Age\":\"19\"} ,\n",
    "    \"person3\" : {\"name\":\"Srinivas K S\",\"Age\":\"20\"} ,\n",
    "}\n",
    "\n",
    "#to access values through key of nested dictionary example\n",
    "age= ma_dict1[\"person2\"][\"Age\"]\n",
    "print(age)"
   ]
  },
  {
   "attachments": {},
   "cell_type": "markdown",
   "metadata": {},
   "source": [
    "Q7. Using setdefault() method, create key named topics in the given dictionary and also add the value of the key as the list ['Pyhton','Machine Learning','Deep Learning']\n",
    "\n",
    "dict1 = {'language' : 'Python', 'course': 'Data Science Masters'}\n"
   ]
  },
  {
   "cell_type": "code",
   "execution_count": 19,
   "metadata": {},
   "outputs": [
    {
     "name": "stdout",
     "output_type": "stream",
     "text": [
      "{'language': 'Python', 'course': 'Data Science Masters', 'topics': ['Python', 'Machine Learning', 'Deep Learning']}\n"
     ]
    }
   ],
   "source": [
    "dict1 = {'language': 'Python', 'course': 'Data Science Masters'}\n",
    "dict1.setdefault('topics', ['Python', 'Machine Learning', 'Deep Learning'])\n",
    "\n",
    "print(dict1)"
   ]
  },
  {
   "attachments": {},
   "cell_type": "markdown",
   "metadata": {},
   "source": [
    "Q8. What are the three view objects in dictionaries? Use the three in-built methods in python to display \n",
    "these three view objects for the given dictionary.\n",
    "\n",
    "\n",
    "dict1 = {'Sport': 'Cricket' , 'Teams': ['India', 'Australia', 'England', 'South Africa', 'Sri Lanka', 'New Zealand']}"
   ]
  },
  {
   "attachments": {},
   "cell_type": "markdown",
   "metadata": {},
   "source": [
    "Answer: There are three view objects in Python dictionaries:\n",
    "\n",
    "dict.keys(): This view object contains the keys of the dictionary.\n",
    "\n",
    "dict.values(): This view object contains the values of the dictionary.\n",
    "\n",
    "dict.items(): This view object contains the key-value pairs of the dictionary.\n"
   ]
  },
  {
   "cell_type": "code",
   "execution_count": 20,
   "metadata": {},
   "outputs": [
    {
     "name": "stdout",
     "output_type": "stream",
     "text": [
      "dict_keys view object: dict_keys(['Sport', 'Teams'])\n",
      "dict_values view object: dict_values(['Cricket', ['India', 'Australia', 'England', 'South Africa', 'Sri Lanka', 'New Zealand']])\n",
      "dict_items view object: dict_items([('Sport', 'Cricket'), ('Teams', ['India', 'Australia', 'England', 'South Africa', 'Sri Lanka', 'New Zealand'])])\n"
     ]
    }
   ],
   "source": [
    "dict1 = {\"Sport\": \"Cricket\", \"Teams\": [\"India\", \"Australia\", \"England\", \"South Africa\", \"Sri Lanka\", \"New Zealand\"]}\n",
    "\n",
    "keys_view = dict1.keys()\n",
    "print(\"dict_keys view object:\", keys_view)\n",
    "\n",
    "values_view = dict1.values()\n",
    "print(\"dict_values view object:\", values_view)\n",
    "\n",
    "items_view = dict1.items()\n",
    "print(\"dict_items view object:\", items_view)"
   ]
  }
 ],
 "metadata": {
  "kernelspec": {
   "display_name": "Python 3",
   "language": "python",
   "name": "python3"
  },
  "language_info": {
   "codemirror_mode": {
    "name": "ipython",
    "version": 3
   },
   "file_extension": ".py",
   "mimetype": "text/x-python",
   "name": "python",
   "nbconvert_exporter": "python",
   "pygments_lexer": "ipython3",
   "version": "3.10.10"
  },
  "orig_nbformat": 4,
  "vscode": {
   "interpreter": {
    "hash": "a226a5ffac47fed56f49b199961a53486197ae7417e8c41efae72294227e3d7f"
   }
  }
 },
 "nbformat": 4,
 "nbformat_minor": 2
}
