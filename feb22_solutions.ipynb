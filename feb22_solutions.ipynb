{
 "cells": [
  {
   "attachments": {},
   "cell_type": "markdown",
   "metadata": {},
   "source": [
    "Q1. Create a Pandas Series that contains the following data: 4, 8, 15, 16, 23, and 42. Then, print the series."
   ]
  },
  {
   "cell_type": "code",
   "execution_count": 1,
   "metadata": {},
   "outputs": [
    {
     "name": "stdout",
     "output_type": "stream",
     "text": [
      "0     4\n",
      "1     8\n",
      "2    15\n",
      "3    16\n",
      "4    23\n",
      "5    42\n",
      "dtype: int64\n"
     ]
    }
   ],
   "source": [
    "import pandas as pd\n",
    "\n",
    "my_series = pd.Series([4, 8, 15, 16, 23, 42])\n",
    "\n",
    "print(my_series)"
   ]
  },
  {
   "attachments": {},
   "cell_type": "markdown",
   "metadata": {},
   "source": [
    "Q2. Create a variable of list type containing 10 elements in it, and apply pandas.Series function on the\n",
    "variable print it."
   ]
  },
  {
   "cell_type": "code",
   "execution_count": 2,
   "metadata": {},
   "outputs": [
    {
     "name": "stdout",
     "output_type": "stream",
     "text": [
      "0     1\n",
      "1     2\n",
      "2     3\n",
      "3     4\n",
      "4     5\n",
      "5     6\n",
      "6     7\n",
      "7     8\n",
      "8     9\n",
      "9    10\n",
      "dtype: int64\n"
     ]
    }
   ],
   "source": [
    "import pandas as pd\n",
    "\n",
    "my_list = [1, 2, 3, 4, 5, 6, 7, 8, 9, 10]\n",
    "\n",
    "my_series = pd.Series(my_list)\n",
    "\n",
    "print(my_series)"
   ]
  },
  {
   "attachments": {},
   "cell_type": "markdown",
   "metadata": {},
   "source": [
    "Q3. Create a Pandas DataFrame that contains the following data:\n",
    "\n",
    "| Name| Age| Gender|\n",
    "| --- | --- | --- |\n",
    "| Alice | 25 | Female |\n",
    "| Bob | 30| Male |\n",
    "| Claire | 27 | Female |\n",
    "\n",
    "Then, print the DataFrame."
   ]
  },
  {
   "cell_type": "code",
   "execution_count": 3,
   "metadata": {},
   "outputs": [
    {
     "name": "stdout",
     "output_type": "stream",
     "text": [
      "     Name  Age  Gender\n",
      "0   Alice   25  Female\n",
      "1     Bob   30    Male\n",
      "2  Claire   27  Female\n"
     ]
    }
   ],
   "source": [
    "import pandas as pd\n",
    "\n",
    "data = {'Name': ['Alice', 'Bob', 'Claire'],\n",
    "        'Age': [25, 30, 27],\n",
    "        'Gender': ['Female', 'Male', 'Female']}\n",
    "\n",
    "df = pd.DataFrame(data)\n",
    "print(df)"
   ]
  },
  {
   "attachments": {},
   "cell_type": "markdown",
   "metadata": {},
   "source": [
    "Q4. What is ‘DataFrame’ in pandas and how is it different from pandas.series? Explain with an example."
   ]
  },
  {
   "attachments": {},
   "cell_type": "markdown",
   "metadata": {},
   "source": [
    "Answer: <br> A DataFrame is a two-dimensional size-mutable, tabular data structure with labeled axes (rows and columns) in pandas. It can be thought of as a spreadsheet or SQL table. It is a primary object in pandas, and all data-related operations are designed to work efficiently with DataFrame objects.\n",
    "\n",
    "On the other hand, a pandas.series is a one-dimensional labeled array capable of holding data of any type (integer, string, float, python objects, etc.). It is very similar to a column in a spreadsheet or SQL table.\n",
    "\n",
    "The main difference between a DataFrame and a Series is their dimensions. A Series is a single column of data, while a DataFrame can have one or more columns"
   ]
  },
  {
   "cell_type": "code",
   "execution_count": 4,
   "metadata": {},
   "outputs": [
    {
     "name": "stdout",
     "output_type": "stream",
     "text": [
      "      Name  Maths  Science  English\n",
      "0    Alice     90       75       80\n",
      "1      Bob     80       85       75\n",
      "2  Charlie     70       80       90\n",
      "3    David     85       90       70\n"
     ]
    }
   ],
   "source": [
    "import pandas as pd\n",
    "\n",
    "data = {\"Name\": [\"Alice\", \"Bob\", \"Charlie\", \"David\"],\n",
    "        \"Maths\": [90, 80, 70, 85],\n",
    "        \"Science\": [75, 85, 80, 90],\n",
    "        \"English\": [80, 75, 90, 70]}\n",
    "\n",
    "df = pd.DataFrame(data)\n",
    "\n",
    "print(df)"
   ]
  },
  {
   "attachments": {},
   "cell_type": "markdown",
   "metadata": {},
   "source": [
    "Q5. What are some common functions you can use to manipulate data in a Pandas DataFrame? Can\n",
    "you give an example of when you might use one of these functions?"
   ]
  },
  {
   "attachments": {},
   "cell_type": "markdown",
   "metadata": {},
   "source": [
    "Answer : <br>\n",
    "\n",
    "\n",
    "There are numerous common functions in Pandas to manipulate data in a DataFrame, some of which are:\n",
    "\n",
    "1. `df.head()` - returns the first n rows of the DataFrame.\n",
    "2. `df.tail()` - returns the last n rows of the DataFrame.\n",
    "3. `df.describe()` - returns a summary of statistics for each column in the DataFrame.\n",
    "4. `df.sort_values()` - sorts the DataFrame by one or more columns.\n",
    "5. `df.groupby()` - groups the DataFrame by one or more columns and applies a function to each group.\n",
    "\n",
    "For example, you might use the `df.sort_values()` function to sort a DataFrame by a specific column, such as sorting a dataset of student grades by the grade received in a particular subject. This can help you identify which students are struggling or excelling in a given subject. Similarly, you might use the `df.groupby()` function to group a dataset of sales data by region or product category and compute the total sales for each group. This can help you identify which regions or products are generating the most revenue."
   ]
  },
  {
   "attachments": {},
   "cell_type": "markdown",
   "metadata": {},
   "source": [
    "Q6. Which of the following is mutable in nature Series, DataFrame, Panel?"
   ]
  },
  {
   "attachments": {},
   "cell_type": "markdown",
   "metadata": {},
   "source": [
    "Answer: <br>\n",
    "Both Series and DataFrame are mutable in nature, meaning that their values can be changed after their creation. However, Panel objects are no longer recommended and have been replaced by multi-level indexed Series and DataFrame objects"
   ]
  },
  {
   "attachments": {},
   "cell_type": "markdown",
   "metadata": {},
   "source": [
    "Q7. Create a DataFrame using multiple Series. Explain with an example."
   ]
  },
  {
   "attachments": {},
   "cell_type": "markdown",
   "metadata": {},
   "source": [
    "Answer: <br>\n",
    "A Series is a one-dimensional labeled array capable of holding data of any type (integer, string, float, python objects, etc.). It can be created using a list, tuple, dictionary or even a scalar value."
   ]
  },
  {
   "cell_type": "code",
   "execution_count": 5,
   "metadata": {},
   "outputs": [
    {
     "name": "stdout",
     "output_type": "stream",
     "text": [
      "    Name  Age  Gender\n",
      "0   John   25    Male\n",
      "1   Mike   32    Male\n",
      "2  Sarah   28  Female\n"
     ]
    }
   ],
   "source": [
    "import pandas as pd\n",
    "\n",
    "s1 = pd.Series(['John', 'Mike', 'Sarah'])\n",
    "s2 = pd.Series([25, 32, 28])\n",
    "s3 = pd.Series(['Male', 'Male', 'Female'])\n",
    "\n",
    "df = pd.DataFrame({'Name': s1, 'Age': s2, 'Gender': s3})\n",
    "\n",
    "print(df)"
   ]
  }
 ],
 "metadata": {
  "kernelspec": {
   "display_name": "Python 3",
   "language": "python",
   "name": "python3"
  },
  "language_info": {
   "codemirror_mode": {
    "name": "ipython",
    "version": 3
   },
   "file_extension": ".py",
   "mimetype": "text/x-python",
   "name": "python",
   "nbconvert_exporter": "python",
   "pygments_lexer": "ipython3",
   "version": "3.10.10"
  },
  "orig_nbformat": 4
 },
 "nbformat": 4,
 "nbformat_minor": 2
}
