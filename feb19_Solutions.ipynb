{
 "cells": [
  {
   "attachments": {},
   "cell_type": "markdown",
   "metadata": {},
   "source": [
    "Q1. What is Flask Framework? What are the advantages of Flask Framework?"
   ]
  },
  {
   "attachments": {},
   "cell_type": "markdown",
   "metadata": {},
   "source": [
    "Answer: \n",
    "Flask is a web framework for Python that allows you to build web applications quickly and easily. It is a lightweight and flexible framework that provides a simple yet powerful way to create web applications using Python.\n",
    "\n",
    "Some of the advantages of using Flask include:\n",
    "\n",
    "- Lightweight: Flask is a lightweight framework with a small codebase, which means it is easy to learn and quick to get started with. It does not come with a lot of pre-built functionality, but it is very flexible and can be easily extended using third-party libraries.\n",
    "\n",
    "- Simple to use: Flask is designed to be simple and easy to use. Its API is intuitive and easy to understand, which makes it a great choice for beginners and experienced developers alike.\n",
    "\n",
    "- Flexible: Flask is a flexible framework that allows you to customize your application to meet your specific needs. It does not impose any specific patterns or structures on your application, which gives you the freedom to choose how you want to structure your code.\n",
    "\n",
    "- Modular: Flask is a modular framework that allows you to add and remove functionality as needed. You can use Flask to build small applications or large-scale applications, and you can easily integrate it with other Python libraries and frameworks.\n",
    "\n",
    "- Extensible: Flask can be easily extended using a wide range of third-party libraries and extensions. These extensions provide additional functionality for things like database integration, authentication, and testing.\n",
    "\n",
    "Overall, Flask is a powerful and flexible web framework that makes it easy to build web applications with Python. Its lightweight and simple design make it a great choice for a wide range of projects, from small web applications to large-scale enterprise applications"
   ]
  },
  {
   "attachments": {},
   "cell_type": "markdown",
   "metadata": {},
   "source": [
    "Q2. Create a simple Flask application to display ‘Hello World!!’. Attach the screenshot of the output in\n",
    "Jupyter Notebook."
   ]
  },
  {
   "cell_type": "code",
   "execution_count": 10,
   "metadata": {},
   "outputs": [
    {
     "name": "stdout",
     "output_type": "stream",
     "text": [
      " * Serving Flask app '__main__'\n",
      " * Debug mode: off\n"
     ]
    },
    {
     "name": "stderr",
     "output_type": "stream",
     "text": [
      "WARNING: This is a development server. Do not use it in a production deployment. Use a production WSGI server instead.\n",
      " * Running on all addresses (0.0.0.0)\n",
      " * Running on http://127.0.0.1:5000\n",
      " * Running on http://192.168.36.127:5000\n",
      "Press CTRL+C to quit\n"
     ]
    }
   ],
   "source": [
    "from flask import Flask\n",
    "\n",
    "app1 = Flask(__name__)\n",
    "\n",
    "@app1.route('/hello')\n",
    "def hello():\n",
    "    return '<h1> Hello World! </h1>'\n",
    "\n",
    "if __name__ == \"__main__\":\n",
    "    app1.run(host=\"0.0.0.0\")"
   ]
  },
  {
   "attachments": {},
   "cell_type": "markdown",
   "metadata": {},
   "source": [
    "![Alt text](Screenshot%20(51).png)"
   ]
  },
  {
   "attachments": {},
   "cell_type": "markdown",
   "metadata": {},
   "source": [
    "Q3. What is App routing in Flask? Why do we use app routes?"
   ]
  },
  {
   "attachments": {},
   "cell_type": "markdown",
   "metadata": {},
   "source": [
    "Answer:\n",
    "In Flask, app routing is the process of mapping URLs to view functions that handle HTTP requests. It allows you to define URL patterns for your application and specify which view function should be called when a particular URL is requested.\n",
    "\n",
    "App routes are used in Flask to define the URLs that your application will respond to. They allow you to define the different pages of your application and how users can access them. App routes can be defined using the @app.route decorator, which is a built-in decorator in Flask.\n",
    "\n",
    "Overall, app routing is a key feature of Flask that makes it easy to build web applications with clean and organized URLs. It helps you create a clear and consistent structure for your application, making it easier to understand and maintain"
   ]
  },
  {
   "attachments": {},
   "cell_type": "markdown",
   "metadata": {},
   "source": [
    "Q4. Create a “/welcome” route to display the welcome message “Welcome to ABC Corporation” and a “/”\n",
    "route to show the following details:\n",
    "\n",
    "Company Name: ABC Corporation\n",
    "\n",
    "Location: India\n",
    "\n",
    "Contact Detail: 999-999-9999\n",
    "\n",
    "Attach the screenshot of the output in Jupyter Notebook."
   ]
  },
  {
   "cell_type": "code",
   "execution_count": 9,
   "metadata": {},
   "outputs": [
    {
     "name": "stdout",
     "output_type": "stream",
     "text": [
      " * Serving Flask app '__main__'\n",
      " * Debug mode: off\n"
     ]
    },
    {
     "name": "stderr",
     "output_type": "stream",
     "text": [
      "WARNING: This is a development server. Do not use it in a production deployment. Use a production WSGI server instead.\n",
      " * Running on all addresses (0.0.0.0)\n",
      " * Running on http://127.0.0.1:5000\n",
      " * Running on http://192.168.36.127:5000\n",
      "Press CTRL+C to quit\n"
     ]
    }
   ],
   "source": [
    "from flask import Flask\n",
    "\n",
    "app = Flask(__name__)\n",
    "\n",
    "@app.route('/welcome')\n",
    "def welcome():\n",
    "    return 'Welcome to ABC Corporation'\n",
    "\n",
    "@app.route('/')\n",
    "def info():\n",
    "    info_str = '<h1> Comapany Name : ABC Corporation ; Location : India ; Contact Detail : 999-999-9999 </h1>'\n",
    "    return info_str\n",
    "\n",
    "if __name__ == \"__main__\":\n",
    "    app.run(host='0.0.0.0')"
   ]
  },
  {
   "attachments": {},
   "cell_type": "markdown",
   "metadata": {},
   "source": [
    "![Alt text](Screenshot%20(53).png)"
   ]
  },
  {
   "attachments": {},
   "cell_type": "markdown",
   "metadata": {},
   "source": [
    "![Alt text](Screenshot%20(52).png)"
   ]
  },
  {
   "attachments": {},
   "cell_type": "markdown",
   "metadata": {},
   "source": [
    "Q5. What function is used in Flask for URL Building? Write a Python code to demonstrate the working of the\n",
    "url_for() function."
   ]
  },
  {
   "attachments": {},
   "cell_type": "markdown",
   "metadata": {},
   "source": [
    "Answer: \n",
    "The url_for() function is used in Flask for building URLs for a given endpoint. It takes the name of the endpoint and any arguments that are required for the endpoint as its parameters, and returns a URL that can be used to access the endpoint."
   ]
  },
  {
   "cell_type": "code",
   "execution_count": 20,
   "metadata": {},
   "outputs": [
    {
     "name": "stdout",
     "output_type": "stream",
     "text": [
      "/\n",
      "/user/Jarvis\n"
     ]
    }
   ],
   "source": [
    "from flask import Flask, url_for\n",
    "\n",
    "app2 = Flask(__name__)\n",
    "\n",
    "@app2.route('/')\n",
    "def indo():\n",
    "    return 'Helloi'\n",
    "\n",
    "@app2.route('/user/<username>')\n",
    "def profile(username):\n",
    "    return f'Hello , {username}!'\n",
    "\n",
    "if __name__ == '__main__':\n",
    "    with app2.test_request_context():\n",
    "        print(url_for('indo'))\n",
    "        print(url_for('profile', username = \"Jarvis\"))"
   ]
  },
  {
   "attachments": {},
   "cell_type": "markdown",
   "metadata": {},
   "source": [
    "Inside the if \\__\\_name_\\_\\_ == '\\__\\_main_\\_\\_' block, we create a test request context using the test_request_context() method. This allows us to use the url_for() function outside of the request context.\n",
    "\n",
    "We then call the url_for() function twice, passing in the names of the endpoints we want to build URLs for. The first call builds a URL for the index() function, which doesn't require any arguments. The second call builds a URL for the profile() function, passing in the username argument as a keyword argument"
   ]
  }
 ],
 "metadata": {
  "kernelspec": {
   "display_name": "Python 3",
   "language": "python",
   "name": "python3"
  },
  "language_info": {
   "codemirror_mode": {
    "name": "ipython",
    "version": 3
   },
   "file_extension": ".py",
   "mimetype": "text/x-python",
   "name": "python",
   "nbconvert_exporter": "python",
   "pygments_lexer": "ipython3",
   "version": "3.10.10"
  },
  "orig_nbformat": 4,
  "vscode": {
   "interpreter": {
    "hash": "a226a5ffac47fed56f49b199961a53486197ae7417e8c41efae72294227e3d7f"
   }
  }
 },
 "nbformat": 4,
 "nbformat_minor": 2
}
