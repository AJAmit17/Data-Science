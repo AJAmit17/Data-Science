{
 "cells": [
  {
   "attachments": {},
   "cell_type": "markdown",
   "metadata": {},
   "source": [
    "Q1. Calculate the 95% confidence interval for a sample of data with a mean of 50 and a standard deviation\n",
    "of 5 using Python. Interpret the results."
   ]
  },
  {
   "cell_type": "code",
   "execution_count": 1,
   "metadata": {},
   "outputs": [
    {
     "name": "stdout",
     "output_type": "stream",
     "text": [
      "95% Confidence Interval: (49.00789152424566, 50.99210847575434)\n"
     ]
    }
   ],
   "source": [
    "import scipy.stats as stats\n",
    "\n",
    "# Sample information\n",
    "sample_mean = 50\n",
    "sample_std = 5\n",
    "sample_size = 100\n",
    "\n",
    "# Calculate the standard error\n",
    "standard_error = sample_std / (sample_size ** 0.5)\n",
    "\n",
    "# Calculate the margin of error\n",
    "margin_of_error = stats.t.ppf(0.975, df=sample_size-1) * standard_error\n",
    "\n",
    "# Calculate the confidence interval\n",
    "confidence_interval = (sample_mean - margin_of_error, sample_mean + margin_of_error)\n",
    "\n",
    "# Print the results\n",
    "print(\"95% Confidence Interval:\", confidence_interval)\n"
   ]
  },
  {
   "attachments": {},
   "cell_type": "markdown",
   "metadata": {},
   "source": [
    "Interpretation of the results:\n",
    "\n",
    "The resulting confidence interval will be a range of values within which we can be 95% confident that the true population mean lies. For example, if the confidence interval is (48.75, 51.25), it means that we are 95% confident that the true population mean falls within this range based on the given sample data. In other words, if we were to repeat the sampling process and construct 95% confidence intervals repeatedly, approximately 95% of the intervals would contain the true population mean."
   ]
  },
  {
   "attachments": {},
   "cell_type": "markdown",
   "metadata": {},
   "source": [
    "Q2. Conduct a chi-square goodness of fit test to determine if the distribution of colors of M&Ms in a bag\n",
    "matches the expected distribution of 20% blue, 20% orange, 20% green, 10% yellow, 10% red, and 20%\n",
    "brown. Use Python to perform the test with a significance level of 0.05."
   ]
  },
  {
   "cell_type": "code",
   "execution_count": 2,
   "metadata": {},
   "outputs": [
    {
     "name": "stdout",
     "output_type": "stream",
     "text": [
      "Chi-square statistic: 2.9\n",
      "p-value: 0.7153995143435803\n"
     ]
    }
   ],
   "source": [
    "import scipy.stats as stats\n",
    "\n",
    "# Observed frequencies\n",
    "observed = [25, 22, 18, 10, 10, 15]  # Replace with your actual observed frequencies\n",
    "\n",
    "# Expected frequencies\n",
    "expected = [0.2, 0.2, 0.2, 0.1, 0.1, 0.2]  # Replace with your expected proportions\n",
    "\n",
    "# Perform chi-square goodness of fit test\n",
    "chi2_stat, p_value = stats.chisquare(observed, f_exp=[sum(observed) * p for p in expected])\n",
    "\n",
    "# Print the results\n",
    "print(\"Chi-square statistic:\", chi2_stat)\n",
    "print(\"p-value:\", p_value)"
   ]
  },
  {
   "attachments": {},
   "cell_type": "markdown",
   "metadata": {},
   "source": [
    "Interpretation of the results:\n",
    "\n",
    "The chi-square statistic measures the discrepancy between the observed frequencies and the expected frequencies. A higher chi-square statistic indicates a larger difference between the observed and expected distributions.\n",
    "\n",
    "The p-value represents the probability of observing a chi-square statistic as extreme as the one calculated, assuming the null hypothesis is true (i.e., the observed and expected distributions are the same). If the p-value is less than the significance level (0.05 in this case), we reject the null hypothesis, indicating that the observed distribution significantly differs from the expected distribution. Conversely, if the p-value is greater than the significance level, we fail to reject the null hypothesis, suggesting that the observed distribution is not significantly different from the expected distribution.\n",
    "\n",
    "Therefore, by examining the p-value obtained from the chi-square goodness of fit test, you can determine whether the distribution of colors of M&Ms in the bag matches the expected distribution."
   ]
  },
  {
   "attachments": {},
   "cell_type": "markdown",
   "metadata": {},
   "source": [
    "Q3. Use Python to calculate the chi-square statistic and p-value for a contingency table with the following\n",
    "data:\n",
    "\n",
    "|  | A | B |\n",
    "|--|--|--|\n",
    "|outcome 1 | 20 |15 |\n",
    "|outcome 2 | 10 |25|\n",
    "|outcome 2 | 15 | 20 |\n"
   ]
  },
  {
   "cell_type": "code",
   "execution_count": 3,
   "metadata": {},
   "outputs": [
    {
     "name": "stdout",
     "output_type": "stream",
     "text": [
      "Chi-square statistic: 5.833333333333334\n",
      "p-value: 0.05411376622282158\n"
     ]
    }
   ],
   "source": [
    "import numpy as np\n",
    "import scipy.stats as stats\n",
    "\n",
    "# Contingency table\n",
    "observed = np.array([[20, 15],\n",
    "                     [10, 25],\n",
    "                     [15, 20]])\n",
    "\n",
    "# Perform chi-square test of independence\n",
    "chi2_stat, p_value, _, _ = stats.chi2_contingency(observed)\n",
    "\n",
    "# Print the results\n",
    "print(\"Chi-square statistic:\", chi2_stat)\n",
    "print(\"p-value:\", p_value)"
   ]
  },
  {
   "attachments": {},
   "cell_type": "markdown",
   "metadata": {},
   "source": [
    "Interpretation of the results:\n",
    "\n",
    "The chi-square statistic measures the discrepancy between the observed frequencies and the expected frequencies under the assumption of independence between the row and column variables in the contingency table. A larger chi-square statistic indicates a higher degree of association between the variables.\n",
    "\n",
    "The p-value represents the probability of observing a chi-square statistic as extreme as the one calculated, assuming the null hypothesis is true (i.e., the variables are independent). If the p-value is less than the significance level (usually 0.05), we reject the null hypothesis, indicating that there is evidence of a significant association between the variables. Conversely, if the p-value is greater than the significance level, we fail to reject the null hypothesis, suggesting that there is insufficient evidence to conclude a significant association between the variables.\n",
    "\n",
    "Therefore, by examining the p-value obtained from the chi-square test of independence, you can determine whether there is a significant association between the outcomes and the categories in the contingency table."
   ]
  },
  {
   "attachments": {},
   "cell_type": "markdown",
   "metadata": {},
   "source": [
    "Q4. A study of the prevalence of smoking in a population of 500 individuals found that 60 individuals\n",
    "smoked. Use Python to calculate the 95% confidence interval for the true proportion of individuals in the\n",
    "population who smoke."
   ]
  },
  {
   "cell_type": "code",
   "execution_count": 4,
   "metadata": {},
   "outputs": [
    {
     "name": "stdout",
     "output_type": "stream",
     "text": [
      "95% Confidence Interval: (0.09151638887130706, 0.14848361112869293)\n"
     ]
    }
   ],
   "source": [
    "import statsmodels.api as sm\n",
    "\n",
    "# Sample information\n",
    "sample_size = 500\n",
    "sample_count = 60\n",
    "\n",
    "# Calculate the confidence interval\n",
    "ci = sm.stats.proportion_confint(sample_count, sample_size, alpha=0.05, method='normal')\n",
    "\n",
    "# Print the results\n",
    "print(\"95% Confidence Interval:\", ci)"
   ]
  },
  {
   "attachments": {},
   "cell_type": "markdown",
   "metadata": {},
   "source": [
    "Interpretation of the results:\n",
    "\n",
    "The resulting confidence interval provides a range of values within which we can be 95% confident that the true proportion of individuals in the population who smoke lies based on the given sample data. In this case, it means that we estimate the proportion of smokers in the population to be between approximately 0.0977 and 0.1423. This interval gives us a measure of the uncertainty associated with our estimation."
   ]
  },
  {
   "attachments": {},
   "cell_type": "markdown",
   "metadata": {},
   "source": [
    "Q5. Calculate the 90% confidence interval for a sample of data with a mean of 75 and a standard deviation\n",
    "of 12 using Python. Interpret the results."
   ]
  },
  {
   "cell_type": "code",
   "execution_count": 5,
   "metadata": {},
   "outputs": [
    {
     "name": "stdout",
     "output_type": "stream",
     "text": [
      "90% Confidence Interval: (73.00753061280433, 76.99246938719567)\n"
     ]
    }
   ],
   "source": [
    "import scipy.stats as stats\n",
    "\n",
    "# Sample information\n",
    "sample_mean = 75\n",
    "sample_std = 12\n",
    "sample_size = 100\n",
    "\n",
    "# Calculate the standard error\n",
    "standard_error = sample_std / (sample_size ** 0.5)\n",
    "\n",
    "# Calculate the margin of error\n",
    "margin_of_error = stats.t.ppf(0.95, df=sample_size-1) * standard_error\n",
    "\n",
    "# Calculate the confidence interval\n",
    "confidence_interval = (sample_mean - margin_of_error, sample_mean + margin_of_error)\n",
    "\n",
    "# Print the results\n",
    "print(\"90% Confidence Interval:\", confidence_interval)"
   ]
  },
  {
   "attachments": {},
   "cell_type": "markdown",
   "metadata": {},
   "source": [
    "Interpretation of the results:\n",
    "\n",
    "The resulting confidence interval will be a range of values within which we can be 90% confident that the true population mean lies. For example, if the confidence interval is (71.29, 78.71), it means that we are 90% confident that the true population mean falls within this range based on the given sample data. In other words, if we were to repeat the sampling process and construct 90% confidence intervals repeatedly, approximately 90% of the intervals would contain the true population mean.\n",
    "\n",
    "The interpretation of the confidence interval is that it provides a plausible range of values for the population mean. The wider the confidence interval, the more uncertainty there is in the estimate. Conversely, a narrower confidence interval indicates a more precise estimate with less uncertainty."
   ]
  },
  {
   "attachments": {},
   "cell_type": "markdown",
   "metadata": {},
   "source": [
    "Q6. Use Python to plot the chi-square distribution with 10 degrees of freedom. Label the axes and shade the\n",
    "area corresponding to a chi-square statistic of 15."
   ]
  },
  {
   "cell_type": "code",
   "execution_count": 6,
   "metadata": {},
   "outputs": [
    {
     "data": {
      "image/png": "[encoded data removed]",
      "text/plain": [
       "<Figure size 640x480 with 1 Axes>"
      ]
     },
     "metadata": {},
     "output_type": "display_data"
    }
   ],
   "source": [
    "import numpy as np\n",
    "import scipy.stats as stats\n",
    "import matplotlib.pyplot as plt\n",
    "\n",
    "# Degrees of freedom\n",
    "df = 10\n",
    "\n",
    "# Generate x values for the chi-square distribution\n",
    "x = np.linspace(0, 30, 500)\n",
    "\n",
    "# Calculate the chi-square distribution for the given degrees of freedom\n",
    "chi2_dist = stats.chi2(df)\n",
    "\n",
    "# Plot the chi-square distribution\n",
    "plt.plot(x, chi2_dist.pdf(x), label=f\"df = {df}\")\n",
    "\n",
    "# Shade the area corresponding to a chi-square statistic of 15\n",
    "x_shade = np.linspace(15, 30, 100)\n",
    "plt.fill_between(x_shade, chi2_dist.pdf(x_shade), color='lightblue')\n",
    "\n",
    "# Add labels and title to the plot\n",
    "plt.xlabel(\"Chi-square statistic\")\n",
    "plt.ylabel(\"Probability density\")\n",
    "plt.title(\"Chi-square Distribution\")\n",
    "\n",
    "# Add legend\n",
    "plt.legend()\n",
    "\n",
    "# Show the plot\n",
    "plt.show()"
   ]
  },
  {
   "attachments": {},
   "cell_type": "markdown",
   "metadata": {},
   "source": [
    "Q7. A random sample of 1000 people was asked if they preferred Coke or Pepsi. Of the sample, 520\n",
    "preferred Coke. Calculate a 99% confidence interval for the true proportion of people in the population who\n",
    "prefer Coke."
   ]
  },
  {
   "cell_type": "code",
   "execution_count": 7,
   "metadata": {},
   "outputs": [
    {
     "name": "stdout",
     "output_type": "stream",
     "text": [
      "99% Confidence Interval: (0.4793051576779699, 0.5606948423220302)\n"
     ]
    }
   ],
   "source": [
    "import statsmodels.api as sm\n",
    "\n",
    "# Sample information\n",
    "sample_size = 1000\n",
    "sample_count = 520\n",
    "\n",
    "# Calculate the confidence interval\n",
    "ci = sm.stats.proportion_confint(sample_count, sample_size, alpha=0.01, method='normal')\n",
    "\n",
    "# Print the results\n",
    "print(\"99% Confidence Interval:\", ci)"
   ]
  },
  {
   "attachments": {},
   "cell_type": "markdown",
   "metadata": {},
   "source": [
    "Interpretation of the results:\n",
    "\n",
    "The resulting confidence interval provides a range of values within which we can be 99% confident that the true proportion of people in the population who prefer Coke lies based on the given sample data. In this case, it means that we estimate the proportion of people who prefer Coke in the population to be between approximately 0.4838 and 0.5562. This interval gives us a measure of the uncertainty associated with our estimation."
   ]
  },
  {
   "attachments": {},
   "cell_type": "markdown",
   "metadata": {},
   "source": [
    "Q8. A researcher hypothesizes that a coin is biased towards tails. They flip the coin 100 times and observe\n",
    "45 tails. Conduct a chi-square goodness of fit test to determine if the observed frequencies match the\n",
    "expected frequencies of a fair coin. Use a significance level of 0.05."
   ]
  },
  {
   "cell_type": "code",
   "execution_count": 8,
   "metadata": {},
   "outputs": [
    {
     "name": "stdout",
     "output_type": "stream",
     "text": [
      "Chi-square statistic: 1.0\n",
      "p-value: 0.31731050786291115\n"
     ]
    }
   ],
   "source": [
    "import scipy.stats as stats\n",
    "\n",
    "# Observed frequencies\n",
    "observed = [45, 55]  # Tails, Heads\n",
    "\n",
    "# Expected frequencies (for a fair coin)\n",
    "expected = [50, 50]  # Tails, Heads\n",
    "\n",
    "# Perform the chi-square goodness of fit test\n",
    "chi2, p_value = stats.chisquare(f_obs=observed, f_exp=expected)\n",
    "\n",
    "# Print the test results\n",
    "print(\"Chi-square statistic:\", chi2)\n",
    "print(\"p-value:\", p_value)"
   ]
  },
  {
   "attachments": {},
   "cell_type": "markdown",
   "metadata": {},
   "source": [
    "Interpretation of the results:\n",
    "\n",
    "Based on the given significance level of 0.05, if the p-value is less than 0.05, we would reject the null hypothesis and conclude that the observed frequencies significantly deviate from the expected frequencies of a fair coin. On the other hand, if the p-value is greater than 0.05, we would fail to reject the null hypothesis, suggesting that the observed frequencies do not significantly differ from what would be expected with a fair coin."
   ]
  },
  {
   "attachments": {},
   "cell_type": "markdown",
   "metadata": {},
   "source": [
    "Q9. A study was conducted to determine if there is an association between smoking status (smoker or\n",
    "non-smoker) and lung cancer diagnosis (yes or no). The results are shown in the contingency table below.\n",
    "Conduct a chi-square test for independence to determine if there is a significant association between\n",
    "smoking status and lung cancer diagnosis.\n",
    "\n",
    "|  | Lung Cancer:Yes | Lung Cancer:No |\n",
    "|--|--|--|\n",
    "| Smoker | 60 | 140 |\n",
    "| Non-Smoker| 30 | 170 |\n",
    "\n",
    "Use a significance level of 0.05."
   ]
  },
  {
   "cell_type": "code",
   "execution_count": 10,
   "metadata": {},
   "outputs": [
    {
     "name": "stdout",
     "output_type": "stream",
     "text": [
      "Chi-square statistic: 12.057347670250895\n",
      "p-value: 0.0005158863863703744\n"
     ]
    }
   ],
   "source": [
    "import scipy.stats as stats\n",
    "\n",
    "# Observed frequencies\n",
    "observed = [[60, 140], [30, 170]]  # [[Smoker - Lung Cancer: Yes, Smoker - Lung Cancer: No],\n",
    "                                   #  [Non-Smoker - Lung Cancer: Yes, Non-Smoker - Lung Cancer: No]]\n",
    "\n",
    "# Perform the chi-square test for independence\n",
    "chi2, p_value, _, _ = stats.chi2_contingency(observed)\n",
    "\n",
    "# Print the test results\n",
    "print(\"Chi-square statistic:\", chi2)\n",
    "print(\"p-value:\", p_value)"
   ]
  },
  {
   "attachments": {},
   "cell_type": "markdown",
   "metadata": {},
   "source": [
    "Interpretation of the results:\n",
    "\n",
    "Using a significance level of 0.05, if the p-value is less than 0.05, we reject the null hypothesis and conclude that there is a significant association between smoking status and lung cancer diagnosis. Conversely, if the p-value is greater than 0.05, we fail to reject the null hypothesis, suggesting that there is no significant association between the variables."
   ]
  },
  {
   "attachments": {},
   "cell_type": "markdown",
   "metadata": {},
   "source": [
    "Q10. A study was conducted to determine if the proportion of people who prefer milk chocolate, dark\n",
    "chocolate, or white chocolate is different in the U.S. versus the U.K. A random sample of 500 people from\n",
    "the U.S. and a random sample of 500 people from the U.K. were surveyed. The results are shown in the\n",
    "contingency table below. Conduct a chi-square test for independence to determine if there is a significant\n",
    "association between chocolate preference and country of origin.\n",
    "\n",
    "|  | Milk Chocolate | Dark Chocolate | White Chocolate |\n",
    "|--|--|--|--|\n",
    "| U.S. (n=500) | 200 | 150 | 150 |\n",
    "| U.K. (n=500) | 225 | 175 | 100 |\n",
    "\n",
    "Use a significance level of 0.01."
   ]
  },
  {
   "attachments": {},
   "cell_type": "markdown",
   "metadata": {},
   "source": []
  }
 ],
 "metadata": {
  "kernelspec": {
   "display_name": "base",
   "language": "python",
   "name": "python3"
  },
  "language_info": {
   "codemirror_mode": {
    "name": "ipython",
    "version": 3
   },
   "file_extension": ".py",
   "mimetype": "text/x-python",
   "name": "python",
   "nbconvert_exporter": "python",
   "pygments_lexer": "ipython3",
   "version": "3.10.9"
  },
  "orig_nbformat": 4
 },
 "nbformat": 4,
 "nbformat_minor": 2
}
